{
  "nbformat": 4,
  "nbformat_minor": 0,
  "metadata": {
    "colab": {
      "name": "multiprocess_pi.ipynb",
      "version": "0.3.2",
      "provenance": [],
      "collapsed_sections": [],
      "include_colab_link": true
    },
    "kernelspec": {
      "name": "python3",
      "display_name": "Python 3"
    }
  },
  "cells": [
    {
      "cell_type": "markdown",
      "metadata": {
        "id": "view-in-github",
        "colab_type": "text"
      },
      "source": [
        "<a href=\"https://colab.research.google.com/github/wqiu96/summer_project/blob/master/src/multiprocess_pi.ipynb\" target=\"_parent\"><img src=\"https://colab.research.google.com/assets/colab-badge.svg\" alt=\"Open In Colab\"/></a>"
      ]
    },
    {
      "cell_type": "code",
      "metadata": {
        "id": "i7DKBXwLtmPT",
        "colab_type": "code",
        "colab": {}
      },
      "source": [
        "import threading\n",
        "import numpy as np\n",
        "from queue import Queue #save the res in queue"
      ],
      "execution_count": 0,
      "outputs": []
    },
    {
      "cell_type": "code",
      "metadata": {
        "id": "_IAfEEM8usvf",
        "colab_type": "code",
        "colab": {}
      },
      "source": [
        "def pi(NUM,res): \n",
        "  X = np.random.uniform(low=-1.0, high=1.0, size=NUM)  \n",
        "  Y = np.random.uniform(low=-1.0, high=1.0, size=NUM)\n",
        "  distance = np.sqrt(X**2+Y**2)\n",
        "  is_point_inside = distance<1.0\n",
        "  N_inside=np.sum(is_point_inside)\n",
        "  res.put(4*N_inside/NUM)"
      ],
      "execution_count": 0,
      "outputs": []
    },
    {
      "cell_type": "code",
      "metadata": {
        "id": "_MkDkyabxcOa",
        "colab_type": "code",
        "outputId": "01fa81c2-6b72-4a33-b951-9a6d77ae1c89",
        "colab": {
          "base_uri": "https://localhost:8080/",
          "height": 33
        }
      },
      "source": [
        "def multithreading():\n",
        "    q =Queue()\n",
        "    threads = []\n",
        "    num = [10000,10000,10000,10000]\n",
        "    for i in range(len(num)):\n",
        "      t = threading.Thread(target=pi,args=(num[i],q))\n",
        "      t.start() # start process\n",
        "      threads.append(t) # add the process in the list \n",
        "    for thread in threads:\n",
        "        thread.join() #join this process to main process\n",
        "    results = []\n",
        "    for _ in range(4):\n",
        "        results.append(q.get()) #get the result of each process\n",
        "    print(results,sum(results)/4)\n",
        "\n",
        "if __name__=='__main__':\n",
        "    multithreading()"
      ],
      "execution_count": 15,
      "outputs": [
        {
          "output_type": "stream",
          "text": [
            "[3.1232, 3.1664, 3.138, 3.1284] 3.1390000000000002\n"
          ],
          "name": "stdout"
        }
      ]
    }
  ]
}