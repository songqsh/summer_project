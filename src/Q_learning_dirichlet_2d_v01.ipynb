{
  "nbformat": 4,
  "nbformat_minor": 0,
  "metadata": {
    "colab": {
      "name": "Q_learning_dirichlet_2d_v01.ipynb",
      "version": "0.3.2",
      "provenance": [],
      "collapsed_sections": [],
      "include_colab_link": true
    },
    "kernelspec": {
      "name": "python3",
      "display_name": "Python 3"
    }
  },
  "cells": [
    {
      "cell_type": "markdown",
      "metadata": {
        "id": "view-in-github",
        "colab_type": "text"
      },
      "source": [
        "<a href=\"https://colab.research.google.com/github/wqiu96/summer_project/blob/master/src/Q_learning_dirichlet_2d_v01.ipynb\" target=\"_parent\"><img src=\"https://colab.research.google.com/assets/colab-badge.svg\" alt=\"Open In Colab\"/></a>"
      ]
    },
    {
      "cell_type": "code",
      "metadata": {
        "id": "WrJvkAbpNyR3",
        "colab_type": "code",
        "colab": {}
      },
      "source": [
        "import numpy as np\n",
        "import time\n",
        "start_time = time.time()\n",
        "from tqdm import tqdm\n",
        "import matplotlib.pyplot as plt\n",
        "from mpl_toolkits.mplot3d import Axes3D "
      ],
      "execution_count": 0,
      "outputs": []
    },
    {
      "cell_type": "markdown",
      "metadata": {
        "id": "xNFJIMnEa39w",
        "colab_type": "text"
      },
      "source": [
        "__Goal__\n",
        "\n",
        "Implement value iteration on 1d HJB with Dirichlet data and verify with the explicit solution on Whittle’s “Flypaper”\n",
        "\n",
        "__Ref__\n",
        "\n",
        "- [1] Chap V.7 of [Roger and Williams 2000] \n",
        "\n",
        "- [2] P97, Example 4 of [Kushner and Dupuis 2001]\n",
        "\n",
        "- [previous version](https://github.com/songqsh/foo1/blob/master/src/value_iter_dirichlet_1d.ipynb)\n"
      ]
    },
    {
      "cell_type": "markdown",
      "metadata": {
        "id": "pqDOVcH776J5",
        "colab_type": "text"
      },
      "source": [
        "__Problem setup__\n",
        "\n",
        "We want to solve a d-dimensions HJB\n",
        "$$\\inf_a \\{\\sum_{i=1}^db_i(x,a)  \\frac{\\partial v(x)}{\\partial x_i}  + \\frac 1 2 \\sum_{i,j=1}^{d} \\hat \\sigma_{ij} \\frac{\\partial^2 v(x)}{\\partial x_i \\partial x_j} - \\lambda v(x) + \\ell(x,a)\\} = 0, \\quad \\hbox{ where } \\hat \\sigma _{ij} = \\sigma*\\sigma^T , \\sum_{i=1}^{d}x_i^2\\leq1$$\n",
        "with Dirichlet data\n",
        "$$v(x_1,x_2,..,x_d) = g(x_1,x_2,..,x_d), \\quad \\hbox{ when } \\sum_{i=1}^{d}x_i^2 = 1$$\n",
        "\n",
        "\n"
      ]
    },
    {
      "cell_type": "markdown",
      "metadata": {
        "id": "uVhPAihx-88o",
        "colab_type": "text"
      },
      "source": [
        "__MDP discretization__\n",
        "\n",
        "Approximation:\n",
        "$$\n",
        "\\frac{\\partial v(x)}{\\partial x_i} \\leftarrow \\frac{v(x+e_ih)-v(x-e_ih)}{2h}\n",
        "$$\n",
        "when $i = j$\n",
        "$$\n",
        "\\frac{\\partial^2 v(x)}{\\partial x_i^2} \\leftarrow \\frac{v(x+e_ih)-2v(x)+v(x-e_ih)}{h^2}\n",
        "$$\n",
        "when $i \\neq j$\n",
        "$$\n",
        "\\frac{\\partial^2 v(x)}{\\partial x_i^2} \\leftarrow \\frac{v(x+e_ih+e_jh)-v(x+e_ih-e_jh)-v(x-e_ih+e_jh)+v(x-e_ih-e_jh)}{4h^2}\n",
        "$$\n",
        "then\n",
        "$$\\inf_a \\{v(x)(-\\lambda-\\sum_{i=1}^{d}\\frac{\\hat \\sigma_{ii}}{h^2})+\\sum_{i=1}^{d}v(x+e_ih)\\frac{b_i(x,a)h+\\sigma_{ii}}{2h^2}+\\sum_{i=1}^{d}v(x-e_ih)\\frac{-b_i(x,a)h+\\sigma_{ii}}{2h^2}+    \\\\\n",
        "\\sum_{i,j=1,i\\neq j}^{d}(v(x+e_ih+e_jh)-v(x+e_ih-e_jh)-v(x-e_ih+e_jh)+v(x-e_ih-e_jh))\\frac{\\hat \\sigma_{ij}}{8h^2}+ \\ell(x,a)\\} = 0\n",
        "$$\n",
        "Set\n",
        "$$\n",
        "c_1 = \\lambda+\\sum_{i=1}^{d}\\frac{\\hat \\sigma_{ii}}{h^2}\n",
        "$$\n",
        "$$\n",
        "\\Lambda = \\frac{\\sum_{i=1}^{d}\\frac{\\lambda h^2+\\sigma_{ii}}{h^2}}{\\sum_{i=1}^{d}\\frac{\\sigma_{ii}}{h^2}}=\\frac{\\lambda h^2+\\sum_{i=1}^{d}{\\sigma_{ii}}}{\\sum_{i=1}^{d}\\sigma_{ii}}\n",
        "$$\n",
        "Then\n",
        "$$\n",
        "p^h(x+e_ih|x_i, a_i) = \\Lambda \\cdot (\\frac{b_i(x,a)h + \\hat \\sigma_{ii}}{2c_1h^2})\n",
        "$$\n",
        "$$\n",
        "p^h(x-e_ih|x_i, a_i) = \\Lambda \\cdot (\\frac{-b_i(x,a)h + \\hat \\sigma_{ii}}{2c_1h^2})\n",
        "$$\n",
        "$$\n",
        "p^h(x \\pm e_ih \\pm e_jh|x_i, x_j) = \\Lambda \\cdot \\frac{\\hat \\sigma_{ij}}{8h^2}\n",
        "$$\n",
        "$$\n",
        " \\hat \\ell(x,a)=\\frac{\\ell(x,a)}{c_1}\n",
        "$$\n",
        "so \n",
        "\n",
        "$$\n",
        "v(x) = \\inf_a\\{\\sum_{i=1}^{d}p^h(x+e_ih|x_i, a_i)v(x+e_ih) +\\sum_{i=1}^{d}p^h(x-e_ih|x_i, a_i)v(x-e_ih) \\\\\n",
        "+ \\sum_{i,j=1,i\\neq j}^{d}(v(x+e_ih+e_jh)-v(x+e_ih-e_jh)-v(x-e_ih+e_jh)+v(x-e_ih-e_jh))p^h(x \\pm e_ih \\pm e_jh|x_i, x_j) + \\hat \\ell(x,a) \\}\n",
        "$$"
      ]
    },
    {
      "cell_type": "markdown",
      "metadata": {
        "id": "OvzqIp2KXvzF",
        "colab_type": "text"
      },
      "source": [
        "__Example__\n",
        "$$\n",
        "\\inf_a(a \\bigtriangledown v + \\frac 1 2 \\bigtriangleup v +d + 2|x|^2 + \\frac 1 2 |a| ^2)\n",
        "$$\n",
        "\n",
        "where\n",
        "$$\n",
        "v(x) = g(x) = -|x|^2 = -(x_1^2 + x_2^2 +...+x_d^2)\\\\\n",
        "$$\n",
        "In this case\n",
        "$$\n",
        "b(x,a) = (a_1, a_2,...,a_d) \\\\\n",
        "\\begin{equation*}\n",
        "\\hat \\sigma =\\begin{bmatrix}\n",
        "1 & 0&\\dots & 0\\\\\n",
        "0 &1 &\\dots &0\\\\\n",
        "0 & 0 &\\dots & 1\n",
        "\\end{bmatrix}_{d\\times d}\n",
        "\\end{equation*}\n",
        "$$\n",
        "$$\n",
        "\\ell(x,a) = d + 2|x|^2 + \\frac 1 2 |a|^2\n",
        "$$\n",
        "the exact solution is \n",
        "$$\n",
        "v(x) =  -|x|^2 = -(x_1^2 + x_2^2 +...+x_d^2)\n",
        "$$"
      ]
    },
    {
      "cell_type": "markdown",
      "metadata": {
        "id": "2upaYLRHDJUU",
        "colab_type": "text"
      },
      "source": [
        "__Rk__\n",
        "\n",
        "There is essential difference of above MDP approximation using central FDM from the one\n",
        "using upward FDM provided by P97 of [2]."
      ]
    },
    {
      "cell_type": "code",
      "metadata": {
        "id": "PjDWKL6fvFNz",
        "colab_type": "code",
        "colab": {}
      },
      "source": [
        "#PDE to be solved\n",
        "class pde:\n",
        "  def __init__(self,dim,NUM):\n",
        "    #pde config\n",
        "    self.name = 'HJB nd'\n",
        "    self.dim = dim\n",
        "    self.NUM = NUM\n",
        "    self.LIM = 1 #limit for state\n",
        "    self.h = 1./self.NUM #mesh size in state space\n",
        "\n",
        "    self.lambda_ = 0. #discount rate\n",
        "    self.sigma = np.eye(self.dim) #diffusion coefficient matrix\n",
        "    \n",
        "    \n",
        "    \n",
        "    self.x_space = np.array([i*self.h for i in range(-self.NUM*self.LIM, (self.NUM+1)*self.LIM)])\n",
        "    self.a_space = np.array([i*self.h for i in range(-self.NUM*self.LIM, (self.NUM+1)*self.LIM)])\n",
        "    self.s_val = np.random.random(self.x_space.size*np.ones(self.dim, np.int))\n",
        "    self.q_table = np.random.random(np.append(self.x_space.size*np.ones(self.dim, np.int),self.a_space.size*np.ones(self.dim, np.int)))\n",
        "    self.term_ind_space = np.array([0, self.x_space.size-1]) #space of terminal state indice\n",
        "    \n",
        "    self.drift = lambda x,a: a  #drift coefficient function\n",
        "\n",
        "    self.run_cost = lambda x,a: self.dim + 2*np.sum(np.power(x,2)) + (1/2)*np.sum(np.power(a,2))\n",
        "    \n",
        "    self.term_cost = lambda x: -np.sum(np.power(x,2))\n",
        "    \n",
        "    #pde exact solution if available\n",
        "    self.exact_sol = self.term_cost\n",
        "\n",
        "    "
      ],
      "execution_count": 0,
      "outputs": []
    },
    {
      "cell_type": "code",
      "metadata": {
        "id": "h1biA8Y8R2Oc",
        "colab_type": "code",
        "colab": {}
      },
      "source": [
        "def mdp_space_config(self):\n",
        "\n",
        "  print('>>>>> q_table size is %i' %(self.q_table.size))\n",
        "\n",
        "  #s_val and q-table terminal setup\n",
        "  for i in range(self.s_val.size):  # visit all x States\n",
        "    k = self.dim - 1\n",
        "    x_d = []          \n",
        "    s_index = []\n",
        "    Limit = 0\n",
        "    while k >= 0:\n",
        "      x_d.append(self.x_space[(i//(self.x_space.size**k))%self.x_space.size])\n",
        "      s_index.append((i//(self.x_space.size**k))%self.x_space.size)\n",
        "      Limit += self.x_space[(i//(self.x_space.size**k))%self.x_space.size]**2\n",
        "      k -= 1\n",
        "    if (0 in s_index) or ((len(self.x_space) - 1) in s_index): # visit the terminal condition \n",
        "      self.s_val[tuple(s_index)] = self.term_cost(x_d)\n",
        "      for j in range(self.a_space.size**self.dim):\n",
        "        m = self.dim - 1\n",
        "        a_index = []\n",
        "        while m >= 0:\n",
        "          a_index.append((i//(self.a_space.size**m))%self.a_space.size)\n",
        "          m -= 1\n",
        "        self.q_table[tuple(s_index + a_index)] = self.term_cost(x_d)\n",
        "  \n",
        "pde.mdp_space_config = mdp_space_config"
      ],
      "execution_count": 0,
      "outputs": []
    },
    {
      "cell_type": "code",
      "metadata": {
        "id": "QIl6C9yFVLO_",
        "colab_type": "code",
        "colab": {}
      },
      "source": [
        "#transition probability\n",
        "#output is probability (np array) on del_ind_space \n",
        "#central fdm\n",
        "\n",
        "def mdp_trans_prob_central(self,x,a,sigma):\n",
        "  tp_right = np.zeros((self.dim,self.dim))\n",
        "  tp_left = np.zeros((self.dim,self.dim))\n",
        "  b_ = self.drift(x,a)\n",
        "  \n",
        "  c1 = self.lambda_ + sum(sigma.diagonal())/(self.h**2)\n",
        "  Lambda = 1 + self.lambda_*(self.h**2)/sum(self.sigma.diagonal())\n",
        "  \n",
        "  tp_right =Lambda*sigma/(8*c1*self.h**2)\n",
        "  tp_left = Lambda*sigma/(8*c1*self.h**2)\n",
        "  \n",
        "  p_right = Lambda*((b_*self.h + sigma.diagonal())/(2*c1*self.h**2))\n",
        "  p_left = Lambda*((-1*b_*self.h + sigma.diagonal())/(2*c1*self.h**2))\n",
        "  for i in range(self.dim):\n",
        "    tp_right[i,i] = p_right[i]\n",
        "    tp_left[i,i] = p_left[i]\n",
        "\n",
        "  discount = 1+2*np.sum(Lambda*sigma/(8*c1*self.h**2)) - 2*np.sum((Lambda*sigma/(8*c1*self.h**2)).diagonal())\n",
        "  tp_right = tp_right/(discount - np.sum(p_left))\n",
        "  tp_left = tp_left/(discount - np.sum(p_right))\n",
        "\n",
        "\n",
        "  return tp_right, tp_left \n",
        "\n",
        "pde.mdp_trans_prob_central = mdp_trans_prob_central"
      ],
      "execution_count": 0,
      "outputs": []
    },
    {
      "cell_type": "code",
      "metadata": {
        "id": "PR6Hagr1q7Im",
        "colab_type": "code",
        "colab": {}
      },
      "source": [
        "def Dif_array(self,s_index):        #calculate s_val(x+e_i*h) and s_val(x-e_i*h)\n",
        "  res_plus = np.zeros(self.dim)\n",
        "  res_mius = np.zeros(self.dim)\n",
        "  for i in range(self.dim):\n",
        "    temp_plus = s_index.copy() #copy()!!!!!!! very important\n",
        "    temp_mius = s_index.copy()\n",
        "    temp_plus[i] = s_index[i] + 1\n",
        "    temp_mius[i] = s_index[i] - 1\n",
        "    res_plus[i] = self.s_val[tuple(temp_plus)]\n",
        "    res_mius[i] = self.s_val[tuple(temp_mius)]\n",
        "  return res_plus,res_mius\n",
        "\n",
        "pde.Dif_array = Dif_array"
      ],
      "execution_count": 0,
      "outputs": []
    },
    {
      "cell_type": "code",
      "metadata": {
        "id": "JwkFShOotdfC",
        "colab_type": "code",
        "colab": {}
      },
      "source": [
        "def Dif_martix(self,s_index):        #calculate s_val(x+e_i*h-e_j*h), s_val(x-e_j*h+e_i*h), s_val(x+e_j*h+e_i*h), s_val(x-e_j*h-e_i*h)\n",
        "  res_plus_plus = np.zeros((self.dim,self.dim))\n",
        "  res_mius_mius = np.zeros((self.dim,self.dim))\n",
        "  res_plus_mius = np.zeros((self.dim,self.dim))\n",
        "  res_mius_plus = np.zeros((self.dim,self.dim))\n",
        "  for i in range(self.dim):\n",
        "    for j in range(self.dim):\n",
        "      if i != j:\n",
        "        temp_plus_plus = s_index.copy()\n",
        "        temp_mius_mius = s_index.copy()\n",
        "        temp_plus_mius = s_index.copy()\n",
        "        temp_mius_plus = s_index.copy()\n",
        "        \n",
        "        temp_plus_plus[i] = s_index[i] + 1\n",
        "        temp_plus_plus[j] = s_index[j] + 1\n",
        "        \n",
        "        temp_mius_mius[i] = s_index[i] - 1\n",
        "        temp_mius_mius[j] = s_index[j] - 1\n",
        "        \n",
        "        temp_plus_mius[i] = s_index[i] + 1\n",
        "        temp_plus_mius[j] = s_index[j] - 1\n",
        "        \n",
        "        temp_mius_plus[i] = s_index[i] - 1\n",
        "        temp_mius_plus[j] = s_index[j] + 1\n",
        "\n",
        "        res_plus_plus[i][j] = self.s_val[tuple(temp_plus_plus)]\n",
        "        res_mius_mius[i][j] = self.s_val[tuple(temp_mius_mius)]\n",
        "        res_plus_mius[i][j] = self.s_val[tuple(temp_plus_mius)]\n",
        "        res_mius_plus[i][j] = self.s_val[tuple(temp_mius_plus)]\n",
        "  res = res_plus_plus + res_mius_mius - res_plus_mius - res_mius_plus\n",
        "  \n",
        "  return res\n",
        "\n",
        "pde.Dif_martix = Dif_martix"
      ],
      "execution_count": 0,
      "outputs": []
    },
    {
      "cell_type": "code",
      "metadata": {
        "id": "68N0NtV2HjrA",
        "colab_type": "code",
        "colab": {
          "base_uri": "https://localhost:8080/",
          "height": 33
        },
        "outputId": "fa027493-10d1-4cd0-f57d-9476f81ec83e"
      },
      "source": [
        "a = np.arange(9).reshape((3,3))\n",
        "np.sum(a)"
      ],
      "execution_count": 897,
      "outputs": [
        {
          "output_type": "execute_result",
          "data": {
            "text/plain": [
              "36"
            ]
          },
          "metadata": {
            "tags": []
          },
          "execution_count": 897
        }
      ]
    },
    {
      "cell_type": "code",
      "metadata": {
        "id": "7ksl6Piqaye1",
        "colab_type": "code",
        "colab": {}
      },
      "source": [
        "def q_learning(self, \n",
        "               n_epoch = 50000, #tolerance for iteration\n",
        "               learning_rate = 0.001, #maximum iteration\n",
        "                start_state = np.array([0,0])\n",
        "              ):\n",
        " \n",
        "  start_ind = ((start_state + 1)/0.1).astype(int)\n",
        "  Lambda_ = 1 + self.lambda_*(self.h**2)/sum(self.sigma.diagonal())# reciprocal of discount factor\n",
        "\n",
        "  for epoch in tqdm(range(n_epoch)):\n",
        "    now_ind_ = start_ind.copy() #start\n",
        "    while (np.min(now_ind_) != 0 and np.max(now_ind_) != (self.x_space.size - 1)):\n",
        "      if np.random.random() > 0.05:\n",
        "        res = np.where(self.q_table[tuple(now_ind_)] == np.min(self.q_table[tuple(now_ind_)])) #choose action index\n",
        "        act_ind_ = np.array([res[i][0] for i in range(len(res))])\n",
        "\n",
        "      else:\n",
        "        act_ind_ = np.array([np.random.randint(self.a_space.size),np.random.randint(self.a_space.size)])\n",
        "  \n",
        "      x_ = np.array(self.x_space[now_ind_[0]],self.x_space[now_ind_[1]]) #current state\n",
        "      a_ = np.array(self.a_space[int(now_ind_[0])],self.a_space[int(now_ind_[1])]) #current action\n",
        "      \n",
        "      c1 = self.lambda_ + sum(self.sigma.diagonal())/(self.h**2)\n",
        "      run_cost_ = (self.run_cost(x_,a_))/c1\n",
        "      \n",
        "      tp_right, tp_left = self.mdp_trans_prob_central(x_, a_, self.sigma)\n",
        "      sampling_ = np.random.binomial(1, 0.5)\n",
        "      index_ = np.arange(self.dim**2)\n",
        "  \n",
        "      temp = 0\n",
        "      next_ind_ = now_ind_.copy()\n",
        "\n",
        "      if sampling_ == 0:\n",
        "        \n",
        "        temp = np.random.choice(index_,1,p=tp_right.reshape(self.dim**2))\n",
        "        \n",
        "        if temp//self.dim != temp%self.dim:\n",
        "          \n",
        "          next_ind_[temp//self.dim] = now_ind_[temp//self.dim] + 1\n",
        "          next_ind_[temp%self.dim] = now_ind_[temp%self.dim] + 1\n",
        "          \n",
        "        else:\n",
        "          next_ind_[temp//self.dim] = now_ind_[temp//self.dim] + 1\n",
        "      else:\n",
        "        \n",
        "        temp = np.random.choice(index_,1,p=tp_left.reshape(self.dim**2))\n",
        "        \n",
        "        if temp//self.dim != temp%self.dim:\n",
        "          \n",
        "          next_ind_[temp//self.dim] = now_ind_[temp//self.dim] - 1\n",
        "          next_ind_[temp%self.dim] = now_ind_[temp%self.dim] - 1\n",
        "          \n",
        "        else:\n",
        "          next_ind_[temp//self.dim] = now_ind_[temp//self.dim] - 1 \n",
        "      try:\n",
        "        del_q = run_cost_ + self.s_val[tuple(next_ind_)]/Lambda_ - self.q_table[tuple(np.append(now_ind_, act_ind_))]\n",
        "      except:\n",
        "        print(now_ind_,act_ind_)\n",
        "      self.q_table[tuple(np.append(now_ind_, act_ind_))] = learning_rate*del_q\n",
        "      self.s_val[tuple(now_ind_)] = np.min(self.q_table[tuple(now_ind_)]) #sync q_table with s_val\n",
        "   \n",
        "      now_ind_ = next_ind_\n",
        "          \n",
        "  return self.s_val[start_ind]\n",
        "      \n",
        "pde.q_learning = q_learning    "
      ],
      "execution_count": 0,
      "outputs": []
    },
    {
      "cell_type": "code",
      "metadata": {
        "id": "v5WuKO_gYxo0",
        "colab_type": "code",
        "colab": {
          "base_uri": "https://localhost:8080/",
          "height": 370
        },
        "outputId": "f8e0a534-de41-43bb-ba36-d1a32ab2ff1f"
      },
      "source": [
        "  pde1 = pde(dim=2,NUM=10)\n",
        "  pde1.mdp_space_config()\n",
        "  ans = pde1.q_learning()"
      ],
      "execution_count": 899,
      "outputs": [
        {
          "output_type": "stream",
          "text": [
            ">>>>> q_table size is 194481\n"
          ],
          "name": "stdout"
        },
        {
          "output_type": "stream",
          "text": [
            "  2%|▏         | 810/50000 [00:20<18:36, 44.06it/s]"
          ],
          "name": "stderr"
        },
        {
          "output_type": "error",
          "ename": "KeyboardInterrupt",
          "evalue": "ignored",
          "traceback": [
            "\u001b[0;31m---------------------------------------------------------------------------\u001b[0m",
            "\u001b[0;31mKeyboardInterrupt\u001b[0m                         Traceback (most recent call last)",
            "\u001b[0;32m<ipython-input-899-e54d99d8d0f2>\u001b[0m in \u001b[0;36m<module>\u001b[0;34m()\u001b[0m\n\u001b[1;32m      1\u001b[0m \u001b[0mpde1\u001b[0m \u001b[0;34m=\u001b[0m \u001b[0mpde\u001b[0m\u001b[0;34m(\u001b[0m\u001b[0mdim\u001b[0m\u001b[0;34m=\u001b[0m\u001b[0;36m2\u001b[0m\u001b[0;34m,\u001b[0m\u001b[0mNUM\u001b[0m\u001b[0;34m=\u001b[0m\u001b[0;36m10\u001b[0m\u001b[0;34m)\u001b[0m\u001b[0;34m\u001b[0m\u001b[0;34m\u001b[0m\u001b[0m\n\u001b[1;32m      2\u001b[0m \u001b[0mpde1\u001b[0m\u001b[0;34m.\u001b[0m\u001b[0mmdp_space_config\u001b[0m\u001b[0;34m(\u001b[0m\u001b[0;34m)\u001b[0m\u001b[0;34m\u001b[0m\u001b[0;34m\u001b[0m\u001b[0m\n\u001b[0;32m----> 3\u001b[0;31m \u001b[0mans\u001b[0m \u001b[0;34m=\u001b[0m \u001b[0mpde1\u001b[0m\u001b[0;34m.\u001b[0m\u001b[0mq_learning\u001b[0m\u001b[0;34m(\u001b[0m\u001b[0;34m)\u001b[0m\u001b[0;34m\u001b[0m\u001b[0;34m\u001b[0m\u001b[0m\n\u001b[0m",
            "\u001b[0;32m<ipython-input-898-a894ca3dac55>\u001b[0m in \u001b[0;36mq_learning\u001b[0;34m(self, n_epoch, learning_rate, start_state)\u001b[0m\n\u001b[1;32m     24\u001b[0m       \u001b[0mrun_cost_\u001b[0m \u001b[0;34m=\u001b[0m \u001b[0;34m(\u001b[0m\u001b[0mself\u001b[0m\u001b[0;34m.\u001b[0m\u001b[0mrun_cost\u001b[0m\u001b[0;34m(\u001b[0m\u001b[0mx_\u001b[0m\u001b[0;34m,\u001b[0m\u001b[0ma_\u001b[0m\u001b[0;34m)\u001b[0m\u001b[0;34m)\u001b[0m\u001b[0;34m/\u001b[0m\u001b[0mc1\u001b[0m\u001b[0;34m\u001b[0m\u001b[0;34m\u001b[0m\u001b[0m\n\u001b[1;32m     25\u001b[0m \u001b[0;34m\u001b[0m\u001b[0m\n\u001b[0;32m---> 26\u001b[0;31m       \u001b[0mtp_right\u001b[0m\u001b[0;34m,\u001b[0m \u001b[0mtp_left\u001b[0m \u001b[0;34m=\u001b[0m \u001b[0mself\u001b[0m\u001b[0;34m.\u001b[0m\u001b[0mmdp_trans_prob_central\u001b[0m\u001b[0;34m(\u001b[0m\u001b[0mx_\u001b[0m\u001b[0;34m,\u001b[0m \u001b[0ma_\u001b[0m\u001b[0;34m,\u001b[0m \u001b[0mself\u001b[0m\u001b[0;34m.\u001b[0m\u001b[0msigma\u001b[0m\u001b[0;34m)\u001b[0m\u001b[0;34m\u001b[0m\u001b[0;34m\u001b[0m\u001b[0m\n\u001b[0m\u001b[1;32m     27\u001b[0m       \u001b[0msampling_\u001b[0m \u001b[0;34m=\u001b[0m \u001b[0mnp\u001b[0m\u001b[0;34m.\u001b[0m\u001b[0mrandom\u001b[0m\u001b[0;34m.\u001b[0m\u001b[0mbinomial\u001b[0m\u001b[0;34m(\u001b[0m\u001b[0;36m1\u001b[0m\u001b[0;34m,\u001b[0m \u001b[0;36m0.5\u001b[0m\u001b[0;34m)\u001b[0m\u001b[0;34m\u001b[0m\u001b[0;34m\u001b[0m\u001b[0m\n\u001b[1;32m     28\u001b[0m       \u001b[0mindex_\u001b[0m \u001b[0;34m=\u001b[0m \u001b[0mnp\u001b[0m\u001b[0;34m.\u001b[0m\u001b[0marange\u001b[0m\u001b[0;34m(\u001b[0m\u001b[0mself\u001b[0m\u001b[0;34m.\u001b[0m\u001b[0mdim\u001b[0m\u001b[0;34m**\u001b[0m\u001b[0;36m2\u001b[0m\u001b[0;34m)\u001b[0m\u001b[0;34m\u001b[0m\u001b[0;34m\u001b[0m\u001b[0m\n",
            "\u001b[0;32m<ipython-input-894-181d9f21f5a7>\u001b[0m in \u001b[0;36mmdp_trans_prob_central\u001b[0;34m(self, x, a, sigma)\u001b[0m\n\u001b[1;32m     14\u001b[0m   \u001b[0mp_left\u001b[0m \u001b[0;34m=\u001b[0m \u001b[0mLambda\u001b[0m\u001b[0;34m*\u001b[0m\u001b[0;34m(\u001b[0m\u001b[0;34m(\u001b[0m\u001b[0;34m-\u001b[0m\u001b[0;36m1\u001b[0m\u001b[0;34m*\u001b[0m\u001b[0mb_\u001b[0m\u001b[0;34m*\u001b[0m\u001b[0mself\u001b[0m\u001b[0;34m.\u001b[0m\u001b[0mh\u001b[0m \u001b[0;34m+\u001b[0m \u001b[0msigma\u001b[0m\u001b[0;34m.\u001b[0m\u001b[0mdiagonal\u001b[0m\u001b[0;34m(\u001b[0m\u001b[0;34m)\u001b[0m\u001b[0;34m)\u001b[0m\u001b[0;34m/\u001b[0m\u001b[0;34m(\u001b[0m\u001b[0;36m2\u001b[0m\u001b[0;34m*\u001b[0m\u001b[0mc1\u001b[0m\u001b[0;34m*\u001b[0m\u001b[0mself\u001b[0m\u001b[0;34m.\u001b[0m\u001b[0mh\u001b[0m\u001b[0;34m**\u001b[0m\u001b[0;36m2\u001b[0m\u001b[0;34m)\u001b[0m\u001b[0;34m)\u001b[0m\u001b[0;34m\u001b[0m\u001b[0;34m\u001b[0m\u001b[0m\n\u001b[1;32m     15\u001b[0m   \u001b[0;32mfor\u001b[0m \u001b[0mi\u001b[0m \u001b[0;32min\u001b[0m \u001b[0mrange\u001b[0m\u001b[0;34m(\u001b[0m\u001b[0mself\u001b[0m\u001b[0;34m.\u001b[0m\u001b[0mdim\u001b[0m\u001b[0;34m)\u001b[0m\u001b[0;34m:\u001b[0m\u001b[0;34m\u001b[0m\u001b[0;34m\u001b[0m\u001b[0m\n\u001b[0;32m---> 16\u001b[0;31m     \u001b[0mtp_right\u001b[0m\u001b[0;34m[\u001b[0m\u001b[0mi\u001b[0m\u001b[0;34m,\u001b[0m\u001b[0mi\u001b[0m\u001b[0;34m]\u001b[0m \u001b[0;34m=\u001b[0m \u001b[0mp_right\u001b[0m\u001b[0;34m[\u001b[0m\u001b[0mi\u001b[0m\u001b[0;34m]\u001b[0m\u001b[0;34m\u001b[0m\u001b[0;34m\u001b[0m\u001b[0m\n\u001b[0m\u001b[1;32m     17\u001b[0m     \u001b[0mtp_left\u001b[0m\u001b[0;34m[\u001b[0m\u001b[0mi\u001b[0m\u001b[0;34m,\u001b[0m\u001b[0mi\u001b[0m\u001b[0;34m]\u001b[0m \u001b[0;34m=\u001b[0m \u001b[0mp_left\u001b[0m\u001b[0;34m[\u001b[0m\u001b[0mi\u001b[0m\u001b[0;34m]\u001b[0m\u001b[0;34m\u001b[0m\u001b[0;34m\u001b[0m\u001b[0m\n\u001b[1;32m     18\u001b[0m \u001b[0;34m\u001b[0m\u001b[0m\n",
            "\u001b[0;31mKeyboardInterrupt\u001b[0m: "
          ]
        }
      ]
    },
    {
      "cell_type": "code",
      "metadata": {
        "id": "_r37m_JFmlwk",
        "colab_type": "code",
        "colab": {}
      },
      "source": [
        "end_time = time.time()\n",
        "print('elapsed time is %f seconds' %(end_time - start_time))"
      ],
      "execution_count": 0,
      "outputs": []
    },
    {
      "cell_type": "code",
      "metadata": {
        "id": "WUz85Uxzl_Ea",
        "colab_type": "code",
        "colab": {}
      },
      "source": [
        "pde1.exact_sol(np.array([0,0])"
      ],
      "execution_count": 0,
      "outputs": []
    },
    {
      "cell_type": "code",
      "metadata": {
        "id": "G5x_YELvmrId",
        "colab_type": "code",
        "colab": {}
      },
      "source": [
        "figure = plt.figure()\n",
        "axes = Axes3D(figure)\n",
        "X1 = pde1.x_space\n",
        "X2 = pde1.x_space\n",
        "X1, X2 = np.meshgrid(X1, X2)\n",
        "Z = -(X1)**2 - (X2)**2\n",
        "axes.plot_surface(X1, X2, Z,cmap='rainbow')\n",
        "print('>>>iteration error is ' + str(err))\n",
        "print('>>>iter number is ' + str(n_iter))\n",
        "print('>>>max norm of error is ' + str(np.max(np.abs(Z-Z1))))\n",
        "print('>>>Percentage of error is ' + str(np.sum(np.abs(Z-Z1))/np.sum(np.abs(Z))))"
      ],
      "execution_count": 0,
      "outputs": []
    }
  ]
}