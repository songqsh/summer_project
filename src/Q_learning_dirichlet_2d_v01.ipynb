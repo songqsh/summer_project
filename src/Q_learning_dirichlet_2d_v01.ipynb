{
  "nbformat": 4,
  "nbformat_minor": 0,
  "metadata": {
    "colab": {
      "name": "Q_learning_dirichlet_2d_v01.ipynb",
      "version": "0.3.2",
      "provenance": [],
      "collapsed_sections": [],
      "include_colab_link": true
    },
    "kernelspec": {
      "name": "python3",
      "display_name": "Python 3"
    }
  },
  "cells": [
    {
      "cell_type": "markdown",
      "metadata": {
        "id": "view-in-github",
        "colab_type": "text"
      },
      "source": [
        "<a href=\"https://colab.research.google.com/github/wqiu96/summer_project/blob/master/src/Q_learning_dirichlet_2d_v01.ipynb\" target=\"_parent\"><img src=\"https://colab.research.google.com/assets/colab-badge.svg\" alt=\"Open In Colab\"/></a>"
      ]
    },
    {
      "cell_type": "code",
      "metadata": {
        "id": "WrJvkAbpNyR3",
        "colab_type": "code",
        "colab": {}
      },
      "source": [
        "import numpy as np\n",
        "import time\n",
        "start_time = time.time()\n",
        "from tqdm import tqdm\n",
        "import matplotlib.pyplot as plt\n",
        "from mpl_toolkits.mplot3d import Axes3D "
      ],
      "execution_count": 0,
      "outputs": []
    },
    {
      "cell_type": "markdown",
      "metadata": {
        "id": "xNFJIMnEa39w",
        "colab_type": "text"
      },
      "source": [
        "__Goal__\n",
        "\n",
        "Implement value iteration on 1d HJB with Dirichlet data and verify with the explicit solution on Whittle’s “Flypaper”\n",
        "\n",
        "__Ref__\n",
        "\n",
        "- [1] Chap V.7 of [Roger and Williams 2000] \n",
        "\n",
        "- [2] P97, Example 4 of [Kushner and Dupuis 2001]\n",
        "\n",
        "- [previous version](https://github.com/songqsh/foo1/blob/master/src/value_iter_dirichlet_1d.ipynb)\n"
      ]
    },
    {
      "cell_type": "markdown",
      "metadata": {
        "id": "pqDOVcH776J5",
        "colab_type": "text"
      },
      "source": [
        "__Problem setup__\n",
        "\n",
        "We want to solve a d-dimensions HJB\n",
        "$$\\inf_a \\{\\sum_{i=1}^db_i(x,a)  \\frac{\\partial v(x)}{\\partial x_i}  + \\frac 1 2 \\sum_{i,j=1}^{d} \\hat \\sigma_{ij} \\frac{\\partial^2 v(x)}{\\partial x_i \\partial x_j} - \\lambda v(x) + \\ell(x,a)\\} = 0, \\quad \\hbox{ where } \\hat \\sigma _{ij} = \\sigma*\\sigma^T , \\sum_{i=1}^{d}x_i^2\\leq1$$\n",
        "with Dirichlet data\n",
        "$$v(x_1,x_2,..,x_d) = g(x_1,x_2,..,x_d), \\quad \\hbox{ when } \\sum_{i=1}^{d}x_i^2 = 1$$\n",
        "\n",
        "\n"
      ]
    },
    {
      "cell_type": "markdown",
      "metadata": {
        "id": "uVhPAihx-88o",
        "colab_type": "text"
      },
      "source": [
        "__MDP discretization__\n",
        "\n",
        "Approximation:\n",
        "$$\n",
        "\\frac{\\partial v(x)}{\\partial x_i} \\leftarrow \\frac{v(x+e_ih)-v(x-e_ih)}{2h}\n",
        "$$\n",
        "when $i = j$\n",
        "$$\n",
        "\\frac{\\partial^2 v(x)}{\\partial x_i^2} \\leftarrow \\frac{v(x+e_ih)-2v(x)+v(x-e_ih)}{h^2}\n",
        "$$\n",
        "when $i \\neq j$\n",
        "$$\n",
        "\\frac{\\partial^2 v(x)}{\\partial x_i^2} \\leftarrow \\frac{v(x+e_ih+e_jh)-v(x+e_ih-e_jh)-v(x-e_ih+e_jh)+v(x-e_ih-e_jh)}{4h^2}\n",
        "$$\n",
        "then\n",
        "$$\\inf_a \\{v(x)(-\\lambda-\\sum_{i=1}^{d}\\frac{\\hat \\sigma_{ii}}{h^2})+\\sum_{i=1}^{d}v(x+e_ih)\\frac{b_i(x,a)h+\\sigma_{ii}}{2h^2}+\\sum_{i=1}^{d}v(x-e_ih)\\frac{-b_i(x,a)h+\\sigma_{ii}}{2h^2}+    \\\\\n",
        "\\sum_{i,j=1,i\\neq j}^{d}(v(x+e_ih+e_jh)-v(x+e_ih-e_jh)-v(x-e_ih+e_jh)+v(x-e_ih-e_jh))\\frac{\\hat \\sigma_{ij}}{8h^2}+ \\ell(x,a)\\} = 0\n",
        "$$\n",
        "Set\n",
        "$$\n",
        "c_1 = \\lambda+\\sum_{i=1}^{d}\\frac{\\hat \\sigma_{ii}}{h^2}\n",
        "$$\n",
        "$$\n",
        "\\Lambda = \\frac{\\sum_{i=1}^{d}\\frac{\\lambda h^2+\\sigma_{ii}}{h^2}}{\\sum_{i=1}^{d}\\frac{\\sigma_{ii}}{h^2}}=\\frac{\\lambda h^2+\\sum_{i=1}^{d}{\\sigma_{ii}}}{\\sum_{i=1}^{d}\\sigma_{ii}}\n",
        "$$\n",
        "Then\n",
        "$$\n",
        "p^h(x+e_ih|x_i, a_i) = \\Lambda \\cdot (\\frac{b_i(x,a)h + \\hat \\sigma_{ii}}{2c_1h^2})\n",
        "$$\n",
        "$$\n",
        "p^h(x-e_ih|x_i, a_i) = \\Lambda \\cdot (\\frac{-b_i(x,a)h + \\hat \\sigma_{ii}}{2c_1h^2})\n",
        "$$\n",
        "$$\n",
        "p^h(x \\pm e_ih \\pm e_jh|x_i, x_j) = \\Lambda \\cdot \\frac{\\hat \\sigma_{ij}}{8h^2}\n",
        "$$\n",
        "$$\n",
        " \\hat \\ell(x,a)=\\frac{\\ell(x,a)}{c_1}\n",
        "$$\n",
        "so \n",
        "\n",
        "$$\n",
        "v(x) = \\inf_a\\{\\sum_{i=1}^{d}p^h(x+e_ih|x_i, a_i)v(x+e_ih) +\\sum_{i=1}^{d}p^h(x-e_ih|x_i, a_i)v(x-e_ih) \\\\\n",
        "+ \\sum_{i,j=1,i\\neq j}^{d}(v(x+e_ih+e_jh)-v(x+e_ih-e_jh)-v(x-e_ih+e_jh)+v(x-e_ih-e_jh))p^h(x \\pm e_ih \\pm e_jh|x_i, x_j) + \\hat \\ell(x,a) \\}\n",
        "$$"
      ]
    },
    {
      "cell_type": "markdown",
      "metadata": {
        "id": "OvzqIp2KXvzF",
        "colab_type": "text"
      },
      "source": [
        "__Example__\n",
        "$$\n",
        "\\inf_a(a \\bigtriangledown v + \\frac 1 2 \\bigtriangleup v +d + 2|x|^2 + \\frac 1 2 |a| ^2)\n",
        "$$\n",
        "\n",
        "where\n",
        "$$\n",
        "v(x) = g(x) = -|x|^2 = -(x_1^2 + x_2^2 +...+x_d^2)\\\\\n",
        "$$\n",
        "In this case\n",
        "$$\n",
        "b(x,a) = (a_1, a_2,...,a_d) \\\\\n",
        "\\begin{equation*}\n",
        "\\hat \\sigma =\\begin{bmatrix}\n",
        "1 & 0&\\dots & 0\\\\\n",
        "0 &1 &\\dots &0\\\\\n",
        "0 & 0 &\\dots & 1\n",
        "\\end{bmatrix}_{d\\times d}\n",
        "\\end{equation*}\n",
        "$$\n",
        "$$\n",
        "\\ell(x,a) = d + 2|x|^2 + \\frac 1 2 |a|^2\n",
        "$$\n",
        "the exact solution is \n",
        "$$\n",
        "v(x) =  -|x|^2 = -(x_1^2 + x_2^2 +...+x_d^2)\n",
        "$$"
      ]
    },
    {
      "cell_type": "markdown",
      "metadata": {
        "id": "2upaYLRHDJUU",
        "colab_type": "text"
      },
      "source": [
        "__Rk__\n",
        "\n",
        "There is essential difference of above MDP approximation using central FDM from the one\n",
        "using upward FDM provided by P97 of [2]."
      ]
    },
    {
      "cell_type": "code",
      "metadata": {
        "id": "PjDWKL6fvFNz",
        "colab_type": "code",
        "colab": {}
      },
      "source": [
        "#PDE to be solved\n",
        "class pde:\n",
        "  def __init__(self,dim,NUM):\n",
        "    #pde config\n",
        "    self.name = 'HJB nd'\n",
        "    self.dim = dim\n",
        "    self.NUM = NUM\n",
        "    self.LIM = 1 #limit for state\n",
        "    self.h = 1./self.NUM #mesh size in state space\n",
        "\n",
        "    self.lambda_ = 0. #discount rate\n",
        "    self.sigma = np.eye(self.dim) #diffusion coefficient matrix\n",
        "    \n",
        "    \n",
        "    \n",
        "    self.x_space = np.array([i*self.h for i in range(-self.NUM*self.LIM, (self.NUM+1)*self.LIM)])\n",
        "    self.a_space = np.array([i*self.h for i in range(-self.NUM*self.LIM, (self.NUM+1)*self.LIM)])\n",
        "    self.s_val = -np.ones(self.x_space.size*np.ones(self.dim, np.int))\n",
        "    self.q_table = -2*np.ones(np.append(self.x_space.size*np.ones(self.dim, np.int),self.a_space.size*np.ones(self.dim, np.int)))\n",
        "    self.term_ind_space = np.array([0, self.x_space.size-1]) #space of terminal state indice\n",
        "    \n",
        "    self.drift = lambda x,a: a  #drift coefficient function\n",
        "\n",
        "    self.run_cost = lambda x,a: self.dim + 2*np.sum(np.power(x,2)) + (1/2)*np.sum(np.power(a,2))\n",
        "    \n",
        "    self.term_cost = lambda x: -np.sum(np.power(x,2))\n",
        "    \n",
        "    #pde exact solution if available\n",
        "    self.exact_sol = self.term_cost\n",
        "\n",
        "    "
      ],
      "execution_count": 0,
      "outputs": []
    },
    {
      "cell_type": "code",
      "metadata": {
        "id": "h1biA8Y8R2Oc",
        "colab_type": "code",
        "colab": {}
      },
      "source": [
        "def mdp_space_config(self):\n",
        "\n",
        "  print('>>>>> q_table size is %i' %(self.q_table.size))\n",
        "\n",
        "  #s_val and q-table terminal setup\n",
        "  for i in range(self.s_val.size):  # visit all x States\n",
        "    k = self.dim - 1\n",
        "    x_d = []          \n",
        "    s_index = []\n",
        "    Limit = 0\n",
        "    while k >= 0:\n",
        "      x_d.append(self.x_space[(i//(self.x_space.size**k))%self.x_space.size])\n",
        "      s_index.append((i//(self.x_space.size**k))%self.x_space.size)\n",
        "      Limit += self.x_space[(i//(self.x_space.size**k))%self.x_space.size]**2\n",
        "      k -= 1\n",
        "    if (0 in s_index) or ((len(self.x_space) - 1) in s_index): # visit the terminal condition \n",
        "      self.s_val[tuple(s_index)] = self.term_cost(x_d)\n",
        "      for j in range(self.a_space.size**self.dim):\n",
        "        m = self.dim - 1\n",
        "        a_index = []\n",
        "        while m >= 0:\n",
        "          a_index.append((i//(self.a_space.size**m))%self.a_space.size)\n",
        "          m -= 1\n",
        "        self.q_table[tuple(s_index + a_index)] = self.term_cost(x_d)\n",
        "  \n",
        "pde.mdp_space_config = mdp_space_config"
      ],
      "execution_count": 0,
      "outputs": []
    },
    {
      "cell_type": "code",
      "metadata": {
        "id": "QIl6C9yFVLO_",
        "colab_type": "code",
        "colab": {}
      },
      "source": [
        "#transition probability\n",
        "#output is probability (np array) on del_ind_space \n",
        "#central fdm\n",
        "\n",
        "def mdp_trans_prob_central(self,x,a,sigma):\n",
        "  tp_right = np.zeros((self.dim,self.dim))\n",
        "  tp_left = np.zeros((self.dim,self.dim))\n",
        "  b_ = self.drift(x,a)\n",
        "  \n",
        "  c1 = self.lambda_ + sum(sigma.diagonal())/(self.h**2)\n",
        "  Lambda = 1 + self.lambda_*(self.h**2)/sum(self.sigma.diagonal())\n",
        "  \n",
        "  tp_right =Lambda*sigma/(8*c1*self.h**2)\n",
        "  tp_left = Lambda*sigma/(8*c1*self.h**2)\n",
        "  \n",
        "  p_right = Lambda*((b_*self.h + sigma.diagonal())/(2*c1*self.h**2))\n",
        "  p_left = Lambda*((-1*b_*self.h + sigma.diagonal())/(2*c1*self.h**2))\n",
        "  for i in range(self.dim):\n",
        "    tp_right[i,i] = p_right[i]\n",
        "    tp_left[i,i] = p_left[i]\n",
        "\n",
        "  discount = 1+2*np.sum(Lambda*sigma/(8*c1*self.h**2)) - 2*np.sum((Lambda*sigma/(8*c1*self.h**2)).diagonal())\n",
        "  tp_right = tp_right/(discount - np.sum(p_left))\n",
        "  tp_left = tp_left/(discount - np.sum(p_right))\n",
        "\n",
        "\n",
        "  return tp_right, tp_left \n",
        "\n",
        "pde.mdp_trans_prob_central = mdp_trans_prob_central"
      ],
      "execution_count": 0,
      "outputs": []
    },
    {
      "cell_type": "code",
      "metadata": {
        "id": "PR6Hagr1q7Im",
        "colab_type": "code",
        "colab": {}
      },
      "source": [
        "def Dif_array(self,s_index):        #calculate s_val(x+e_i*h) and s_val(x-e_i*h)\n",
        "  res_plus = np.zeros(self.dim)\n",
        "  res_mius = np.zeros(self.dim)\n",
        "  for i in range(self.dim):\n",
        "    temp_plus = s_index.copy() #copy()!!!!!!! very important\n",
        "    temp_mius = s_index.copy()\n",
        "    temp_plus[i] = s_index[i] + 1\n",
        "    temp_mius[i] = s_index[i] - 1\n",
        "    res_plus[i] = self.s_val[tuple(temp_plus)]\n",
        "    res_mius[i] = self.s_val[tuple(temp_mius)]\n",
        "  return res_plus,res_mius\n",
        "\n",
        "pde.Dif_array = Dif_array"
      ],
      "execution_count": 0,
      "outputs": []
    },
    {
      "cell_type": "code",
      "metadata": {
        "id": "JwkFShOotdfC",
        "colab_type": "code",
        "colab": {}
      },
      "source": [
        "def Dif_martix(self,s_index):        #calculate s_val(x+e_i*h-e_j*h), s_val(x-e_j*h+e_i*h), s_val(x+e_j*h+e_i*h), s_val(x-e_j*h-e_i*h)\n",
        "  res_plus_plus = np.zeros((self.dim,self.dim))\n",
        "  res_mius_mius = np.zeros((self.dim,self.dim))\n",
        "  res_plus_mius = np.zeros((self.dim,self.dim))\n",
        "  res_mius_plus = np.zeros((self.dim,self.dim))\n",
        "  for i in range(self.dim):\n",
        "    for j in range(self.dim):\n",
        "      if i != j:\n",
        "        temp_plus_plus = s_index.copy()\n",
        "        temp_mius_mius = s_index.copy()\n",
        "        temp_plus_mius = s_index.copy()\n",
        "        temp_mius_plus = s_index.copy()\n",
        "        \n",
        "        temp_plus_plus[i] = s_index[i] + 1\n",
        "        temp_plus_plus[j] = s_index[j] + 1\n",
        "        \n",
        "        temp_mius_mius[i] = s_index[i] - 1\n",
        "        temp_mius_mius[j] = s_index[j] - 1\n",
        "        \n",
        "        temp_plus_mius[i] = s_index[i] + 1\n",
        "        temp_plus_mius[j] = s_index[j] - 1\n",
        "        \n",
        "        temp_mius_plus[i] = s_index[i] - 1\n",
        "        temp_mius_plus[j] = s_index[j] + 1\n",
        "\n",
        "        res_plus_plus[i][j] = self.s_val[tuple(temp_plus_plus)]\n",
        "        res_mius_mius[i][j] = self.s_val[tuple(temp_mius_mius)]\n",
        "        res_plus_mius[i][j] = self.s_val[tuple(temp_plus_mius)]\n",
        "        res_mius_plus[i][j] = self.s_val[tuple(temp_mius_plus)]\n",
        "  res = res_plus_plus + res_mius_mius - res_plus_mius - res_mius_plus\n",
        "  \n",
        "  return res\n",
        "\n",
        "pde.Dif_martix = Dif_martix"
      ],
      "execution_count": 0,
      "outputs": []
    },
    {
      "cell_type": "code",
      "metadata": {
        "id": "68N0NtV2HjrA",
        "colab_type": "code",
        "outputId": "a4355bfb-4b4b-4fc8-9f61-2e55620e4042",
        "colab": {
          "base_uri": "https://localhost:8080/",
          "height": 34
        }
      },
      "source": [
        "a = np.arange(9).reshape((3,3))\n",
        "np.sum(a)"
      ],
      "execution_count": 274,
      "outputs": [
        {
          "output_type": "execute_result",
          "data": {
            "text/plain": [
              "36"
            ]
          },
          "metadata": {
            "tags": []
          },
          "execution_count": 274
        }
      ]
    },
    {
      "cell_type": "code",
      "metadata": {
        "id": "7ksl6Piqaye1",
        "colab_type": "code",
        "colab": {}
      },
      "source": [
        "def q_learning(self, \n",
        "               n_epoch = 50000, #tolerance for iteration\n",
        "               learning_rate = 0.01, #maximum iteration\n",
        "                start_state = np.array([0,0])\n",
        "              ):\n",
        " \n",
        "  start_ind = ((start_state + 1)/0.1).astype(int)\n",
        "  Lambda_ = 1 + self.lambda_*(self.h**2)/sum(self.sigma.diagonal())# reciprocal of discount factor\n",
        "\n",
        "  for epoch in tqdm(range(n_epoch)):\n",
        "    now_ind_ = start_ind.copy() #start\n",
        "    while (np.min(now_ind_) != 0 and np.max(now_ind_) != (self.x_space.size - 1)):\n",
        "      if np.random.random() > 0.05:\n",
        "        res = np.where(self.q_table[tuple(now_ind_)] == np.min(self.q_table[tuple(now_ind_)])) #choose action index\n",
        "        act_ind_ = np.array([res[i][0] for i in range(len(res))])\n",
        "\n",
        "      else:\n",
        "        act_ind_ = np.array([np.random.randint(self.a_space.size),np.random.randint(self.a_space.size)])\n",
        "\n",
        "      x_ = np.array([self.x_space[now_ind_[0]],self.x_space[now_ind_[1]]]) #current state\n",
        "      a_ = np.array([self.a_space[int(act_ind_[0])],self.a_space[int(act_ind_[1])]]) #current action\n",
        "      c1 = self.lambda_ + sum(self.sigma.diagonal())/(self.h**2)\n",
        "      run_cost_ = (self.run_cost(x_,a_))/c1\n",
        "      \n",
        "      tp_right, tp_left = self.mdp_trans_prob_central(x_, a_, self.sigma)\n",
        "      sampling_ = np.random.binomial(1, 0.5)\n",
        "      index_ = np.arange(self.dim**2)\n",
        "  \n",
        "      temp = 0\n",
        "      next_ind_ = now_ind_.copy()\n",
        "\n",
        "      if sampling_ == 0:\n",
        "        \n",
        "        temp = np.random.choice(index_,1,p=tp_right.reshape(self.dim**2))\n",
        "        \n",
        "        if temp//self.dim != temp%self.dim:\n",
        "          \n",
        "          next_ind_[temp//self.dim] = now_ind_[temp//self.dim] + 1\n",
        "          next_ind_[temp%self.dim] = now_ind_[temp%self.dim] + 1\n",
        "          \n",
        "        else:\n",
        "          next_ind_[temp//self.dim] = now_ind_[temp//self.dim] + 1\n",
        "      else:\n",
        "        \n",
        "        temp = np.random.choice(index_,1,p=tp_left.reshape(self.dim**2))\n",
        "        \n",
        "        if temp//self.dim != temp%self.dim:\n",
        "          \n",
        "          next_ind_[temp//self.dim] = now_ind_[temp//self.dim] - 1\n",
        "          next_ind_[temp%self.dim] = now_ind_[temp%self.dim] - 1\n",
        "          \n",
        "        else:\n",
        "          next_ind_[temp//self.dim] = now_ind_[temp//self.dim] - 1 \n",
        "      del_q = run_cost_ + self.s_val[tuple(next_ind_)]/Lambda_ - self.q_table[tuple(np.append(now_ind_, act_ind_))]\n",
        "      self.q_table[tuple(np.append(now_ind_, act_ind_))] += learning_rate*del_q\n",
        "      self.s_val[tuple(now_ind_)] = np.min(self.q_table[tuple(now_ind_)]) #sync q_table with s_val\n",
        "      now_ind_ = next_ind_.copy()\n",
        "\n",
        "  return self.s_val[start_ind]\n",
        "      \n",
        "pde.q_learning = q_learning    "
      ],
      "execution_count": 0,
      "outputs": []
    },
    {
      "cell_type": "code",
      "metadata": {
        "id": "v5WuKO_gYxo0",
        "colab_type": "code",
        "outputId": "23eb5891-96f2-4d13-adfd-7414f0b5b8d6",
        "colab": {
          "base_uri": "https://localhost:8080/",
          "height": 52
        }
      },
      "source": [
        "  pde1 = pde(dim=2,NUM=10)\n",
        "  pde1.mdp_space_config()\n",
        "  ans = pde1.q_learning()"
      ],
      "execution_count": 276,
      "outputs": [
        {
          "output_type": "stream",
          "text": [
            ">>>>> q_table size is 194481\n"
          ],
          "name": "stdout"
        },
        {
          "output_type": "stream",
          "text": [
            "100%|██████████| 50000/50000 [21:40<00:00, 31.32it/s]\n"
          ],
          "name": "stderr"
        }
      ]
    },
    {
      "cell_type": "code",
      "metadata": {
        "id": "_r37m_JFmlwk",
        "colab_type": "code",
        "outputId": "885f82b6-7693-4c07-ca80-0a97a81a2a99",
        "colab": {
          "base_uri": "https://localhost:8080/",
          "height": 34
        }
      },
      "source": [
        "end_time = time.time()\n",
        "print('elapsed time is %f seconds' %(end_time - start_time))"
      ],
      "execution_count": 277,
      "outputs": [
        {
          "output_type": "stream",
          "text": [
            "elapsed time is 1301.120693 seconds\n"
          ],
          "name": "stdout"
        }
      ]
    },
    {
      "cell_type": "code",
      "metadata": {
        "id": "WUz85Uxzl_Ea",
        "colab_type": "code",
        "outputId": "73c93206-8c11-4c81-8769-cec46a7381c2",
        "colab": {
          "base_uri": "https://localhost:8080/",
          "height": 34
        }
      },
      "source": [
        "pde1.exact_sol(np.array([0,0]))"
      ],
      "execution_count": 278,
      "outputs": [
        {
          "output_type": "execute_result",
          "data": {
            "text/plain": [
              "0"
            ]
          },
          "metadata": {
            "tags": []
          },
          "execution_count": 278
        }
      ]
    },
    {
      "cell_type": "code",
      "metadata": {
        "id": "taKN-XntlqIo",
        "colab_type": "code",
        "outputId": "015cc065-189d-454a-9d6d-5cf934c153c4",
        "colab": {
          "base_uri": "https://localhost:8080/",
          "height": 1000
        }
      },
      "source": [
        "pde1.s_val"
      ],
      "execution_count": 279,
      "outputs": [
        {
          "output_type": "execute_result",
          "data": {
            "text/plain": [
              "array([[-2.        , -1.81      , -1.64      , -1.49      , -1.36      ,\n",
              "        -1.25      , -1.16      , -1.09      , -1.04      , -1.01      ,\n",
              "        -1.        , -1.01      , -1.04      , -1.09      , -1.16      ,\n",
              "        -1.25      , -1.36      , -1.49      , -1.64      , -1.81      ,\n",
              "        -2.        ],\n",
              "       [-1.81      , -1.99972675, -1.99942163, -1.99809087, -1.99297942,\n",
              "        -1.99122233, -1.98965404, -1.98109597, -1.97993167, -1.97914304,\n",
              "        -1.97876894, -1.97903255, -1.97979557, -1.98112809, -1.98903658,\n",
              "        -1.99105395, -1.99293277, -1.99820692, -1.9992231 , -1.99972229,\n",
              "        -1.81      ],\n",
              "       [-1.64      , -1.99920893, -1.99894724, -1.99840108, -1.99792572,\n",
              "        -1.99749452, -1.99710904, -1.99673778, -1.99649305, -1.99635155,\n",
              "        -1.99629286, -1.99628219, -1.9964518 , -1.99668369, -1.99695829,\n",
              "        -1.99740507, -1.99792836, -1.99835399, -1.99884672, -1.99919781,\n",
              "        -1.64      ],\n",
              "       [-1.49      , -1.99761856, -1.99837143, -1.99765075, -1.99705946,\n",
              "        -1.99650486, -1.99600341, -1.99559922, -1.9953688 , -1.99520767,\n",
              "        -1.99512919, -1.99509986, -1.99523709, -1.99551621, -1.9959391 ,\n",
              "        -1.99648371, -1.99706526, -1.9976104 , -1.9983195 , -1.99805266,\n",
              "        -1.49      ],\n",
              "       [-1.36      , -1.99293646, -1.99792306, -1.99707325, -1.99629602,\n",
              "        -1.99557912, -1.99490423, -1.99436947, -1.99405175, -1.99383661,\n",
              "        -1.99372744, -1.99378025, -1.99399154, -1.99440685, -1.99490219,\n",
              "        -1.99553848, -1.99624753, -1.99700976, -1.9979024 , -1.99309469,\n",
              "        -1.36      ],\n",
              "       [-1.25      , -1.99114448, -1.99746711, -1.99649816, -1.99555988,\n",
              "        -1.9946225 , -1.99383313, -1.99318214, -1.9927359 , -1.99241129,\n",
              "        -1.99224765, -1.99245791, -1.99273492, -1.99331114, -1.99395357,\n",
              "        -1.99469002, -1.995511  , -1.99649071, -1.99754956, -1.9914384 ,\n",
              "        -1.25      ],\n",
              "       [-1.16      , -1.98936172, -1.99710738, -1.99610665, -1.99497078,\n",
              "        -1.99382743, -1.99295322, -1.99203138, -1.99133048, -1.99079235,\n",
              "        -1.99048591, -1.99074127, -1.99131968, -1.99205929, -1.99298898,\n",
              "        -1.99395568, -1.99497936, -1.99606107, -1.99705158, -1.98964262,\n",
              "        -1.16      ],\n",
              "       [-1.09      , -1.98580926, -1.99680272, -1.99568549, -1.99442953,\n",
              "        -1.99322562, -1.99204037, -1.99077176, -1.98975025, -1.98884545,\n",
              "        -1.98832745, -1.98869741, -1.98966805, -1.99079491, -1.99203759,\n",
              "        -1.99328128, -1.99447653, -1.99567891, -1.99677945, -1.98131406,\n",
              "        -1.09      ],\n",
              "       [-1.04      , -1.97989814, -1.996529  , -1.99539901, -1.99409628,\n",
              "        -1.99274673, -1.99126129, -1.98966811, -1.98798234, -1.98623071,\n",
              "        -1.98505005, -1.98613521, -1.9879443 , -1.9896526 , -1.99120923,\n",
              "        -1.9927176 , -1.9940453 , -1.99534147, -1.99657688, -1.98003516,\n",
              "        -1.04      ],\n",
              "       [-1.01      , -1.9789452 , -1.99633275, -1.99516344, -1.99375598,\n",
              "        -1.99226939, -1.99065282, -1.98866917, -1.98617468, -1.98299944,\n",
              "        -1.98036383, -1.98294642, -1.98616147, -1.98864787, -1.99065925,\n",
              "        -1.99235127, -1.99382452, -1.99523315, -1.99630095, -1.97899855,\n",
              "        -1.01      ],\n",
              "       [-1.        , -1.97873094, -1.99628891, -1.99504929, -1.99360267,\n",
              "        -1.99205805, -1.99040956, -1.98829764, -1.98516909, -1.98035825,\n",
              "        -1.97557548, -1.98026327, -1.98506584, -1.98826488, -1.9906425 ,\n",
              "        -1.99235628, -1.99381071, -1.99526065, -1.99634934, -1.97889232,\n",
              "        -1.        ],\n",
              "       [-1.01      , -1.97900056, -1.99635681, -1.99524128, -1.99383543,\n",
              "        -1.99227511, -1.99068732, -1.9888236 , -1.98630133, -1.98304769,\n",
              "        -1.98041977, -1.98298516, -1.98623723, -1.98884622, -1.99083839,\n",
              "        -1.99245783, -1.99395489, -1.99537955, -1.99641371, -1.97885387,\n",
              "        -1.01      ],\n",
              "       [-1.04      , -1.97992279, -1.9966188 , -1.99550524, -1.99415215,\n",
              "        -1.99267821, -1.99121679, -1.98971631, -1.9879779 , -1.98621231,\n",
              "        -1.9850983 , -1.98619036, -1.98796752, -1.98989211, -1.99144642,\n",
              "        -1.99277234, -1.99415739, -1.99550012, -1.99667547, -1.98009618,\n",
              "        -1.04      ],\n",
              "       [-1.09      , -1.98805651, -1.99695209, -1.99585704, -1.9945853 ,\n",
              "        -1.99335261, -1.99215011, -1.99094757, -1.98980137, -1.98880537,\n",
              "        -1.98831062, -1.9887917 , -1.98969   , -1.99098278, -1.99222052,\n",
              "        -1.99341087, -1.99459968, -1.99580384, -1.99686184, -1.98832778,\n",
              "        -1.09      ],\n",
              "       [-1.16      , -1.98980377, -1.99723678, -1.99613851, -1.99504223,\n",
              "        -1.99403842, -1.99304344, -1.9920961 , -1.99133569, -1.99075865,\n",
              "        -1.99054581, -1.99080018, -1.9913087 , -1.99209089, -1.99310881,\n",
              "        -1.99412822, -1.99510902, -1.99614644, -1.99714047, -1.98994906,\n",
              "        -1.16      ],\n",
              "       [-1.25      , -1.99127726, -1.99757865, -1.99656876, -1.99563725,\n",
              "        -1.99476179, -1.99389748, -1.99317724, -1.99257282, -1.99221026,\n",
              "        -1.99214002, -1.99230499, -1.99267357, -1.99317493, -1.99396341,\n",
              "        -1.99484859, -1.99568638, -1.99655298, -1.99750582, -1.99111296,\n",
              "        -1.25      ],\n",
              "       [-1.36      , -1.9929759 , -1.99799575, -1.99714223, -1.99634728,\n",
              "        -1.9956255 , -1.99495067, -1.994442  , -1.99392078, -1.99364861,\n",
              "        -1.9936976 , -1.99369064, -1.99401425, -1.99434979, -1.99490874,\n",
              "        -1.9955978 , -1.99630147, -1.99702769, -1.99785957, -1.99292015,\n",
              "        -1.36      ],\n",
              "       [-1.49      , -1.99837433, -1.99844381, -1.99778534, -1.99716454,\n",
              "        -1.99659724, -1.99609022, -1.99569684, -1.99526752, -1.99502921,\n",
              "        -1.99506465, -1.99499935, -1.99527149, -1.99553503, -1.99604935,\n",
              "        -1.99659189, -1.99705374, -1.997652  , -1.998395  , -1.99687694,\n",
              "        -1.49      ],\n",
              "       [-1.64      , -1.99924485, -1.99898154, -1.99843592, -1.99795938,\n",
              "        -1.99748239, -1.99705085, -1.99673298, -1.99637977, -1.99612555,\n",
              "        -1.99610468, -1.99621513, -1.99643366, -1.99661033, -1.99706357,\n",
              "        -1.99754886, -1.99794321, -1.99839385, -1.99893239, -1.99921213,\n",
              "        -1.64      ],\n",
              "       [-1.81      , -1.99973103, -1.99944011, -1.99844336, -1.99293845,\n",
              "        -1.99124058, -1.98956273, -1.98131262, -1.97975318, -1.97893315,\n",
              "        -1.97869307, -1.97886989, -1.97983389, -1.98117859, -1.98929146,\n",
              "        -1.99107564, -1.99292059, -1.9980604 , -1.99920531, -1.99971975,\n",
              "        -1.81      ],\n",
              "       [-2.        , -1.81      , -1.64      , -1.49      , -1.36      ,\n",
              "        -1.25      , -1.16      , -1.09      , -1.04      , -1.01      ,\n",
              "        -1.        , -1.01      , -1.04      , -1.09      , -1.16      ,\n",
              "        -1.25      , -1.36      , -1.49      , -1.64      , -1.81      ,\n",
              "        -2.        ]])"
            ]
          },
          "metadata": {
            "tags": []
          },
          "execution_count": 279
        }
      ]
    },
    {
      "cell_type": "code",
      "metadata": {
        "id": "G5x_YELvmrId",
        "colab_type": "code",
        "outputId": "d97110b9-fbea-4603-b291-eb807bd0f65f",
        "colab": {
          "base_uri": "https://localhost:8080/",
          "height": 354
        }
      },
      "source": [
        "figure = plt.figure()\n",
        "axes = Axes3D(figure)\n",
        "X1 = pde1.x_space\n",
        "X2 = pde1.x_space\n",
        "X1, X2 = np.meshgrid(X1, X2)\n",
        "Z1 = pde1.s_val\n",
        "Z = -(X1)**2 - (X2)**2\n",
        "axes.plot_surface(X1, X2, Z1,cmap='rainbow')\n",
        "print('>>>max norm of error is ' + str(np.max(np.abs(Z-Z1))))\n",
        "print('>>>Percentage of error is ' + str(np.sum(np.abs(Z-Z1))/np.sum(np.abs(Z))))"
      ],
      "execution_count": 280,
      "outputs": [
        {
          "output_type": "stream",
          "text": [
            ">>>max norm of error is 1.9755754822835516\n",
            ">>>Percentage of error is 1.5546543542843292\n"
          ],
          "name": "stdout"
        },
        {
          "output_type": "display_data",
          "data": {
            "image/png": "[encoded data removed]",
            "text/plain": [
              "<Figure size 432x288 with 1 Axes>"
            ]
          },
          "metadata": {
            "tags": []
          }
        }
      ]
    }
  ]
}