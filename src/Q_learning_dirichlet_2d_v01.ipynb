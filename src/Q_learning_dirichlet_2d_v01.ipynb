{
  "nbformat": 4,
  "nbformat_minor": 0,
  "metadata": {
    "colab": {
      "name": "Q_learning_dirichlet_2d_v01.ipynb",
      "version": "0.3.2",
      "provenance": [],
      "collapsed_sections": [],
      "include_colab_link": true
    },
    "kernelspec": {
      "name": "python3",
      "display_name": "Python 3"
    }
  },
  "cells": [
    {
      "cell_type": "markdown",
      "metadata": {
        "id": "view-in-github",
        "colab_type": "text"
      },
      "source": [
        "<a href=\"https://colab.research.google.com/github/wqiu96/summer_project/blob/master/src/Q_learning_dirichlet_2d_v01.ipynb\" target=\"_parent\"><img src=\"https://colab.research.google.com/assets/colab-badge.svg\" alt=\"Open In Colab\"/></a>"
      ]
    },
    {
      "cell_type": "code",
      "metadata": {
        "id": "WrJvkAbpNyR3",
        "colab_type": "code",
        "colab": {}
      },
      "source": [
        "import numpy as np\n",
        "import time\n",
        "start_time = time.time()\n",
        "from tqdm import tqdm\n",
        "import matplotlib.pyplot as plt\n",
        "from mpl_toolkits.mplot3d import Axes3D "
      ],
      "execution_count": 0,
      "outputs": []
    },
    {
      "cell_type": "markdown",
      "metadata": {
        "id": "xNFJIMnEa39w",
        "colab_type": "text"
      },
      "source": [
        "__Goal__\n",
        "\n",
        "Implement value iteration on 1d HJB with Dirichlet data and verify with the explicit solution on Whittle’s “Flypaper”\n",
        "\n",
        "__Ref__\n",
        "\n",
        "- [1] Chap V.7 of [Roger and Williams 2000] \n",
        "\n",
        "- [2] P97, Example 4 of [Kushner and Dupuis 2001]\n",
        "\n",
        "- [previous version](https://github.com/songqsh/foo1/blob/master/src/value_iter_dirichlet_1d.ipynb)\n"
      ]
    },
    {
      "cell_type": "markdown",
      "metadata": {
        "id": "pqDOVcH776J5",
        "colab_type": "text"
      },
      "source": [
        "__Problem setup__\n",
        "\n",
        "We want to solve a d-dimensions HJB\n",
        "$$\\inf_a \\{\\sum_{i=1}^db_i(x,a)  \\frac{\\partial v(x)}{\\partial x_i}  + \\frac 1 2 \\sum_{i,j=1}^{d} \\hat \\sigma_{ij} \\frac{\\partial^2 v(x)}{\\partial x_i \\partial x_j} - \\lambda v(x) + \\ell(x,a)\\} = 0, \\quad \\hbox{ where } \\hat \\sigma _{ij} = \\sigma*\\sigma^T , \\sum_{i=1}^{d}x_i^2\\leq1$$\n",
        "with Dirichlet data\n",
        "$$v(x_1,x_2,..,x_d) = g(x_1,x_2,..,x_d), \\quad \\hbox{ when } \\sum_{i=1}^{d}x_i^2 = 1$$\n",
        "\n",
        "\n"
      ]
    },
    {
      "cell_type": "markdown",
      "metadata": {
        "id": "uVhPAihx-88o",
        "colab_type": "text"
      },
      "source": [
        "__MDP discretization__\n",
        "\n",
        "Approximation:\n",
        "$$\n",
        "\\frac{\\partial v(x)}{\\partial x_i} \\leftarrow \\frac{v(x+e_ih)-v(x-e_ih)}{2h}\n",
        "$$\n",
        "when $i = j$\n",
        "$$\n",
        "\\frac{\\partial^2 v(x)}{\\partial x_i^2} \\leftarrow \\frac{v(x+e_ih)-2v(x)+v(x-e_ih)}{h^2}\n",
        "$$\n",
        "when $i \\neq j$\n",
        "$$\n",
        "\\frac{\\partial^2 v(x)}{\\partial x_i^2} \\leftarrow \\frac{v(x+e_ih+e_jh)-v(x+e_ih-e_jh)-v(x-e_ih+e_jh)+v(x-e_ih-e_jh)}{4h^2}\n",
        "$$\n",
        "then\n",
        "$$\\inf_a \\{v(x)(-\\lambda-\\sum_{i=1}^{d}\\frac{\\hat \\sigma_{ii}}{h^2})+\\sum_{i=1}^{d}v(x+e_ih)\\frac{b_i(x,a)h+\\sigma_{ii}}{2h^2}+\\sum_{i=1}^{d}v(x-e_ih)\\frac{-b_i(x,a)h+\\sigma_{ii}}{2h^2}+    \\\\\n",
        "\\sum_{i,j=1,i\\neq j}^{d}(v(x+e_ih+e_jh)-v(x+e_ih-e_jh)-v(x-e_ih+e_jh)+v(x-e_ih-e_jh))\\frac{\\hat \\sigma_{ij}}{8h^2}+ \\ell(x,a)\\} = 0\n",
        "$$\n",
        "Set\n",
        "$$\n",
        "c_1 = \\lambda+\\sum_{i=1}^{d}\\frac{\\hat \\sigma_{ii}}{h^2}\n",
        "$$\n",
        "$$\n",
        "\\Lambda = \\frac{\\sum_{i=1}^{d}\\frac{\\lambda h^2+\\sigma_{ii}}{h^2}}{\\sum_{i=1}^{d}\\frac{\\sigma_{ii}}{h^2}}=\\frac{\\lambda h^2+\\sum_{i=1}^{d}{\\sigma_{ii}}}{\\sum_{i=1}^{d}\\sigma_{ii}}\n",
        "$$\n",
        "Then\n",
        "$$\n",
        "p^h(x+e_ih|x_i, a_i) = \\Lambda \\cdot (\\frac{b_i(x,a)h + \\hat \\sigma_{ii}}{2c_1h^2})\n",
        "$$\n",
        "$$\n",
        "p^h(x-e_ih|x_i, a_i) = \\Lambda \\cdot (\\frac{-b_i(x,a)h + \\hat \\sigma_{ii}}{2c_1h^2})\n",
        "$$\n",
        "$$\n",
        "p^h(x \\pm e_ih \\pm e_jh|x_i, x_j) = \\Lambda \\cdot \\frac{\\hat \\sigma_{ij}}{8h^2}\n",
        "$$\n",
        "$$\n",
        " \\hat \\ell(x,a)=\\frac{\\ell(x,a)}{c_1}\n",
        "$$\n",
        "so \n",
        "\n",
        "$$\n",
        "v(x) = \\inf_a\\{\\sum_{i=1}^{d}p^h(x+e_ih|x_i, a_i)v(x+e_ih) +\\sum_{i=1}^{d}p^h(x-e_ih|x_i, a_i)v(x-e_ih) \\\\\n",
        "+ \\sum_{i,j=1,i\\neq j}^{d}(v(x+e_ih+e_jh)-v(x+e_ih-e_jh)-v(x-e_ih+e_jh)+v(x-e_ih-e_jh))p^h(x \\pm e_ih \\pm e_jh|x_i, x_j) + \\hat \\ell(x,a) \\}\n",
        "$$"
      ]
    },
    {
      "cell_type": "markdown",
      "metadata": {
        "id": "OvzqIp2KXvzF",
        "colab_type": "text"
      },
      "source": [
        "__Example__\n",
        "$$\n",
        "\\inf_a(a \\bigtriangledown v + \\frac 1 2 \\bigtriangleup v +d + 2|x|^2 + \\frac 1 2 |a| ^2)\n",
        "$$\n",
        "\n",
        "where\n",
        "$$\n",
        "v(x) = g(x) = -|x|^2 = -(x_1^2 + x_2^2 +...+x_d^2)\\\\\n",
        "$$\n",
        "In this case\n",
        "$$\n",
        "b(x,a) = (a_1, a_2,...,a_d) \\\\\n",
        "\\begin{equation*}\n",
        "\\hat \\sigma =\\begin{bmatrix}\n",
        "1 & 0&\\dots & 0\\\\\n",
        "0 &1 &\\dots &0\\\\\n",
        "0 & 0 &\\dots & 1\n",
        "\\end{bmatrix}_{d\\times d}\n",
        "\\end{equation*}\n",
        "$$\n",
        "$$\n",
        "\\ell(x,a) = d + 2|x|^2 + \\frac 1 2 |a|^2\n",
        "$$\n",
        "the exact solution is \n",
        "$$\n",
        "v(x) =  -|x|^2 = -(x_1^2 + x_2^2 +...+x_d^2)\n",
        "$$"
      ]
    },
    {
      "cell_type": "markdown",
      "metadata": {
        "id": "2upaYLRHDJUU",
        "colab_type": "text"
      },
      "source": [
        "__Rk__\n",
        "\n",
        "There is essential difference of above MDP approximation using central FDM from the one\n",
        "using upward FDM provided by P97 of [2]."
      ]
    },
    {
      "cell_type": "code",
      "metadata": {
        "id": "PjDWKL6fvFNz",
        "colab_type": "code",
        "colab": {}
      },
      "source": [
        "#PDE to be solved\n",
        "class pde:\n",
        "  def __init__(self,dim,NUM):\n",
        "    #pde config\n",
        "    self.name = 'HJB nd'\n",
        "    self.dim = dim\n",
        "    self.NUM = NUM\n",
        "    self.LIM = 1 #limit for state\n",
        "    self.h = 1./self.NUM #mesh size in state space\n",
        "\n",
        "    self.lambda_ = 0. #discount rate\n",
        "    self.sigma = np.eye(self.dim) #diffusion coefficient matrix\n",
        "    \n",
        "    \n",
        "    \n",
        "    self.x_space = np.array([i*self.h for i in range(-self.NUM*self.LIM, (self.NUM+1)*self.LIM)])\n",
        "    self.a_space = np.array([i*self.h for i in range(-self.NUM*self.LIM, (self.NUM+1)*self.LIM)])\n",
        "    self.s_val = np.random.random(self.x_space.size*np.ones(self.dim, np.int))\n",
        "    self.q_table = np.random.random(np.append(self.x_space.size*np.ones(self.dim, np.int),self.a_space.size*np.ones(self.dim, np.int)))\n",
        "    self.term_ind_space = np.array([0, self.x_space.size-1]) #space of terminal state indice\n",
        "    \n",
        "    self.drift = lambda x,a: a  #drift coefficient function\n",
        "\n",
        "    self.run_cost = lambda x,a: self.dim + 2*np.sum(np.power(x,2)) + (1/2)*np.sum(np.power(a,2))\n",
        "    \n",
        "    self.term_cost = lambda x: -np.sum(np.power(x,2))\n",
        "    \n",
        "    #pde exact solution if available\n",
        "    self.exact_sol = self.term_cost\n",
        "\n",
        "    "
      ],
      "execution_count": 0,
      "outputs": []
    },
    {
      "cell_type": "code",
      "metadata": {
        "id": "h1biA8Y8R2Oc",
        "colab_type": "code",
        "colab": {}
      },
      "source": [
        "def mdp_space_config(self):\n",
        "\n",
        "  print('>>>>> q_table size is %i' %(self.q_table.size))\n",
        "\n",
        "  #s_val and q-table terminal setup\n",
        "  for i in range(self.s_val.size):  # visit all x States\n",
        "    k = self.dim - 1\n",
        "    x_d = []          \n",
        "    s_index = []\n",
        "    Limit = 0\n",
        "    while k >= 0:\n",
        "      x_d.append(self.x_space[(i//(self.x_space.size**k))%self.x_space.size])\n",
        "      s_index.append((i//(self.x_space.size**k))%self.x_space.size)\n",
        "      Limit += self.x_space[(i//(self.x_space.size**k))%self.x_space.size]**2\n",
        "      k -= 1\n",
        "    if (0 in s_index) or ((len(self.x_space) - 1) in s_index): # visit the terminal condition \n",
        "      self.s_val[tuple(s_index)] = self.term_cost(x_d)\n",
        "      for j in range(self.a_space.size**self.dim):\n",
        "        m = self.dim - 1\n",
        "        a_index = []\n",
        "        while m >= 0:\n",
        "          a_index.append((i//(self.a_space.size**m))%self.a_space.size)\n",
        "          m -= 1\n",
        "        self.q_table[tuple(s_index + a_index)] = self.term_cost(x_d)\n",
        "  \n",
        "pde.mdp_space_config = mdp_space_config"
      ],
      "execution_count": 0,
      "outputs": []
    },
    {
      "cell_type": "code",
      "metadata": {
        "id": "QIl6C9yFVLO_",
        "colab_type": "code",
        "colab": {}
      },
      "source": [
        "#transition probability\n",
        "#output is probability (np array) on del_ind_space \n",
        "#central fdm\n",
        "\n",
        "def mdp_trans_prob_central(self,x,a,sigma):\n",
        "  tp_right = np.zeros((self.dim,self.dim))\n",
        "  tp_left = np.zeros((self.dim,self.dim))\n",
        "  b_ = self.drift(x,a)\n",
        "  \n",
        "  c1 = self.lambda_ + sum(sigma.diagonal())/(self.h**2)\n",
        "  Lambda = 1 + self.lambda_*(self.h**2)/sum(self.sigma.diagonal())\n",
        "  \n",
        "  tp_right =Lambda*sigma/(8*c1*self.h**2)\n",
        "  tp_left = Lambda*sigma/(8*c1*self.h**2)\n",
        "  \n",
        "  p_right = Lambda*((b_*self.h + sigma.diagonal())/(2*c1*self.h**2))\n",
        "  p_left = Lambda*((-1*b_*self.h + sigma.diagonal())/(2*c1*self.h**2))\n",
        "  for i in range(self.dim):\n",
        "    tp_right[i,i] = p_right[i]\n",
        "    tp_left[i,i] = p_left[i]\n",
        "\n",
        "  discount = 1+2*np.sum(Lambda*sigma/(8*c1*self.h**2)) - 2*np.sum((Lambda*sigma/(8*c1*self.h**2)).diagonal())\n",
        "  tp_right = tp_right/(discount - np.sum(p_left))\n",
        "  tp_left = tp_left/(discount - np.sum(p_right))\n",
        "\n",
        "\n",
        "  return tp_right, tp_left \n",
        "\n",
        "pde.mdp_trans_prob_central = mdp_trans_prob_central"
      ],
      "execution_count": 0,
      "outputs": []
    },
    {
      "cell_type": "code",
      "metadata": {
        "id": "PR6Hagr1q7Im",
        "colab_type": "code",
        "colab": {}
      },
      "source": [
        "def Dif_array(self,s_index):        #calculate s_val(x+e_i*h) and s_val(x-e_i*h)\n",
        "  res_plus = np.zeros(self.dim)\n",
        "  res_mius = np.zeros(self.dim)\n",
        "  for i in range(self.dim):\n",
        "    temp_plus = s_index.copy() #copy()!!!!!!! very important\n",
        "    temp_mius = s_index.copy()\n",
        "    temp_plus[i] = s_index[i] + 1\n",
        "    temp_mius[i] = s_index[i] - 1\n",
        "    res_plus[i] = self.s_val[tuple(temp_plus)]\n",
        "    res_mius[i] = self.s_val[tuple(temp_mius)]\n",
        "  return res_plus,res_mius\n",
        "\n",
        "pde.Dif_array = Dif_array"
      ],
      "execution_count": 0,
      "outputs": []
    },
    {
      "cell_type": "code",
      "metadata": {
        "id": "JwkFShOotdfC",
        "colab_type": "code",
        "colab": {}
      },
      "source": [
        "def Dif_martix(self,s_index):        #calculate s_val(x+e_i*h-e_j*h), s_val(x-e_j*h+e_i*h), s_val(x+e_j*h+e_i*h), s_val(x-e_j*h-e_i*h)\n",
        "  res_plus_plus = np.zeros((self.dim,self.dim))\n",
        "  res_mius_mius = np.zeros((self.dim,self.dim))\n",
        "  res_plus_mius = np.zeros((self.dim,self.dim))\n",
        "  res_mius_plus = np.zeros((self.dim,self.dim))\n",
        "  for i in range(self.dim):\n",
        "    for j in range(self.dim):\n",
        "      if i != j:\n",
        "        temp_plus_plus = s_index.copy()\n",
        "        temp_mius_mius = s_index.copy()\n",
        "        temp_plus_mius = s_index.copy()\n",
        "        temp_mius_plus = s_index.copy()\n",
        "        \n",
        "        temp_plus_plus[i] = s_index[i] + 1\n",
        "        temp_plus_plus[j] = s_index[j] + 1\n",
        "        \n",
        "        temp_mius_mius[i] = s_index[i] - 1\n",
        "        temp_mius_mius[j] = s_index[j] - 1\n",
        "        \n",
        "        temp_plus_mius[i] = s_index[i] + 1\n",
        "        temp_plus_mius[j] = s_index[j] - 1\n",
        "        \n",
        "        temp_mius_plus[i] = s_index[i] - 1\n",
        "        temp_mius_plus[j] = s_index[j] + 1\n",
        "\n",
        "        res_plus_plus[i][j] = self.s_val[tuple(temp_plus_plus)]\n",
        "        res_mius_mius[i][j] = self.s_val[tuple(temp_mius_mius)]\n",
        "        res_plus_mius[i][j] = self.s_val[tuple(temp_plus_mius)]\n",
        "        res_mius_plus[i][j] = self.s_val[tuple(temp_mius_plus)]\n",
        "  res = res_plus_plus + res_mius_mius - res_plus_mius - res_mius_plus\n",
        "  \n",
        "  return res\n",
        "\n",
        "pde.Dif_martix = Dif_martix"
      ],
      "execution_count": 0,
      "outputs": []
    },
    {
      "cell_type": "code",
      "metadata": {
        "id": "68N0NtV2HjrA",
        "colab_type": "code",
        "outputId": "4e3fd0a5-bcca-4f03-8a1e-4608e4d9aff7",
        "colab": {
          "base_uri": "https://localhost:8080/",
          "height": 33
        }
      },
      "source": [
        "a = np.arange(9).reshape((3,3))\n",
        "np.sum(a)"
      ],
      "execution_count": 7,
      "outputs": [
        {
          "output_type": "execute_result",
          "data": {
            "text/plain": [
              "36"
            ]
          },
          "metadata": {
            "tags": []
          },
          "execution_count": 7
        }
      ]
    },
    {
      "cell_type": "code",
      "metadata": {
        "id": "7ksl6Piqaye1",
        "colab_type": "code",
        "colab": {}
      },
      "source": [
        "def q_learning(self, \n",
        "               n_epoch = 50000, #tolerance for iteration\n",
        "               learning_rate = 0.01, #maximum iteration\n",
        "                start_state = np.array([0,0])\n",
        "              ):\n",
        " \n",
        "  start_ind = ((start_state + 1)/0.1).astype(int)\n",
        "  Lambda_ = 1 + self.lambda_*(self.h**2)/sum(self.sigma.diagonal())# reciprocal of discount factor\n",
        "\n",
        "  for epoch in tqdm(range(n_epoch)):\n",
        "    now_ind_ = start_ind.copy() #start\n",
        "    while (np.min(now_ind_) != 0 and np.max(now_ind_) != (self.x_space.size - 1)):\n",
        "      if np.random.random() > 0.05:\n",
        "        res = np.where(self.q_table[tuple(now_ind_)] == np.min(self.q_table[tuple(now_ind_)])) #choose action index\n",
        "        act_ind_ = np.array([res[i][0] for i in range(len(res))])\n",
        "\n",
        "      else:\n",
        "        act_ind_ = np.array([np.random.randint(self.a_space.size),np.random.randint(self.a_space.size)])\n",
        "  \n",
        "      x_ = np.array(self.x_space[now_ind_[0]],self.x_space[now_ind_[1]]) #current state\n",
        "      a_ = np.array(self.a_space[int(now_ind_[0])],self.a_space[int(now_ind_[1])]) #current action\n",
        "      \n",
        "      c1 = self.lambda_ + sum(self.sigma.diagonal())/(self.h**2)\n",
        "      run_cost_ = (self.run_cost(x_,a_))/c1\n",
        "      \n",
        "      tp_right, tp_left = self.mdp_trans_prob_central(x_, a_, self.sigma)\n",
        "      sampling_ = np.random.binomial(1, 0.5)\n",
        "      index_ = np.arange(self.dim**2)\n",
        "  \n",
        "      temp = 0\n",
        "      next_ind_ = now_ind_.copy()\n",
        "\n",
        "      if sampling_ == 0:\n",
        "        \n",
        "        temp = np.random.choice(index_,1,p=tp_right.reshape(self.dim**2))\n",
        "        \n",
        "        if temp//self.dim != temp%self.dim:\n",
        "          \n",
        "          next_ind_[temp//self.dim] = now_ind_[temp//self.dim] + 1\n",
        "          next_ind_[temp%self.dim] = now_ind_[temp%self.dim] + 1\n",
        "          \n",
        "        else:\n",
        "          next_ind_[temp//self.dim] = now_ind_[temp//self.dim] + 1\n",
        "      else:\n",
        "        \n",
        "        temp = np.random.choice(index_,1,p=tp_left.reshape(self.dim**2))\n",
        "        \n",
        "        if temp//self.dim != temp%self.dim:\n",
        "          \n",
        "          next_ind_[temp//self.dim] = now_ind_[temp//self.dim] - 1\n",
        "          next_ind_[temp%self.dim] = now_ind_[temp%self.dim] - 1\n",
        "          \n",
        "        else:\n",
        "          next_ind_[temp//self.dim] = now_ind_[temp//self.dim] - 1 \n",
        "      try:\n",
        "        del_q = run_cost_ + self.s_val[tuple(next_ind_)]/Lambda_ - self.q_table[tuple(np.append(now_ind_, act_ind_))]\n",
        "      except:\n",
        "        print(now_ind_,act_ind_)\n",
        "      self.q_table[tuple(np.append(now_ind_, act_ind_))] = learning_rate*del_q\n",
        "      self.s_val[tuple(now_ind_)] = np.min(self.q_table[tuple(now_ind_)]) #sync q_table with s_val\n",
        "      now_ind_ = next_ind_\n",
        "          \n",
        "  return self.s_val[start_ind]\n",
        "      \n",
        "pde.q_learning = q_learning    "
      ],
      "execution_count": 0,
      "outputs": []
    },
    {
      "cell_type": "code",
      "metadata": {
        "id": "v5WuKO_gYxo0",
        "colab_type": "code",
        "outputId": "883054ab-c9bd-4aa2-9e89-5f6e8e106d04",
        "colab": {
          "base_uri": "https://localhost:8080/",
          "height": 50
        }
      },
      "source": [
        "  pde1 = pde(dim=2,NUM=10)\n",
        "  pde1.mdp_space_config()\n",
        "  ans = pde1.q_learning()"
      ],
      "execution_count": 9,
      "outputs": [
        {
          "output_type": "stream",
          "text": [
            ">>>>> q_table size is 194481\n"
          ],
          "name": "stdout"
        },
        {
          "output_type": "stream",
          "text": [
            "100%|██████████| 50000/50000 [21:13<00:00, 39.27it/s]\n"
          ],
          "name": "stderr"
        }
      ]
    },
    {
      "cell_type": "code",
      "metadata": {
        "id": "_r37m_JFmlwk",
        "colab_type": "code",
        "colab": {
          "base_uri": "https://localhost:8080/",
          "height": 33
        },
        "outputId": "92430702-d4ab-4340-d9d1-740a8c4f7e5e"
      },
      "source": [
        "end_time = time.time()\n",
        "print('elapsed time is %f seconds' %(end_time - start_time))"
      ],
      "execution_count": 10,
      "outputs": [
        {
          "output_type": "stream",
          "text": [
            "elapsed time is 1273.914883 seconds\n"
          ],
          "name": "stdout"
        }
      ]
    },
    {
      "cell_type": "code",
      "metadata": {
        "id": "WUz85Uxzl_Ea",
        "colab_type": "code",
        "colab": {
          "base_uri": "https://localhost:8080/",
          "height": 33
        },
        "outputId": "7730176b-a402-4c25-965d-9c8927f7f4a0"
      },
      "source": [
        "pde1.exact_sol(np.array([0,0]))"
      ],
      "execution_count": 11,
      "outputs": [
        {
          "output_type": "execute_result",
          "data": {
            "text/plain": [
              "0"
            ]
          },
          "metadata": {
            "tags": []
          },
          "execution_count": 11
        }
      ]
    },
    {
      "cell_type": "code",
      "metadata": {
        "id": "taKN-XntlqIo",
        "colab_type": "code",
        "colab": {
          "base_uri": "https://localhost:8080/",
          "height": 1000
        },
        "outputId": "1239ce3d-2288-45e4-ba05-13251f082e6d"
      },
      "source": [
        "pde1.s_val"
      ],
      "execution_count": 15,
      "outputs": [
        {
          "output_type": "execute_result",
          "data": {
            "text/plain": [
              "array([[-2.00000000e+00, -1.81000000e+00, -1.64000000e+00,\n",
              "        -1.49000000e+00, -1.36000000e+00, -1.25000000e+00,\n",
              "        -1.16000000e+00, -1.09000000e+00, -1.04000000e+00,\n",
              "        -1.01000000e+00, -1.00000000e+00, -1.01000000e+00,\n",
              "        -1.04000000e+00, -1.09000000e+00, -1.16000000e+00,\n",
              "        -1.25000000e+00, -1.36000000e+00, -1.49000000e+00,\n",
              "        -1.64000000e+00, -1.81000000e+00, -2.00000000e+00],\n",
              "       [-1.81000000e+00, -1.79025346e-02,  2.26856297e-04,\n",
              "        -1.47007766e-02,  2.02514009e-04, -1.23020105e-02,\n",
              "         1.92249906e-04,  2.01108943e-04, -1.02007730e-02,\n",
              "         2.00260402e-04,  2.01222163e-04, -9.90072476e-03,\n",
              "         2.05478228e-04,  2.01041687e-04, -1.14003481e-02,\n",
              "        -1.23007604e-02, -1.34007625e-02,  2.01261212e-04,\n",
              "         2.02059852e-05,  3.70134870e-04, -1.81000000e+00],\n",
              "       [-1.64000000e+00, -7.74980660e-07,  1.81452445e-04,\n",
              "         1.80000022e-04,  1.79814373e-04, -6.56806895e-03,\n",
              "         1.80000001e-04,  1.79999982e-04,  7.61923954e-05,\n",
              "         1.80997798e-04,  1.79228159e-04,  1.79800859e-04,\n",
              "         1.79998146e-04,  1.80002321e-04,  1.79816390e-04,\n",
              "         1.80210939e-04,  1.80012798e-04,  1.80736838e-04,\n",
              "         1.61942332e-05, -1.62200100e-02, -1.64000000e+00],\n",
              "       [-1.49000000e+00,  1.61251654e-04,  1.05462180e-04,\n",
              "         1.61419244e-04,  1.61085641e-04,  1.60980374e-04,\n",
              "         1.61251613e-04,  1.61246535e-04,  1.61247972e-04,\n",
              "         1.61256689e-04,  1.61241794e-04,  1.61251655e-04,\n",
              "         1.61249985e-04,  1.61251625e-04,  1.61251657e-04,\n",
              "         1.61249976e-04,  1.61248400e-04,  1.61250016e-04,\n",
              "         1.61249999e-04,  1.59663553e-04, -1.49000000e+00],\n",
              "       [-1.36000000e+00,  2.13378032e-04,  1.45513688e-04,\n",
              "         1.44862228e-04,  1.45003019e-04,  1.44998625e-04,\n",
              "         1.44999986e-04, -7.05682552e-03,  1.44999971e-04,\n",
              "         1.45000000e-04,  1.45162535e-04,  1.44865247e-04,\n",
              "         1.45162498e-04,  1.45160875e-04,  1.45160828e-04,\n",
              "         1.44863742e-04,  1.44998406e-04,  1.44862281e-04,\n",
              "         1.44986658e-04, -1.34564367e-02, -1.36000000e+00],\n",
              "       [-1.25000000e+00,  1.31252429e-04,  1.29127662e-04,\n",
              "         1.31136108e-04,  1.31136614e-04,  1.31387489e-04,\n",
              "         4.80897128e-05,  1.31250000e-04,  1.31137264e-04,\n",
              "         1.31139716e-04,  1.31386128e-04,  1.31250005e-04,\n",
              "         1.31258494e-04,  1.31386138e-04,  1.31387497e-04,\n",
              "         1.31251374e-04,  1.31249988e-04,  1.31250000e-04,\n",
              "         1.31388639e-04,  2.54888882e-04, -1.25000000e+00],\n",
              "       [-1.16000000e+00,  1.20101712e-04,  1.21072512e-04,\n",
              "         1.20000029e-04,  1.19912492e-04,  1.19914235e-04,\n",
              "         1.19999998e-04,  1.19913384e-04,  1.19997989e-04,\n",
              "         1.20000895e-04,  1.20111381e-04,  1.20111386e-04,\n",
              "         1.20000012e-04,  1.19999989e-04,  1.20111373e-04,\n",
              "         1.20000866e-04,  1.19914233e-04,  1.20000020e-04,\n",
              "         1.19913381e-04, -1.14811884e-02, -1.16000000e+00],\n",
              "       [-1.09000000e+00,  1.11358094e-04,  1.11250619e-04,\n",
              "        -9.45093698e-03,  1.11187503e-04,  1.11250633e-04,\n",
              "         1.11187496e-04,  1.11188119e-04,  1.11250000e-04,\n",
              "         1.11249998e-04,  1.11188106e-04,  1.11187494e-04,\n",
              "         1.11250634e-04,  1.11248480e-04,  1.11337495e-04,\n",
              "         1.11250000e-04,  1.11186634e-04,  1.11186613e-04,\n",
              "         1.11187401e-04,  1.11250102e-04, -1.09000000e+00],\n",
              "       [-1.04000000e+00,  4.95228266e-06,  1.04999578e-04,\n",
              "         1.04961883e-04,  1.04962504e-04,  1.04961757e-04,\n",
              "         1.05000623e-04,  1.04961881e-04,  1.05001006e-04,\n",
              "         1.04999615e-04,  1.05000375e-04,  1.04999994e-04,\n",
              "         1.05000368e-04,  1.05062509e-04,  1.04962500e-04,\n",
              "         1.04962252e-04,  1.04962875e-04,  1.04999988e-04,\n",
              "         1.04962594e-04, -1.99913497e-02, -1.04000000e+00],\n",
              "       [-1.01000000e+00, -9.89975238e-03,  1.00629525e-04,\n",
              "         1.01250000e-04,  1.01237624e-04,  1.01250124e-04,\n",
              "         1.01287128e-04,  1.01249875e-04,  1.01237623e-04,\n",
              "         1.01249879e-04,  1.01287254e-04,  1.01250123e-04,\n",
              "         1.01286761e-04,  1.01250121e-04,  1.01249878e-04,\n",
              "         1.01237745e-04,  1.01250003e-04,  1.01237626e-04,\n",
              "         1.01250024e-04, -9.89976248e-03, -1.01000000e+00],\n",
              "       [-1.00000000e+00, -9.76384630e-03,  1.00022401e-04,\n",
              "         1.00012873e-04,  9.99861609e-05,  1.00012376e-04,\n",
              "         1.00012374e-04,  1.00012377e-04,  1.00000000e-04,\n",
              "         1.00012501e-04,  1.00012376e-04,  9.99998775e-05,\n",
              "         1.00000001e-04,  1.00000123e-04,  1.00012247e-04,\n",
              "         1.00000001e-04,  1.00012373e-04,  1.00005191e-04,\n",
              "         9.97127497e-05, -1.99725803e-06, -1.00000000e+00],\n",
              "       [-1.01000000e+00,  1.16184024e-04,  1.01240101e-04,\n",
              "         1.01287125e-04,  1.01286751e-04,  1.01237625e-04,\n",
              "         1.01249633e-04,  1.01287499e-04,  1.01237628e-04,\n",
              "         1.01249995e-04,  1.01249625e-04,  1.01249995e-04,\n",
              "         1.01249999e-04,  1.01237500e-04,  1.01250124e-04,\n",
              "         1.01249625e-04,  1.01287521e-04,  1.01257178e-04,\n",
              "         1.25007740e-06,  2.00504075e-04, -1.01000000e+00],\n",
              "       [-1.04000000e+00,  1.05062815e-04,  1.05000629e-04,\n",
              "         1.04999381e-04,  1.05062496e-04,  1.05000381e-04,\n",
              "         1.04962244e-04,  1.05062741e-04,  1.04962241e-04,\n",
              "         1.05000000e-04,  1.04962885e-04,  1.04962867e-04,\n",
              "         1.04961882e-04,  1.05000371e-04,  1.05000371e-04,\n",
              "         1.05061003e-04,  1.05061875e-04,  1.05000619e-04,\n",
              "         1.04244549e-04, -1.02960667e-02, -1.04000000e+00],\n",
              "       [-1.09000000e+00,  1.60002194e-04,  2.24371227e-06,\n",
              "         1.11249987e-04,  1.11337489e-04,  1.11337500e-04,\n",
              "         1.11188131e-04,  1.11248515e-04,  1.11337241e-04,\n",
              "         1.11335756e-04,  1.11250869e-04,  1.11250006e-04,\n",
              "         1.11188113e-04,  1.11250021e-04,  1.11250620e-04,\n",
              "         1.11335745e-04,  1.11249136e-04,  1.11335761e-04,\n",
              "         1.11340357e-04, -1.06808514e-02, -1.09000000e+00],\n",
              "       [-1.16000000e+00,  1.18951637e-04,  1.19906536e-04,\n",
              "         1.20000017e-04,  1.20000011e-04,  1.19630701e-04,\n",
              "         1.20112525e-04,  1.20001125e-04,  1.20112520e-04,\n",
              "         1.19999968e-04,  1.20000858e-04,  1.20000020e-04,\n",
              "         1.19913373e-04,  1.20112511e-04,  1.20000028e-04,\n",
              "         1.20111377e-04,  1.20113375e-04,  1.20000011e-04,\n",
              "         1.20434148e-04,  1.26913838e-04, -1.16000000e+00],\n",
              "       [-1.25000000e+00, -1.23700493e-02,  1.31136160e-04,\n",
              "         1.31250000e-04,  1.31138614e-04,  1.31239811e-04,\n",
              "         1.31387731e-04,  1.31251336e-04,  1.31250039e-04,\n",
              "         1.31386098e-04,  1.31249963e-04,  1.31137493e-04,\n",
              "         1.31386112e-04,  1.31386136e-04,  1.31387501e-04,\n",
              "         1.31252462e-04,  1.31386152e-04,  1.31138628e-04,\n",
              "         1.31249995e-04,  1.31249992e-04, -1.25000000e+00],\n",
              "       [-1.36000000e+00, -1.33204353e-02, -4.93661176e-03,\n",
              "         1.45160878e-04,  1.45162529e-04,  1.44999986e-04,\n",
              "         1.45159314e-04,  1.44998391e-04,  1.44993983e-04,\n",
              "         1.45160904e-04,  1.45000046e-04,  1.44863875e-04,\n",
              "         1.44999970e-04,  1.44732910e-04,  1.45160569e-04,\n",
              "         1.45160846e-04,  1.45001625e-04,  1.44862266e-04,\n",
              "         1.44863874e-04,  1.37418401e-04, -1.36000000e+00],\n",
              "       [-1.49000000e+00, -1.47403804e-02,  1.61437236e-04,\n",
              "         1.61439280e-04,  1.61437503e-04,  1.61429009e-04,\n",
              "        -2.07753197e-03,  1.60356312e-04,  1.61249949e-04,\n",
              "         1.61435688e-04,  1.61257906e-04,  1.61435589e-04,\n",
              "         1.61435606e-04,  1.61249999e-04,  1.61248144e-04,\n",
              "         1.61251855e-04,  1.61447369e-04,  1.61249965e-04,\n",
              "         1.61250000e-04,  1.61169112e-04, -1.49000000e+00],\n",
              "       [-1.64000000e+00, -1.62217984e-02,  1.80210512e-04,\n",
              "         1.80002128e-04,  1.80842275e-04,  1.81246183e-04,\n",
              "         1.79814339e-04,  1.79801850e-04,  1.80019886e-04,\n",
              "         1.80212293e-04,  1.80000157e-04,  1.80210457e-04,\n",
              "         1.80001933e-04,  1.80006072e-04,  1.81158028e-04,\n",
              "         1.79812365e-04,  1.79984452e-04,  1.80002273e-04,\n",
              "         1.80015639e-04,  1.80193036e-04, -1.64000000e+00],\n",
              "       [-1.81000000e+00, -1.79007768e-02, -1.61992723e-02,\n",
              "         2.02888609e-04,  2.02480006e-04,  3.24809662e-04,\n",
              "        -1.12847424e-02,  8.41524151e-05, -8.58952850e-04,\n",
              "         2.01251984e-04,  2.36813516e-04,  1.02222080e-04,\n",
              "         2.00099889e-04, -1.06996022e-02, -1.14019111e-02,\n",
              "        -1.23019978e-02,  2.01140693e-04, -1.47022506e-02,\n",
              "         2.02720513e-04,  2.01285106e-04, -1.81000000e+00],\n",
              "       [-2.00000000e+00, -1.81000000e+00, -1.64000000e+00,\n",
              "        -1.49000000e+00, -1.36000000e+00, -1.25000000e+00,\n",
              "        -1.16000000e+00, -1.09000000e+00, -1.04000000e+00,\n",
              "        -1.01000000e+00, -1.00000000e+00, -1.01000000e+00,\n",
              "        -1.04000000e+00, -1.09000000e+00, -1.16000000e+00,\n",
              "        -1.25000000e+00, -1.36000000e+00, -1.49000000e+00,\n",
              "        -1.64000000e+00, -1.81000000e+00, -2.00000000e+00]])"
            ]
          },
          "metadata": {
            "tags": []
          },
          "execution_count": 15
        }
      ]
    },
    {
      "cell_type": "code",
      "metadata": {
        "id": "G5x_YELvmrId",
        "colab_type": "code",
        "colab": {
          "base_uri": "https://localhost:8080/",
          "height": 352
        },
        "outputId": "272e333b-5f31-4d5e-c98b-fdb8d45058eb"
      },
      "source": [
        "figure = plt.figure()\n",
        "axes = Axes3D(figure)\n",
        "X1 = pde1.x_space\n",
        "X2 = pde1.x_space\n",
        "X1, X2 = np.meshgrid(X1, X2)\n",
        "Z1 = pde1.s_val\n",
        "Z = -(X1)**2 - (X2)**2\n",
        "axes.plot_surface(X1, X2, Z1,cmap='rainbow')\n",
        "print('>>>max norm of error is ' + str(np.max(np.abs(Z-Z1))))\n",
        "print('>>>Percentage of error is ' + str(np.sum(np.abs(Z-Z1))/np.sum(np.abs(Z))))"
      ],
      "execution_count": 12,
      "outputs": [
        {
          "output_type": "stream",
          "text": [
            ">>>max norm of error is 1.6203701348704516\n",
            ">>>Percentage of error is 0.668668559280488\n"
          ],
          "name": "stdout"
        },
        {
          "output_type": "display_data",
          "data": {
            "image/png": "[encoded data removed]",
            "text/plain": [
              "<Figure size 432x288 with 1 Axes>"
            ]
          },
          "metadata": {
            "tags": []
          }
        }
      ]
    }
  ]
}