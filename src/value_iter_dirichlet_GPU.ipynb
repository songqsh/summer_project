{
  "nbformat": 4,
  "nbformat_minor": 0,
  "metadata": {
    "colab": {
      "name": "value_iter_dirichlet_GPU.ipynb",
      "version": "0.3.2",
      "provenance": [],
      "collapsed_sections": [],
      "include_colab_link": true
    },
    "kernelspec": {
      "name": "python3",
      "display_name": "Python 3"
    }
  },
  "cells": [
    {
      "cell_type": "markdown",
      "metadata": {
        "id": "view-in-github",
        "colab_type": "text"
      },
      "source": [
        "<a href=\"https://colab.research.google.com/github/wqiu96/summer_project/blob/master/src/value_iter_dirichlet_GPU.ipynb\" target=\"_parent\"><img src=\"https://colab.research.google.com/assets/colab-badge.svg\" alt=\"Open In Colab\"/></a>"
      ]
    },
    {
      "cell_type": "code",
      "metadata": {
        "id": "WrJvkAbpNyR3",
        "colab_type": "code",
        "colab": {}
      },
      "source": [
        "import numpy as np\n",
        "import time\n",
        "start_time = time.time()\n",
        "from tqdm import tqdm\n",
        "import matplotlib.pyplot as plt\n",
        "from mpl_toolkits.mplot3d import Axes3D\n",
        "from numba import jitclass\n",
        "from numba import int32, float32"
      ],
      "execution_count": 0,
      "outputs": []
    },
    {
      "cell_type": "markdown",
      "metadata": {
        "id": "xNFJIMnEa39w",
        "colab_type": "text"
      },
      "source": [
        "__Goal__\n",
        "\n",
        "Implement value iteration on 1d HJB with Dirichlet data and verify with the explicit solution on Whittle’s “Flypaper”\n",
        "\n",
        "__Ref__\n",
        "\n",
        "- [1] Chap V.7 of [Roger and Williams 2000] \n",
        "\n",
        "- [2] P97, Example 4 of [Kushner and Dupuis 2001]\n",
        "\n",
        "- [previous version](https://github.com/songqsh/foo1/blob/master/src/value_iter_dirichlet_1d.ipynb)\n"
      ]
    },
    {
      "cell_type": "markdown",
      "metadata": {
        "id": "pqDOVcH776J5",
        "colab_type": "text"
      },
      "source": [
        "__Problem setup__\n",
        "\n",
        "We want to solve a d-dimensions HJB\n",
        "$$\\inf_a \\{\\sum_{i=1}^db_i(x,a)  \\frac{\\partial v(x)}{\\partial x_i}  + \\frac 1 2 \\sum_{i,j=1}^{d} \\hat \\sigma_{ij} \\frac{\\partial^2 v(x)}{\\partial x_i \\partial x_j} - \\lambda v(x) + \\ell(x,a)\\} = 0, \\quad \\hbox{ where } \\hat \\sigma _{ij} = \\sigma*\\sigma^T , \\sum_{i=1}^{d}x_i^2\\leq1$$\n",
        "with Dirichlet data\n",
        "$$v(x_1,x_2,..,x_d) = g(x_1,x_2,..,x_d), \\quad \\hbox{ when } \\sum_{i=1}^{d}x_i^2 = 1$$\n",
        "\n",
        "\n"
      ]
    },
    {
      "cell_type": "markdown",
      "metadata": {
        "id": "uVhPAihx-88o",
        "colab_type": "text"
      },
      "source": [
        "__MDP discretization__\n",
        "\n",
        "Approximation:\n",
        "$$\n",
        "\\frac{\\partial v(x)}{\\partial x_i} \\leftarrow \\frac{v(x+e_ih)-v(x-e_ih)}{2h}\n",
        "$$\n",
        "when $i = j$\n",
        "$$\n",
        "\\frac{\\partial^2 v(x)}{\\partial x_i^2} \\leftarrow \\frac{v(x+e_ih)-2v(x)+v(x-e_ih)}{h^2}\n",
        "$$\n",
        "when $i \\neq j$\n",
        "$$\n",
        "\\frac{\\partial^2 v(x)}{\\partial x_i^2} \\leftarrow \\frac{v(x+e_ih+e_jh)-v(x+e_ih-e_jh)-v(x-e_ih+e_jh)+v(x-e_ih-e_jh)}{4h^2}\n",
        "$$\n",
        "then\n",
        "$$\\inf_a \\{v(x)(-\\lambda-\\sum_{i=1}^{d}\\frac{\\hat \\sigma_{ii}}{h^2})+\\sum_{i=1}^{d}v(x+e_ih)\\frac{b_i(x,a)h+\\sigma_{ii}}{2h^2}+\\sum_{i=1}^{d}v(x-e_ih)\\frac{-b_i(x,a)h+\\sigma_{ii}}{2h^2}+    \\\\\n",
        "\\sum_{i,j=1,i\\neq j}^{d}(v(x+e_ih+e_jh)-v(x+e_ih-e_jh)-v(x-e_ih+e_jh)+v(x-e_ih-e_jh))\\frac{\\hat \\sigma_{ij}}{8h^2}+ \\ell(x,a)\\} = 0\n",
        "$$\n",
        "Set\n",
        "$$\n",
        "c_1 = \\lambda+\\sum_{i=1}^{d}\\frac{\\hat \\sigma_{ii}}{h^2}\n",
        "$$\n",
        "$$\n",
        "\\Lambda = \\frac{\\sum_{i=1}^{d}\\frac{\\lambda h^2+\\sigma_{ii}}{h^2}}{\\sum_{i=1}^{d}\\frac{\\sigma_{ii}}{h^2}}=\\frac{\\lambda h^2+\\sum_{i=1}^{d}{\\sigma_{ii}}}{\\sum_{i=1}^{d}\\sigma_{ii}}\n",
        "$$\n",
        "Then\n",
        "$$\n",
        "p^h(x+e_ih|x_i, a_i) = \\Lambda \\cdot (\\frac{b_i(x,a)h + \\hat \\sigma_{ii}}{2c_1h^2})\n",
        "$$\n",
        "$$\n",
        "p^h(x-e_ih|x_i, a_i) = \\Lambda \\cdot (\\frac{-b_i(x,a)h + \\hat \\sigma_{ii}}{2c_1h^2})\n",
        "$$\n",
        "$$\n",
        "p^h(x \\pm e_ih \\pm e_jh|x_i, x_j) = \\frac{\\hat \\sigma_{ij}}{8h^2}\n",
        "$$\n",
        "$$\n",
        " \\hat \\ell(x,a)=\\frac{\\ell(x,a)}{c_1}\n",
        "$$\n",
        "so \n",
        "\n",
        "$$\n",
        "v(x) = \\inf_a\\{\\sum_{i=1}^{d}p^h(x+e_ih|x_i, a_i)v(x+e_ih) +\\sum_{i=1}^{d}p^h(x-e_ih|x_i, a_i)v(x-e_ih) \\\\\n",
        "+ \\sum_{i,j=1,i\\neq j}^{d}(v(x+e_ih+e_jh)-v(x+e_ih-e_jh)-v(x-e_ih+e_jh)+v(x-e_ih-e_jh))p^h(x \\pm e_ih \\pm e_jh|x_i, x_j) + \\hat \\ell(x,a) \\}\n",
        "$$"
      ]
    },
    {
      "cell_type": "markdown",
      "metadata": {
        "id": "OvzqIp2KXvzF",
        "colab_type": "text"
      },
      "source": [
        "__Example__\n",
        "$$\n",
        "\\inf_a(a \\bigtriangledown v + \\frac 1 2 \\bigtriangleup v +d + 2|x|^2 + \\frac 1 2 |a| ^2)\n",
        "$$\n",
        "\n",
        "where\n",
        "$$\n",
        "v(x) = g(x) = -|x|^2 = -(x_1^2 + x_2^2 +...+x_d^2)\\\\\n",
        "$$\n",
        "In this case\n",
        "$$\n",
        "b(x,a) = (a_1, a_2,...,a_d) \\\\\n",
        "\\begin{equation*}\n",
        "\\hat \\sigma =\\begin{bmatrix}\n",
        "1 & 0&\\dots & 0\\\\\n",
        "0 &1 &\\dots &0\\\\\n",
        "0 & 0 &\\dots & 1\n",
        "\\end{bmatrix}_{d\\times d}\n",
        "\\end{equation*}\n",
        "$$\n",
        "$$\n",
        "\\ell(x,a) = d + 2|x|^2 + \\frac 1 2 |a|^2\n",
        "$$\n",
        "the exact solution is \n",
        "$$\n",
        "v(x) =  -|x|^2 = -(x_1^2 + x_2^2 +...+x_d^2)\n",
        "$$"
      ]
    },
    {
      "cell_type": "markdown",
      "metadata": {
        "id": "2upaYLRHDJUU",
        "colab_type": "text"
      },
      "source": [
        "__Rk__\n",
        "\n",
        "There is essential difference of above MDP approximation using central FDM from the one\n",
        "using upward FDM provided by P97 of [2]."
      ]
    },
    {
      "cell_type": "code",
      "metadata": {
        "id": "PjDWKL6fvFNz",
        "colab_type": "code",
        "colab": {}
      },
      "source": [
        "#PDE to be solved\n",
        "spec = [\n",
        "    ('dim', int32),               # a simple scalar field\n",
        "    ('NUM', int32),\n",
        "    ('TOL', float32),          \n",
        "    ('MAX_ITER', int32), \n",
        "    ('x',float32[:]),    # an array field\n",
        "    ('a',float32[:]),\n",
        "    ('sigma',float32[:]),\n",
        "    ('s_index',int32[:]),\n",
        "    ('LIM', int32),\n",
        "    ('lambda_',float32),\n",
        "    ('h',float32)\n",
        "]\n",
        "@jitclass(spec)\n",
        "class pde():\n",
        "  def __init__(self):\n",
        "    #pde config\n",
        "    self.dim = 2\n",
        "    self.LIM = 1 #limit for state\n",
        "\n",
        "    self.lambda_ = 0. #discount rate\n",
        "\n",
        "    self.sigma = np.zeros(value, dtype=np.float32) #diffusion coefficient matrix\n",
        "\n",
        "    #pde exact solution if available\n",
        "\n",
        "  def drift(self,x,a):\n",
        "     return a\n",
        "\n",
        "\n",
        "  def run_cost(self,x,a):\n",
        "     return self.dim + 2*sum([i**2 for i in x]) + (1/2)*sum([j**2 for j in a])\n",
        "\n",
        "\n",
        "  def term_cost(self,x):\n",
        "     return -sum([i**2 for i in x])\n",
        "   "
      ],
      "execution_count": 0,
      "outputs": []
    },
    {
      "cell_type": "code",
      "metadata": {
        "id": "h1biA8Y8R2Oc",
        "colab_type": "code",
        "colab": {}
      },
      "source": [
        "def mdp_space_config(self, \n",
        "                     dim = 2,\n",
        "                     NUM = 5 #num of meshes in one unit state space\n",
        "                    ):\n",
        "  self.NUM = NUM\n",
        "  \n",
        "  self.dim = dim\n",
        "  \n",
        "  self.h = 1./self.NUM #mesh size in state space\n",
        "  \n",
        "  \n",
        "  self.x_space = np.array([i*self.h for i in range(-self.NUM*self.LIM, (self.NUM+1)*self.LIM)])\n",
        "  #self.x_space = np.arange(-self.LIM, self.LIM, self.h)  # x state space, for all dimensions, x_d have the same range\n",
        "  #self.x_space = np.repeat(np.expand_dims(space, axis = 0) ,self.dim , axis = 0) # x state space\n",
        "  \n",
        "  #self.a_space = np.arange(-2*self.LIM, 2*self.LIM + self.h, self.h) #action space\n",
        "  self.a_space = np.array([i*self.h for i in range(-self.NUM*self.LIM, (self.NUM+1)*self.LIM)]) #when the a_space is as large as x_space, the result is best.why?\n",
        "  #self.del_ind_space = np.array([-1,1]) #space of delta (1-step) index: -1 means left, 1 means right move\n",
        "\n",
        "  #q-table and state value initialization\n",
        "  #self.s_val = np.ones(self.x_space.size*np.ones(self.dim, np.int))\n",
        "  self.s_val = np.random.random(self.x_space.size*np.ones(self.dim, np.int))\n",
        "  self.q_table = np.random.random(np.append(self.x_space.size*np.ones(self.dim, np.int), self.a_space.size*np.ones(self.dim, np.int)))\n",
        "  \n",
        "  print('>>>>> q_table size is %i' %(self.q_table.size))\n",
        "\n",
        "  #s_val and q-table terminal setup\n",
        "  for i in range(self.s_val.size):  # visit all x States\n",
        "    k = self.dim - 1\n",
        "    x_d = []          \n",
        "    s_index = []\n",
        "    Limit = 0\n",
        "    while k >= 0:\n",
        "      x_d.append(self.x_space[(i//(self.x_space.size**k))%self.x_space.size])\n",
        "      s_index.append((i//(self.x_space.size**k))%self.x_space.size)\n",
        "      Limit += self.x_space[(i//(self.x_space.size**k))%self.x_space.size]**2\n",
        "      k -= 1\n",
        "    if (0 in s_index) or ((len(self.x_space) - 1) in s_index): # visit the terminal condition \n",
        "      self.s_val[tuple(s_index)] = self.term_cost(x_d)\n",
        "      for j in range(self.a_space.size**self.dim):\n",
        "        m = self.dim - 1\n",
        "        a_index = []\n",
        "        while m >= 0:\n",
        "          a_index.append((i//(self.a_space.size**m))%self.a_space.size)\n",
        "          m -= 1\n",
        "        self.q_table[tuple(s_index + a_index)] = self.term_cost(x_d)\n",
        "  \n",
        "  \n",
        "pde.mdp_space_config = mdp_space_config"
      ],
      "execution_count": 0,
      "outputs": []
    },
    {
      "cell_type": "code",
      "metadata": {
        "id": "QIl6C9yFVLO_",
        "colab_type": "code",
        "colab": {}
      },
      "source": [
        "#transition probability\n",
        "#output is probability (np array) on del_ind_space \n",
        "#central fdm\n",
        "\n",
        "def mdp_trans_prob_central(self,x,a,sigma):\n",
        "  tp = []\n",
        "  b_ = self.drift(x,a)\n",
        "  \n",
        "  c1 = self.lambda_ + sum(sigma.diagonal())/(self.h**2)\n",
        "  Lambda = 1 + self.lambda_*(self.h**2)/sum(self.sigma.diagonal())\n",
        "  \n",
        "  tp.append(Lambda*((b_*self.h + sigma.diagonal())/(2*c1*self.h**2)))\n",
        "  tp.append(Lambda*((-1*b_*self.h + sigma.diagonal())/(2*c1*self.h**2)))\n",
        "  tp.append(sigma/(8*c1*self.h**2))\n",
        "  \n",
        "  #correction on prob\n",
        "#  if tp[1]<0:\n",
        "#    tp = tp - tp[1]\n",
        "#    tp = tp/tp.sum()\n",
        "#    print('>>>>corrected probability due to negativity')\n",
        "\n",
        "  return tp  \n",
        "\n",
        "pde.mdp_trans_prob_central = mdp_trans_prob_central"
      ],
      "execution_count": 0,
      "outputs": []
    },
    {
      "cell_type": "code",
      "metadata": {
        "id": "PR6Hagr1q7Im",
        "colab_type": "code",
        "colab": {}
      },
      "source": [
        "def Dif_array(self,s_index):        #calculate s_val(x+e_i*h) and s_val(x-e_i*h)\n",
        "  res_plus = np.zeros(self.dim)\n",
        "  res_mius = np.zeros(self.dim)\n",
        "  for i in range(self.dim):\n",
        "    temp_plus = s_index.copy() #copy()!!!!!!! very important\n",
        "    temp_mius = s_index.copy()\n",
        "    temp_plus[i] = s_index[i] + 1\n",
        "    temp_mius[i] = s_index[i] - 1\n",
        "    res_plus[i] = self.s_val[tuple(temp_plus)]\n",
        "    res_mius[i] = self.s_val[tuple(temp_mius)]\n",
        "  return res_plus,res_mius\n",
        "\n",
        "pde.Dif_array = Dif_array"
      ],
      "execution_count": 0,
      "outputs": []
    },
    {
      "cell_type": "code",
      "metadata": {
        "id": "JwkFShOotdfC",
        "colab_type": "code",
        "colab": {}
      },
      "source": [
        "def Dif_martix(self,s_index):        #calculate s_val(x+e_i*h-e_j*h), s_val(x-e_j*h+e_i*h), s_val(x+e_j*h+e_i*h), s_val(x-e_j*h-e_i*h)\n",
        "  res_plus_plus = np.zeros((self.dim,self.dim))\n",
        "  res_mius_mius = np.zeros((self.dim,self.dim))\n",
        "  res_plus_mius = np.zeros((self.dim,self.dim))\n",
        "  res_mius_plus = np.zeros((self.dim,self.dim))\n",
        "  for i in range(self.dim):\n",
        "    for j in range(self.dim):\n",
        "      if i != j:\n",
        "        temp_plus_plus = s_index.copy()\n",
        "        temp_mius_mius = s_index.copy()\n",
        "        temp_plus_mius = s_index.copy()\n",
        "        temp_mius_plus = s_index.copy()\n",
        "        \n",
        "        temp_plus_plus[i] = s_index[i] + 1\n",
        "        temp_plus_plus[j] = s_index[j] + 1\n",
        "        \n",
        "        temp_mius_mius[i] = s_index[i] - 1\n",
        "        temp_mius_mius[j] = s_index[j] - 1\n",
        "        \n",
        "        temp_plus_mius[i] = s_index[i] + 1\n",
        "        temp_plus_mius[j] = s_index[j] - 1\n",
        "        \n",
        "        temp_mius_plus[i] = s_index[i] - 1\n",
        "        temp_mius_plus[j] = s_index[j] + 1\n",
        "\n",
        "        res_plus_plus[i][j] = self.s_val[tuple(temp_plus_plus)]\n",
        "        res_mius_mius[i][j] = self.s_val[tuple(temp_mius_mius)]\n",
        "        res_plus_mius[i][j] = self.s_val[tuple(temp_plus_mius)]\n",
        "        res_mius_plus[i][j] = self.s_val[tuple(temp_mius_plus)]\n",
        "  res = res_plus_plus + res_mius_mius - res_plus_mius - res_mius_plus\n",
        "  \n",
        "  return res\n",
        "\n",
        "pde.Dif_martix = Dif_martix"
      ],
      "execution_count": 0,
      "outputs": []
    },
    {
      "cell_type": "code",
      "metadata": {
        "id": "7ksl6Piqaye1",
        "colab_type": "code",
        "colab": {}
      },
      "source": [
        "def value_iter(self, \n",
        "               TOL= 0.0001, #tolerance for iteration\n",
        "               MAX_ITER= 2000 #maximum iteration\n",
        "              ):\n",
        " \n",
        "  err_ = 1. #error init\n",
        "  \n",
        "  n_iter = 0 #iteration counter\n",
        "\n",
        "  while err_>TOL and n_iter < MAX_ITER:\n",
        "    pre_s_val = self.s_val.copy()\n",
        "\n",
        "    for i in range(self.s_val.size):  # visit all x States\n",
        "      k = self.dim - 1\n",
        "      x_d = []          \n",
        "      s_index = []\n",
        "      Limit = 0\n",
        "      while k >= 0:\n",
        "        x_d.append(self.x_space[(i//(self.x_space.size**k))%self.x_space.size])\n",
        "        s_index.append((i//(self.x_space.size**k))%self.x_space.size)\n",
        "        Limit += self.x_space[(i//(self.x_space.size**k))%self.x_space.size]**2\n",
        "        k -= 1\n",
        "      if (0 in s_index) or ((self.x_space.size - 1) in s_index):\n",
        "        continue\n",
        "      for j in range(self.a_space.size**self.dim):\n",
        "        m = self.dim - 1\n",
        "        a_index = []\n",
        "        a_list = []\n",
        "        while m >= 0:\n",
        "          a_index.append((i//(self.a_space.size**m))%self.a_space.size)\n",
        "          a_list.append(self.a_space[(i//(self.a_space.size**m))%self.a_space.size])\n",
        "          m -= 1\n",
        "        a_ = np.array(a_list)\n",
        "        tp_ = self.mdp_trans_prob_central(x_d, a_, self.sigma)\n",
        "        c1 = self.lambda_ + sum(self.sigma.diagonal())/(self.h**2)\n",
        "        res_plus,res_mins = self.Dif_array(s_index)\n",
        "        res = self.Dif_martix(s_index)\n",
        "\n",
        "        run_cost_ = (self.run_cost(x_d,a_))/c1\n",
        "        Lambda = 1 + self.lambda_*(self.h**2)/sum(self.sigma.diagonal())\n",
        "\n",
        "        self.q_table[tuple(s_index+a_index)] = (run_cost_ + np.sum(np.multiply(tp_[0],res_plus)) + np.sum(np.multiply(tp_[1],res_mins))+np.sum(np.multiply(res,tp_[2])))/Lambda\n",
        "      self.s_val[tuple(s_index)] = np.min(self.q_table[tuple(s_index)]) #sync q_table with s_val\n",
        "    err_ = np.max(np.abs(pre_s_val - self.s_val))\n",
        "\n",
        "    n_iter += 1\n",
        "    if np.mod(n_iter,10) == 0:\n",
        "      print('iterated ' + str(n_iter)+';')\n",
        "      \n",
        "  return [err_, n_iter]\n",
        "      \n",
        "pde.value_iter = value_iter      "
      ],
      "execution_count": 0,
      "outputs": []
    },
    {
      "cell_type": "code",
      "metadata": {
        "id": "skhpxtmBZc4x",
        "colab_type": "code",
        "outputId": "adba779b-7e72-4d00-a075-407a906b93ca",
        "colab": {
          "base_uri": "https://localhost:8080/",
          "height": 875
        }
      },
      "source": [
        "pde1 = pde()\n",
        "pde1.mdp_space_config(dim=2,NUM=10) #if NUM is chosen to be 20 or bigger number, the result is bad\n",
        "err, n_iter = pde1.value_iter(TOL = 0.01, MAX_ITER = 1000)"
      ],
      "execution_count": 213,
      "outputs": [
        {
          "output_type": "error",
          "ename": "TypingError",
          "evalue": "ignored",
          "traceback": [
            "\u001b[0;31m---------------------------------------------------------------------------\u001b[0m",
            "\u001b[0;31mTypingError\u001b[0m                               Traceback (most recent call last)",
            "\u001b[0;32m<ipython-input-213-ff7bc53bed37>\u001b[0m in \u001b[0;36m<module>\u001b[0;34m()\u001b[0m\n\u001b[0;32m----> 1\u001b[0;31m \u001b[0mpde1\u001b[0m \u001b[0;34m=\u001b[0m \u001b[0mpde\u001b[0m\u001b[0;34m(\u001b[0m\u001b[0;34m)\u001b[0m\u001b[0;34m\u001b[0m\u001b[0;34m\u001b[0m\u001b[0m\n\u001b[0m\u001b[1;32m      2\u001b[0m \u001b[0mpde1\u001b[0m\u001b[0;34m.\u001b[0m\u001b[0mmdp_space_config\u001b[0m\u001b[0;34m(\u001b[0m\u001b[0mdim\u001b[0m\u001b[0;34m=\u001b[0m\u001b[0;36m2\u001b[0m\u001b[0;34m,\u001b[0m\u001b[0mNUM\u001b[0m\u001b[0;34m=\u001b[0m\u001b[0;36m10\u001b[0m\u001b[0;34m)\u001b[0m \u001b[0;31m#if NUM is chosen to be 20 or bigger number, the result is bad\u001b[0m\u001b[0;34m\u001b[0m\u001b[0;34m\u001b[0m\u001b[0m\n\u001b[1;32m      3\u001b[0m \u001b[0merr\u001b[0m\u001b[0;34m,\u001b[0m \u001b[0mn_iter\u001b[0m \u001b[0;34m=\u001b[0m \u001b[0mpde1\u001b[0m\u001b[0;34m.\u001b[0m\u001b[0mvalue_iter\u001b[0m\u001b[0;34m(\u001b[0m\u001b[0mTOL\u001b[0m \u001b[0;34m=\u001b[0m \u001b[0;36m0.01\u001b[0m\u001b[0;34m,\u001b[0m \u001b[0mMAX_ITER\u001b[0m \u001b[0;34m=\u001b[0m \u001b[0;36m1000\u001b[0m\u001b[0;34m)\u001b[0m\u001b[0;34m\u001b[0m\u001b[0;34m\u001b[0m\u001b[0m\n",
            "\u001b[0;32m/usr/local/lib/python3.6/dist-packages/numba/jitclass/base.py\u001b[0m in \u001b[0;36m__call__\u001b[0;34m(cls, *args, **kwargs)\u001b[0m\n\u001b[1;32m    121\u001b[0m \u001b[0;34m\u001b[0m\u001b[0m\n\u001b[1;32m    122\u001b[0m     \u001b[0;32mdef\u001b[0m \u001b[0m__call__\u001b[0m\u001b[0;34m(\u001b[0m\u001b[0mcls\u001b[0m\u001b[0;34m,\u001b[0m \u001b[0;34m*\u001b[0m\u001b[0margs\u001b[0m\u001b[0;34m,\u001b[0m \u001b[0;34m**\u001b[0m\u001b[0mkwargs\u001b[0m\u001b[0;34m)\u001b[0m\u001b[0;34m:\u001b[0m\u001b[0;34m\u001b[0m\u001b[0;34m\u001b[0m\u001b[0m\n\u001b[0;32m--> 123\u001b[0;31m         \u001b[0;32mreturn\u001b[0m \u001b[0mcls\u001b[0m\u001b[0;34m.\u001b[0m\u001b[0m_ctor\u001b[0m\u001b[0;34m(\u001b[0m\u001b[0;34m*\u001b[0m\u001b[0margs\u001b[0m\u001b[0;34m,\u001b[0m \u001b[0;34m**\u001b[0m\u001b[0mkwargs\u001b[0m\u001b[0;34m)\u001b[0m\u001b[0;34m\u001b[0m\u001b[0;34m\u001b[0m\u001b[0m\n\u001b[0m\u001b[1;32m    124\u001b[0m \u001b[0;34m\u001b[0m\u001b[0m\n\u001b[1;32m    125\u001b[0m \u001b[0;34m\u001b[0m\u001b[0m\n",
            "\u001b[0;32m/usr/local/lib/python3.6/dist-packages/numba/dispatcher.py\u001b[0m in \u001b[0;36m_compile_for_args\u001b[0;34m(self, *args, **kws)\u001b[0m\n\u001b[1;32m    346\u001b[0m                 \u001b[0me\u001b[0m\u001b[0;34m.\u001b[0m\u001b[0mpatch_message\u001b[0m\u001b[0;34m(\u001b[0m\u001b[0mmsg\u001b[0m\u001b[0;34m)\u001b[0m\u001b[0;34m\u001b[0m\u001b[0;34m\u001b[0m\u001b[0m\n\u001b[1;32m    347\u001b[0m \u001b[0;34m\u001b[0m\u001b[0m\n\u001b[0;32m--> 348\u001b[0;31m             \u001b[0merror_rewrite\u001b[0m\u001b[0;34m(\u001b[0m\u001b[0me\u001b[0m\u001b[0;34m,\u001b[0m \u001b[0;34m'typing'\u001b[0m\u001b[0;34m)\u001b[0m\u001b[0;34m\u001b[0m\u001b[0;34m\u001b[0m\u001b[0m\n\u001b[0m\u001b[1;32m    349\u001b[0m         \u001b[0;32mexcept\u001b[0m \u001b[0merrors\u001b[0m\u001b[0;34m.\u001b[0m\u001b[0mUnsupportedError\u001b[0m \u001b[0;32mas\u001b[0m \u001b[0me\u001b[0m\u001b[0;34m:\u001b[0m\u001b[0;34m\u001b[0m\u001b[0;34m\u001b[0m\u001b[0m\n\u001b[1;32m    350\u001b[0m             \u001b[0;31m# Something unsupported is present in the user code, add help info\u001b[0m\u001b[0;34m\u001b[0m\u001b[0;34m\u001b[0m\u001b[0;34m\u001b[0m\u001b[0m\n",
            "\u001b[0;32m/usr/local/lib/python3.6/dist-packages/numba/dispatcher.py\u001b[0m in \u001b[0;36merror_rewrite\u001b[0;34m(e, issue_type)\u001b[0m\n\u001b[1;32m    313\u001b[0m                 \u001b[0;32mraise\u001b[0m \u001b[0me\u001b[0m\u001b[0;34m\u001b[0m\u001b[0;34m\u001b[0m\u001b[0m\n\u001b[1;32m    314\u001b[0m             \u001b[0;32melse\u001b[0m\u001b[0;34m:\u001b[0m\u001b[0;34m\u001b[0m\u001b[0;34m\u001b[0m\u001b[0m\n\u001b[0;32m--> 315\u001b[0;31m                 \u001b[0mreraise\u001b[0m\u001b[0;34m(\u001b[0m\u001b[0mtype\u001b[0m\u001b[0;34m(\u001b[0m\u001b[0me\u001b[0m\u001b[0;34m)\u001b[0m\u001b[0;34m,\u001b[0m \u001b[0me\u001b[0m\u001b[0;34m,\u001b[0m \u001b[0;32mNone\u001b[0m\u001b[0;34m)\u001b[0m\u001b[0;34m\u001b[0m\u001b[0;34m\u001b[0m\u001b[0m\n\u001b[0m\u001b[1;32m    316\u001b[0m \u001b[0;34m\u001b[0m\u001b[0m\n\u001b[1;32m    317\u001b[0m         \u001b[0margtypes\u001b[0m \u001b[0;34m=\u001b[0m \u001b[0;34m[\u001b[0m\u001b[0;34m]\u001b[0m\u001b[0;34m\u001b[0m\u001b[0;34m\u001b[0m\u001b[0m\n",
            "\u001b[0;32m/usr/local/lib/python3.6/dist-packages/numba/six.py\u001b[0m in \u001b[0;36mreraise\u001b[0;34m(tp, value, tb)\u001b[0m\n\u001b[1;32m    656\u001b[0m             \u001b[0mvalue\u001b[0m \u001b[0;34m=\u001b[0m \u001b[0mtp\u001b[0m\u001b[0;34m(\u001b[0m\u001b[0;34m)\u001b[0m\u001b[0;34m\u001b[0m\u001b[0;34m\u001b[0m\u001b[0m\n\u001b[1;32m    657\u001b[0m         \u001b[0;32mif\u001b[0m \u001b[0mvalue\u001b[0m\u001b[0;34m.\u001b[0m\u001b[0m__traceback__\u001b[0m \u001b[0;32mis\u001b[0m \u001b[0;32mnot\u001b[0m \u001b[0mtb\u001b[0m\u001b[0;34m:\u001b[0m\u001b[0;34m\u001b[0m\u001b[0;34m\u001b[0m\u001b[0m\n\u001b[0;32m--> 658\u001b[0;31m             \u001b[0;32mraise\u001b[0m \u001b[0mvalue\u001b[0m\u001b[0;34m.\u001b[0m\u001b[0mwith_traceback\u001b[0m\u001b[0;34m(\u001b[0m\u001b[0mtb\u001b[0m\u001b[0;34m)\u001b[0m\u001b[0;34m\u001b[0m\u001b[0;34m\u001b[0m\u001b[0m\n\u001b[0m\u001b[1;32m    659\u001b[0m         \u001b[0;32mraise\u001b[0m \u001b[0mvalue\u001b[0m\u001b[0;34m\u001b[0m\u001b[0;34m\u001b[0m\u001b[0m\n\u001b[1;32m    660\u001b[0m \u001b[0;34m\u001b[0m\u001b[0m\n",
            "\u001b[0;31mTypingError\u001b[0m: Failed in nopython mode pipeline (step: nopython frontend)\nFailed in nopython mode pipeline (step: nopython frontend)\nUntyped global name 'value': cannot determine Numba type of <class 'numba.ir.UndefinedType'>\n\nFile \"<ipython-input-207-05f3610d031f>\", line 23:\n  def __init__(self):\n      <source elided>\n\n    self.sigma = np.zeros(value, dtype=np.float32) #diffusion coefficient matrix\n    ^\n\n[1] During: resolving callee type: jitclass.pde#473f2d8<dim:int32,NUM:int32,TOL:float32,MAX_ITER:int32,x:array(float32, 1d, A),a:array(float32, 1d, A),sigma:array(float32, 1d, A),s_index:array(int32, 1d, A),LIM:int32,lambda_:float32,h:float32>\n[2] During: typing of call at <string> (3)\n\n\nFile \"<string>\", line 3:\n<source missing, REPL in use?>\n\nThis is not usually a problem with Numba itself but instead often caused by\nthe use of unsupported features or an issue in resolving types.\n\nTo see Python/NumPy features supported by the latest release of Numba visit:\nhttp://numba.pydata.org/numba-doc/dev/reference/pysupported.html\nand\nhttp://numba.pydata.org/numba-doc/dev/reference/numpysupported.html\n\nFor more information about typing errors and how to debug them visit:\nhttp://numba.pydata.org/numba-doc/latest/user/troubleshoot.html#my-code-doesn-t-compile\n\nIf you think your code should work with Numba, please report the error message\nand traceback, along with a minimal reproducer at:\nhttps://github.com/numba/numba/issues/new\n"
          ]
        }
      ]
    },
    {
      "cell_type": "code",
      "metadata": {
        "id": "_r37m_JFmlwk",
        "colab_type": "code",
        "colab": {}
      },
      "source": [
        "end_time = time.time()\n",
        "print('elapsed time is %f seconds' %(end_time - start_time))"
      ],
      "execution_count": 0,
      "outputs": []
    },
    {
      "cell_type": "code",
      "metadata": {
        "id": "WUz85Uxzl_Ea",
        "colab_type": "code",
        "colab": {}
      },
      "source": [
        "figure = plt.figure()\n",
        "axes = Axes3D(figure)\n",
        "X1 = pde1.x_space\n",
        "X2 = pde1.x_space\n",
        "X1, X2 = np.meshgrid(X1, X2)\n",
        "Z1 = pde1.s_val\n",
        "axes.plot_surface(X1, X2, Z1,cmap='rainbow')"
      ],
      "execution_count": 0,
      "outputs": []
    },
    {
      "cell_type": "code",
      "metadata": {
        "id": "G5x_YELvmrId",
        "colab_type": "code",
        "colab": {}
      },
      "source": [
        "figure = plt.figure()\n",
        "axes = Axes3D(figure)\n",
        "X1 = pde1.x_space\n",
        "X2 = pde1.x_space\n",
        "X1, X2 = np.meshgrid(X1, X2)\n",
        "Z = -(X1)**2 - (X2)**2\n",
        "axes.plot_surface(X1, X2, Z,cmap='rainbow')\n",
        "print('>>>iteration error is ' + str(err))\n",
        "print('>>>iter number is ' + str(n_iter))\n",
        "print('>>>max norm of error is ' + str(np.max(np.abs(Z-Z1))))\n",
        "print('>>>Percentage of error is ' + str(np.sum(np.abs(Z-Z1))/np.sum(np.abs(Z))))"
      ],
      "execution_count": 0,
      "outputs": []
    }
  ]
}