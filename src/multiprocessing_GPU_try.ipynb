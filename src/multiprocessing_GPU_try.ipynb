{
  "nbformat": 4,
  "nbformat_minor": 0,
  "metadata": {
    "colab": {
      "name": "multiprocessing_GPU_try.ipynb",
      "version": "0.3.2",
      "provenance": [],
      "include_colab_link": true
    },
    "kernelspec": {
      "name": "python3",
      "display_name": "Python 3"
    }
  },
  "cells": [
    {
      "cell_type": "markdown",
      "metadata": {
        "id": "view-in-github",
        "colab_type": "text"
      },
      "source": [
        "<a href=\"https://colab.research.google.com/github/wqiu96/summer_project/blob/master/src/multiprocessing_GPU_try.ipynb\" target=\"_parent\"><img src=\"https://colab.research.google.com/assets/colab-badge.svg\" alt=\"Open In Colab\"/></a>"
      ]
    },
    {
      "cell_type": "code",
      "metadata": {
        "id": "1Lew7-GNdMvm",
        "colab_type": "code",
        "colab": {}
      },
      "source": [
        "import numpy as np\n",
        "import time\n",
        "start_time = time.time()\n",
        "import matplotlib.pyplot as plt\n",
        "import multiprocessing"
      ],
      "execution_count": 0,
      "outputs": []
    },
    {
      "cell_type": "code",
      "metadata": {
        "id": "2CHOOS72gnAo",
        "colab_type": "code",
        "colab": {}
      },
      "source": [
        "class pde:\n",
        "  def __init__(self,NUM,MAX_ITER,LIM,q_table,s_val):\n",
        "    #pde config\n",
        "    \n",
        "    self.LIM_ = LIM\n",
        "    self.LIM = np.array([0,1])\n",
        "    \n",
        "    self.MAX_ITER = MAX_ITER\n",
        "    \n",
        "    self.name = 'HJB 1d'\n",
        "    self.NUM = NUM\n",
        "    self.h = 1./self.NUM #mesh size in state space\n",
        "    self.lambda_ = 0. #discount rate\n",
        "    self.sigma = 1. #diffusion coefficient\n",
        "    self.drift = lambda x,a: a #drift coefficient function\n",
        "      \n",
        "    self.s_space = np.arange(self.LIM[0], self.LIM[1]+self.h, self.h) #state space\n",
        "\n",
        "    self.a_space = np.arange(2*self.LIM[0], 2*self.LIM[1] + self.h, self.h) #action space\n",
        "\n",
        "    self.del_ind_space = np.array([-1,1]) #space of delta (1-step) index: -1 means left, 1 means right move\n",
        "\n",
        "    self.term_ind_space = np.array([0, self.s_space.size-1]) #space of terminal state indice\n",
        "\n",
        "    #q-table and state value initialization\n",
        "\n",
        "    self.s_val = s_val\n",
        "    self.q_table = q_table\n",
        "  \n",
        "    self.run_cost = lambda x, a: (a**2+1)/2.\n",
        "\n",
        "    C1 = 1; C2 = 1\n",
        "    self.term_cost = lambda x: - np.log(C1*np.exp(x) + C2*np.exp(-x))\n",
        "    \n",
        "    #pde exact solution if available\n",
        "    self.exact_sol = self.term_cost"
      ],
      "execution_count": 0,
      "outputs": []
    },
    {
      "cell_type": "code",
      "metadata": {
        "id": "A7Q4WBbpgpMZ",
        "colab_type": "code",
        "colab": {}
      },
      "source": [
        "def mdp_space_config(self):  #num of meshes in one unit state space\n",
        "  \n",
        "  index = ((self.LIM_ - self.LIM[0])/self.h).astype(int)\n",
        "  \n",
        "  #s_val and q-table terminal setup\n",
        "  for i in range(len(index)):\n",
        "    if index[i] in self.term_ind_space:\n",
        "      self.s_val[index[i]] = self.term_cost(self.s_space[index[i]])\n",
        "      for j in range(self.a_space.size):\n",
        "        self.q_table[index[i],j] = self.term_cost(self.s_space[index[i]])\n",
        "    else:\n",
        "      if index[i] > index[0]:\n",
        "        for k in range(index[i],self.s_space.size):\n",
        "          self.s_val[k] = 2\n",
        "          for j in range(self.a_space.size):\n",
        "            self.q_table[k,j] = 2\n",
        "      else:\n",
        "        for k in range(0,index[0]+1):\n",
        "          self.s_val[k] = 2\n",
        "          for j in range(self.a_space.size):\n",
        "            self.q_table[k,j] = 2\n",
        "  \n",
        "  \n",
        "pde.mdp_space_config = mdp_space_config"
      ],
      "execution_count": 0,
      "outputs": []
    },
    {
      "cell_type": "code",
      "metadata": {
        "id": "bT_hAYIQgpwR",
        "colab_type": "code",
        "colab": {}
      },
      "source": [
        "#transition probability\n",
        "#output is probability (np array) on del_ind_space \n",
        "#central fdm\n",
        "\n",
        "def mdp_trans_prob_central(self,x,a):\n",
        "  tp = np.zeros(self.del_ind_space.shape)\n",
        "  \n",
        "  b_ = self.drift(x,a)\n",
        "  tp[0] = (-b_*self.h + self.sigma**2)/(2*self.sigma**2)\n",
        "  tp[1] = (b_*self.h + self.sigma**2)/(2*self.sigma**2)\n",
        "  \n",
        "  #correction on prob\n",
        "  if tp[1]<0:\n",
        "    tp = tp - tp[1]\n",
        "    tp = tp/tp.sum()\n",
        "    print('>>>>corrected probability due to negativity')\n",
        "\n",
        "  return tp  \n",
        "\n",
        "pde.mdp_trans_prob_central = mdp_trans_prob_central"
      ],
      "execution_count": 0,
      "outputs": []
    },
    {
      "cell_type": "code",
      "metadata": {
        "id": "_A_jXhLxg5_r",
        "colab_type": "code",
        "colab": {}
      },
      "source": [
        "def value_iter(self):\n",
        "  \n",
        "  if (self.q_table ==  np.zeros(self.q_table.shape)).all():\n",
        "    self.mdp_space_config()\n",
        "  index = ((self.LIM_ - self.LIM[0])/self.h).astype(int)\n",
        "  n_iter = 0 #iteration counter\n",
        "\n",
        "  while n_iter < self.MAX_ITER:\n",
        "    pre_s_val = self.s_val.copy()\n",
        "\n",
        "    for i in range(index[0]+1, index[1]):\n",
        "      for k in range(self.a_space.size):\n",
        "        x_ = self.s_space[i]\n",
        "        a_ = self.a_space[k]\n",
        "        tp_ = self.mdp_trans_prob_central(x_, a_)\n",
        "        \n",
        "        run_cost_ = self.run_cost(x_,a_)*self.h**2/self.sigma**2\n",
        "        Lambda_ = 1 + self.lambda_* self.h**2/ self.sigma**2\n",
        "\n",
        "        self.q_table[i,k] = (run_cost_ + \n",
        "                             tp_[0]*self.s_val[i-1] + \n",
        "                             tp_[1]*self.s_val[i+1])/Lambda_\n",
        "\n",
        "      self.s_val[i] = np.min(self.q_table[i]) #sync q_table with s_val\n",
        "    #err_ = np.max(np.abs(pre_s_val - self.s_val))\n",
        "\n",
        "    n_iter += 1\n",
        "\n",
        "  return self.q_table\n",
        "     \n",
        "      \n",
        "pde.value_iter = value_iter "
      ],
      "execution_count": 0,
      "outputs": []
    },
    {
      "cell_type": "code",
      "metadata": {
        "id": "tLeiHpVlUaNv",
        "colab_type": "code",
        "colab": {}
      },
      "source": [
        "def func(NUM,MAX_ITER,args, q_table ,s_val):\n",
        "  pde1 = pde(NUM = NUM,MAX_ITER = MAX_ITER,LIM = args, q_table =  q_table, s_val = s_val)\n",
        "  return pde1.value_iter()"
      ],
      "execution_count": 0,
      "outputs": []
    },
    {
      "cell_type": "code",
      "metadata": {
        "id": "WShMF5cSwUcq",
        "colab_type": "code",
        "outputId": "67e24535-b2ad-40a7-9a58-a38c06680813",
        "colab": {
          "base_uri": "https://localhost:8080/",
          "height": 304
        }
      },
      "source": [
        "#cores = multiprocessing.cpu_count() cores = 2 in notebook\n",
        "\n",
        "s_val = np.zeros(11)\n",
        "q_table = np.zeros([11, 21])\n",
        "err_ = 1. #error init\n",
        "s_val = np.zeros(11)\n",
        "while err_ > 0.001:\n",
        "  pre_s_val = s_val.copy()\n",
        "  results = []\n",
        "  pool = multiprocessing.Pool(processes=2)\n",
        "  args = [np.array([.0,0.6]),np.array([0.4,1])]\n",
        "  for i in range(2):\n",
        "    results.append(pool.apply_async(func, (10 , 10, args[i],q_table,pre_s_val,)))\n",
        "  pool.close()\n",
        "  pool.join()\n",
        "  q_table = np.minimum(results[0].get(),results[1].get())\n",
        "  for i in range(q_table.shape[0]):\n",
        "    s_val[i] = np.min(q_table[i])\n",
        "  err_ = np.max(np.abs(pre_s_val - s_val))\n",
        "  \n",
        "C1 = 1\n",
        "C2 = 1\n",
        "exact_val_f = lambda x: - np.log(C1*np.exp(x) + C2*np.exp(-x))\n",
        "exact_val = exact_val_f(np.arange(0, 1.1, 0.1))\n",
        "plt.plot(np.arange(0, 1.1, 0.1), s_val, label = 'computed')\n",
        "plt.plot(np.arange(0, 1.1, 0.1), exact_val, label = 'exact')\n",
        "plt.legend()\n",
        "\n",
        "end_time = time.time()\n",
        "\n",
        "print('>>>max norm of error is ' + str(np.max(np.abs(s_val-exact_val))))\n",
        "print('elapsed time is %f seconds' %(end_time - start_time))"
      ],
      "execution_count": 49,
      "outputs": [
        {
          "output_type": "stream",
          "text": [
            ">>>max norm of error is 0.0036462698378354474\n",
            "elapsed time is 3.603656 seconds\n"
          ],
          "name": "stdout"
        },
        {
          "output_type": "display_data",
          "data": {
            "image/png": "[encoded data removed]",
            "text/plain": [
              "<Figure size 432x288 with 1 Axes>"
            ]
          },
          "metadata": {
            "tags": []
          }
        }
      ]
    }
  ]
}