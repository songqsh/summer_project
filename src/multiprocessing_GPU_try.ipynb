{
  "nbformat": 4,
  "nbformat_minor": 0,
  "metadata": {
    "colab": {
      "name": "multiprocessing_GPU_try.ipynb",
      "version": "0.3.2",
      "provenance": [],
      "include_colab_link": true
    },
    "kernelspec": {
      "name": "python3",
      "display_name": "Python 3"
    }
  },
  "cells": [
    {
      "cell_type": "markdown",
      "metadata": {
        "id": "view-in-github",
        "colab_type": "text"
      },
      "source": [
        "<a href=\"https://colab.research.google.com/github/wqiu96/summer_project/blob/master/src/multiprocessing_GPU_try.ipynb\" target=\"_parent\"><img src=\"https://colab.research.google.com/assets/colab-badge.svg\" alt=\"Open In Colab\"/></a>"
      ]
    },
    {
      "cell_type": "code",
      "metadata": {
        "id": "1Lew7-GNdMvm",
        "colab_type": "code",
        "colab": {}
      },
      "source": [
        "import numpy as np\n",
        "import time\n",
        "start_time = time.time()\n",
        "import matplotlib.pyplot as plt\n",
        "import multiprocessing"
      ],
      "execution_count": 0,
      "outputs": []
    },
    {
      "cell_type": "code",
      "metadata": {
        "id": "2CHOOS72gnAo",
        "colab_type": "code",
        "colab": {}
      },
      "source": [
        "class pde:\n",
        "  def __init__(self,NUM,TOL,MAX_ITER,LIM):\n",
        "    #pde config\n",
        "    self.TOL = TOL\n",
        "    \n",
        "    self.U_LIM = LIM[0] #upper limit for state\n",
        "  \n",
        "    self.L_LIM = LIM[1]  #lower limit for state\n",
        "    \n",
        "    self.MAX_ITER = MAX_ITER\n",
        "    \n",
        "    self.name = 'HJB 1d'\n",
        "    self.NUM = NUM\n",
        "    self.h = 1./self.NUM #mesh size in state space\n",
        "    self.lambda_ = 0. #discount rate\n",
        "    self.sigma = 1. #diffusion coefficient\n",
        "    self.drift = lambda x,a: a #drift coefficient function\n",
        "      \n",
        "    self.s_space = np.arange(self.L_LIM, self.U_LIM+self.h, self.h) #state space\n",
        "\n",
        "    self.a_space = np.arange(2*self.L_LIM, 2*self.U_LIM + self.h, self.h) #action space\n",
        "\n",
        "    self.del_ind_space = np.array([-1,1]) #space of delta (1-step) index: -1 means left, 1 means right move\n",
        "\n",
        "    self.term_ind_space = np.array([0, self.s_space.size-1]) #space of terminal state indice\n",
        "\n",
        "    #q-table and state value initialization\n",
        "\n",
        "    self.s_val = np.zeros(self.s_space.size)\n",
        "    self.q_table = np.zeros([self.s_space.size, self.a_space.size])\n",
        "  \n",
        "    self.run_cost = lambda x, a: (a**2+1)/2.\n",
        "\n",
        "    C1 = 1; C2 = 1\n",
        "    self.term_cost = lambda x: - np.log(C1*np.exp(x) + C2*np.exp(-x))\n",
        "    \n",
        "    #pde exact solution if available\n",
        "    self.exact_sol = self.term_cost"
      ],
      "execution_count": 0,
      "outputs": []
    },
    {
      "cell_type": "code",
      "metadata": {
        "id": "A7Q4WBbpgpMZ",
        "colab_type": "code",
        "colab": {}
      },
      "source": [
        "def mdp_space_config(self):  #num of meshes in one unit state space\n",
        "\n",
        "  #s_val and q-table terminal setup\n",
        "  for i in self.term_ind_space:\n",
        "    self.s_val[i] = self.term_cost(self.s_space[i])\n",
        "    for j in range(self.a_space.size):\n",
        "      self.q_table[i,j] = self.term_cost(self.s_space[i])\n",
        "  \n",
        "  \n",
        "pde.mdp_space_config = mdp_space_config"
      ],
      "execution_count": 0,
      "outputs": []
    },
    {
      "cell_type": "code",
      "metadata": {
        "id": "bT_hAYIQgpwR",
        "colab_type": "code",
        "colab": {}
      },
      "source": [
        "#transition probability\n",
        "#output is probability (np array) on del_ind_space \n",
        "#central fdm\n",
        "\n",
        "def mdp_trans_prob_central(self,x,a):\n",
        "  tp = np.zeros(self.del_ind_space.shape)\n",
        "  \n",
        "  b_ = self.drift(x,a)\n",
        "  tp[0] = (-b_*self.h + self.sigma**2)/(2*self.sigma**2)\n",
        "  tp[1] = (b_*self.h + self.sigma**2)/(2*self.sigma**2)\n",
        "  \n",
        "  #correction on prob\n",
        "  if tp[1]<0:\n",
        "    tp = tp - tp[1]\n",
        "    tp = tp/tp.sum()\n",
        "    print('>>>>corrected probability due to negativity')\n",
        "\n",
        "  return tp  \n",
        "\n",
        "pde.mdp_trans_prob_central = mdp_trans_prob_central"
      ],
      "execution_count": 0,
      "outputs": []
    },
    {
      "cell_type": "code",
      "metadata": {
        "id": "_A_jXhLxg5_r",
        "colab_type": "code",
        "colab": {}
      },
      "source": [
        "def value_iter(self):\n",
        "  \n",
        "  pde1.mdp_space_config()\n",
        "  err_ = 1. #error init\n",
        "  \n",
        "  n_iter = 0 #iteration counter\n",
        "\n",
        "  while err_>self.TOL and n_iter < self.MAX_ITER:\n",
        "    pre_s_val = self.s_val.copy()\n",
        "\n",
        "    for i in range(1, self.s_space.size - 1):\n",
        "      for k in range(self.a_space.size):\n",
        "        x_ = self.s_space[i]\n",
        "        a_ = self.a_space[k]\n",
        "        tp_ = self.mdp_trans_prob_central(x_, a_)\n",
        "        \n",
        "        run_cost_ = self.run_cost(x_,a_)*self.h**2/self.sigma**2\n",
        "        Lambda_ = 1 + self.lambda_* self.h**2/ self.sigma**2\n",
        "\n",
        "        self.q_table[i,k] = (run_cost_ + \n",
        "                             tp_[0]*self.s_val[i-1] + \n",
        "                             tp_[1]*self.s_val[i+1])/Lambda_\n",
        "\n",
        "      self.s_val[i] = np.min(self.q_table[i]) #sync q_table with s_val\n",
        "    err_ = np.max(np.abs(pre_s_val - self.s_val))\n",
        "\n",
        "    n_iter += 1\n",
        "\n",
        "  return self.q_table\n",
        "     \n",
        "      \n",
        "pde.value_iter = value_iter "
      ],
      "execution_count": 0,
      "outputs": []
    },
    {
      "cell_type": "code",
      "metadata": {
        "id": "tLeiHpVlUaNv",
        "colab_type": "code",
        "colab": {}
      },
      "source": [
        "def func(NUM,TOL,MAX_ITER,args):\n",
        "  pde1 = pde(NUM = NUM,TOL = TOL,MAX_ITER = MAX_ITER,LIM = args)\n",
        "  return pde1.value_iter()"
      ],
      "execution_count": 0,
      "outputs": []
    },
    {
      "cell_type": "code",
      "metadata": {
        "id": "WShMF5cSwUcq",
        "colab_type": "code",
        "colab": {
          "base_uri": "https://localhost:8080/",
          "height": 756
        },
        "outputId": "9b846c3f-8ba0-4412-dbf0-e9d38fbeaf5f"
      },
      "source": [
        "cores = multiprocessing.cpu_count()\n",
        "pool = multiprocessing.Pool(processes=cores)\n",
        "results = []\n",
        "args = [np.array([1,0.4]),np.array([0.6,0])]\n",
        "for i in range(cores):\n",
        "  results.append(pool.apply_async(func, (10, 0.001 , 5000, args[i], )))\n",
        "pool.close()\n",
        "pool.join()\n",
        "\n",
        "results\n",
        "for res in results:\n",
        "  print (res.get())"
      ],
      "execution_count": 220,
      "outputs": [
        {
          "output_type": "stream",
          "text": [
            "[[0.         0.         0.         0.         0.         0.\n",
            "  0.         0.         0.         0.         0.         0.\n",
            "  0.        ]\n",
            " [0.04303048 0.04420299 0.04547549 0.046848   0.0483205  0.04989301\n",
            "  0.05156551 0.05333802 0.05521052 0.05718303 0.05925553 0.06142803\n",
            "  0.06370054]\n",
            " [0.06540869 0.06638997 0.06747125 0.06865253 0.06993381 0.07131509\n",
            "  0.07279637 0.07437765 0.07605893 0.07784021 0.07972149 0.08170277\n",
            "  0.08378405]\n",
            " [0.0701216  0.07093931 0.07185702 0.07287474 0.07399245 0.07521016\n",
            "  0.07652787 0.07794559 0.0794633  0.08108101 0.08279872 0.08461643\n",
            "  0.08653415]\n",
            " [0.05952739 0.06020337 0.06097935 0.06185533 0.06283131 0.06390729\n",
            "  0.06508327 0.06635925 0.06773523 0.06921121 0.07078719 0.07246317\n",
            "  0.07423915]\n",
            " [0.0355826  0.03613496 0.03678733 0.03753969 0.03839205 0.03934442\n",
            "  0.04039678 0.04154914 0.04280151 0.04415387 0.04560623 0.04715859\n",
            "  0.04881096]\n",
            " [0.         0.         0.         0.         0.         0.\n",
            "  0.         0.         0.         0.         0.         0.\n",
            "  0.        ]]\n",
            "[[0.         0.         0.         0.         0.         0.\n",
            "  0.         0.         0.         0.         0.         0.\n",
            "  0.        ]\n",
            " [0.02306799 0.02329867 0.02362935 0.02406003 0.02459071 0.02522139\n",
            "  0.02595207 0.02678275 0.02771343 0.02874411 0.02987479 0.03110547\n",
            "  0.03243615]\n",
            " [0.03706618 0.03720616 0.03744614 0.03778612 0.0382261  0.03876609\n",
            "  0.03940607 0.04014605 0.04098603 0.04192601 0.04296599 0.04410598\n",
            "  0.04534596]\n",
            " [0.04198772 0.04203693 0.04218615 0.04243536 0.04278458 0.0432338\n",
            "  0.04378301 0.04443223 0.04518144 0.04603066 0.04697987 0.04802909\n",
            "  0.0491783 ]\n",
            " [0.03763663 0.03759312 0.03764961 0.0378061  0.03806258 0.03841907\n",
            "  0.03887556 0.03943205 0.04008854 0.04084503 0.04170152 0.04265801\n",
            "  0.0437145 ]\n",
            " [0.02379656 0.02365859 0.02362063 0.02368266 0.0238447  0.02410673\n",
            "  0.02446877 0.0249308  0.02549283 0.02615487 0.0269169  0.02777894\n",
            "  0.02874097]\n",
            " [0.         0.         0.         0.         0.         0.\n",
            "  0.         0.         0.         0.         0.         0.\n",
            "  0.        ]]\n"
          ],
          "name": "stdout"
        }
      ]
    },
    {
      "cell_type": "code",
      "metadata": {
        "id": "wp6Hdw9cgsOm",
        "colab_type": "code",
        "colab": {}
      },
      "source": [
        "pde1 = pde(NUM=10,TOL = 0.001,MAX_ITER = 5000, LIM = np.array([1,0]))\n",
        "q_table = pde1.value_iter() #if NUM is chosen to be 20 or bigger number, the result is bad"
      ],
      "execution_count": 0,
      "outputs": []
    },
    {
      "cell_type": "code",
      "metadata": {
        "id": "xmxsUmGNg0Kq",
        "colab_type": "code",
        "colab": {
          "base_uri": "https://localhost:8080/",
          "height": 322
        },
        "outputId": "a34c62dd-7232-43b2-91db-96bf85a8898f"
      },
      "source": [
        "plt.plot(pde1.s_space, pde1.s_val, label = 'computed')\n",
        "\n",
        "exact_val = pde1.exact_sol(pde1.s_space)\n",
        "plt.plot(pde1.s_space, exact_val, label = 'exact')\n",
        "plt.legend()\n",
        "\n",
        "print('>>>iteration error is ' + str(err))\n",
        "print('>>>iter number is ' + str(n_iter))\n",
        "print('>>>max norm of error is ' + str(np.max(np.abs(pde1.s_val-exact_val))))"
      ],
      "execution_count": 219,
      "outputs": [
        {
          "output_type": "stream",
          "text": [
            ">>>iteration error is 0.0009022032639104394\n",
            ">>>iter number is 44\n",
            ">>>max norm of error is 0.007988133303176492\n"
          ],
          "name": "stdout"
        },
        {
          "output_type": "display_data",
          "data": {
            "image/png": "[encoded data removed]",
            "text/plain": [
              "<Figure size 432x288 with 1 Axes>"
            ]
          },
          "metadata": {
            "tags": []
          }
        }
      ]
    }
  ]
}