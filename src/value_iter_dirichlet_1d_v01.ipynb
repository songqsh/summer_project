{
  "nbformat": 4,
  "nbformat_minor": 0,
  "metadata": {
    "colab": {
      "name": "value_iter_dirichlet_1d_v01.ipynb",
      "version": "0.3.2",
      "provenance": [],
      "collapsed_sections": [],
      "include_colab_link": true
    },
    "kernelspec": {
      "name": "python3",
      "display_name": "Python 3"
    }
  },
  "cells": [
    {
      "cell_type": "markdown",
      "metadata": {
        "id": "view-in-github",
        "colab_type": "text"
      },
      "source": [
        "<a href=\"https://colab.research.google.com/github/wqiu96/summer_project/blob/master/src/value_iter_dirichlet_1d_v01.ipynb\" target=\"_parent\"><img src=\"https://colab.research.google.com/assets/colab-badge.svg\" alt=\"Open In Colab\"/></a>"
      ]
    },
    {
      "cell_type": "code",
      "metadata": {
        "id": "WrJvkAbpNyR3",
        "colab_type": "code",
        "colab": {}
      },
      "source": [
        "import numpy as np\n",
        "import time\n",
        "start_time = time.time()\n",
        "\n",
        "from tqdm import tqdm\n",
        "import matplotlib.pyplot as plt\n",
        "from mpl_toolkits.mplot3d import Axes3D "
      ],
      "execution_count": 0,
      "outputs": []
    },
    {
      "cell_type": "markdown",
      "metadata": {
        "id": "xNFJIMnEa39w",
        "colab_type": "text"
      },
      "source": [
        "__Goal__\n",
        "\n",
        "Implement value iteration on 1d HJB with Dirichlet data and verify with the explicit solution on Whittle’s “Flypaper”\n",
        "\n",
        "__Ref__\n",
        "\n",
        "- [1] Chap V.7 of [Roger and Williams 2000] \n",
        "\n",
        "- [2] P97, Example 4 of [Kushner and Dupuis 2001]\n",
        "\n",
        "- [previous version](https://github.com/songqsh/foo1/blob/master/src/value_iter_dirichlet_1d.ipynb)\n"
      ]
    },
    {
      "cell_type": "markdown",
      "metadata": {
        "id": "pqDOVcH776J5",
        "colab_type": "text"
      },
      "source": [
        "__Problem setup__\n",
        "\n",
        "We want to solve a d-dimensions HJB\n",
        "$$\\inf_a \\{\\sum_{i=1}^db_i(x,a)  \\frac{\\partial v(x)}{\\partial x_i}  + \\frac 1 2 \\sum_{i,j=1}^{d} \\hat \\sigma_{ij} \\frac{\\partial^2 v(x)}{\\partial x_i \\partial x_j} - \\lambda v(x) + \\ell(x,a)\\} = 0, \\quad \\hbox{ where } \\sigma_{ij} = \\sigma*\\sigma^T , \\sum_{i=1}^{d}x_i^2\\leq1$$\n",
        "with Dirichlet data\n",
        "$$v(x_1,x_2,..,x_d) = g(x_1,x_2,..,x_d), \\quad \\hbox{ when } \\sum_{i=1}^{d}x_i^2 = 1$$\n",
        "\n",
        "\n"
      ]
    },
    {
      "cell_type": "markdown",
      "metadata": {
        "id": "uVhPAihx-88o",
        "colab_type": "text"
      },
      "source": [
        "__MDP discretization__\n",
        "\n",
        "Approximation:\n",
        "$$\n",
        "\\frac{\\partial v(x)}{\\partial x_i} = \\frac{v(x+e_ih)-v(x-e_ih)}{2h}\n",
        "$$\n",
        "when $i = j$\n",
        "$$\n",
        "\\frac{\\partial^2 v(x)}{\\partial x_i^2} = \\frac{v(x+e_ih)-2v(x)+v(x-e_ih)}{h^2}\n",
        "$$\n",
        "when $i \\neq j$\n",
        "$$\n",
        "\\frac{\\partial^2 v(x)}{\\partial x_i^2} = \\frac{v(x+e_ih+e_jh)-v(x+e_ih-e_jh)-v(x-e_ih+e_jh)+v(x-e_ih-e_jh)}{4h^2}\n",
        "$$\n",
        "then\n",
        "$$\\inf_a \\{v(x)(-\\lambda-\\sum_{i=1}^{d}\\frac{\\hat \\sigma_{ii}}{h^2})+\\sum_{i=1}^{d}v(x+e_ih)\\frac{b_i(x,a)h+\\sigma_{ii}}{2h^2}+\\sum_{i=1}^{d}v(x-e_ih)\\frac{-b_i(x,a)h+\\sigma_{ii}}{2h^2}+\\sum_{i,j=1,i\\neq j}^{d}(v(x+e_ih+e_jh)-v(x+e_ih-e_jh)-v(x-e_ih+e_jh)+v(x-e_ih-e_jh))\\frac{\\hat \\sigma_{ij}}{8h^2}+ \\ell(x,a)\\} = 0\n",
        "$$\n",
        "Set\n",
        "$$\n",
        "c_1 = \\lambda+\\sum_{i=1}^{d}\\frac{\\hat \\sigma_{ii}}{h^2}\n",
        "$$\n",
        "$$\n",
        "\\Lambda = \\frac{\\sum_{i=1}^{d}\\frac{\\lambda h+\\sigma_{ii}}{h^2}}{\\sum_{i=1}^{d}\\frac{\\sigma_{ii}}{h^2}}=\\frac{\\lambda h+\\sum_{i=1}^{d}{\\sigma_{ii}}}{\\sum_{i=1}^{d}\\sigma_{ii}}\n",
        "$$\n",
        "Then\n",
        "$$\n",
        "p^h(x+e_ih|x_i, a_i) = \\Lambda(\\frac{b_i(x,a) + \\hat \\sigma_{ii}}{2c_1h^2})\n",
        "$$\n",
        "$$\n",
        "p^h(x-e_ih|x_i, a_i) = \\Lambda(\\frac{-b_i(x,a) + \\hat \\sigma_{ii}}{2c_1h^2})\n",
        "$$\n",
        "$$\n",
        " \\hat \\ell(x,a)=\\sum_{i,j=1,i\\neq j}^{d}(v(x+e_ih+e_jh)-v(x+e_ih-e_jh)-v(x-e_ih+e_jh)+v(x-e_ih-e_jh))\\frac{\\hat \\sigma_{ij}}{8h^2}+ \\ell(x,a)\n",
        "$$\n",
        "so \n",
        "$$\n",
        "v(x) = \\inf_a\\{\\sum_{i=1}^{d}p^h(x+e_ih|x_i, a_i)v(x+e_ih) +\\sum_{i=1}^{d}p^h(x-e_ih|x_i, a_i)v(x-e_ih) + \\hat \\ell(x,a) \\}\n",
        "$$"
      ]
    },
    {
      "cell_type": "markdown",
      "metadata": {
        "id": "2upaYLRHDJUU",
        "colab_type": "text"
      },
      "source": [
        "__Rk__\n",
        "\n",
        "There is essential difference of above MDP approximation using central FDM from the one\n",
        "using upward FDM provided by P97 of [2]."
      ]
    },
    {
      "cell_type": "code",
      "metadata": {
        "id": "PjDWKL6fvFNz",
        "colab_type": "code",
        "colab": {}
      },
      "source": [
        "#PDE to be solved\n",
        "class pde:\n",
        "  def __init__(self):\n",
        "    #pde config\n",
        "    self.name = 'HJB nd'\n",
        "    self.dim = 2\n",
        "    self.LIM = 1 #limit for state\n",
        "\n",
        "\n",
        "    self.lambda_ = 0. #discount rate\n",
        "    self.sigma = np.eye(self.dim) #diffusion coefficient matrix\n",
        " \n",
        "    self.drift = lambda x,a: a  #drift coefficient function\n",
        "\n",
        "    self.run_cost = lambda x, a: self.dim + 2*sum([i**2 for i in x]) + (1/2)*sum([j**2 for j in a])\n",
        "\n",
        "    self.term_cost = lambda x: -sum([i**2 for i in x])\n",
        "    \n",
        "    #pde exact solution if available\n",
        "    self.exact_sol = self.term_cost\n",
        "\n",
        "    "
      ],
      "execution_count": 0,
      "outputs": []
    },
    {
      "cell_type": "code",
      "metadata": {
        "id": "h1biA8Y8R2Oc",
        "colab_type": "code",
        "colab": {}
      },
      "source": [
        "def mdp_space_config(self, \n",
        "                     dim = 2,\n",
        "                     NUM = 5 #num of meshes in one unit state space\n",
        "                    ):\n",
        "  self.NUM = NUM\n",
        "  \n",
        "  self.dim = dim\n",
        "  \n",
        "  self.h = 1./self.NUM #mesh size in state space\n",
        "  \n",
        "  self.L_LIM = 1\n",
        "  \n",
        "  self.x_space = np.array([i*self.h for i in range(-self.NUM*self.L_LIM, self.NUM*self.L_LIM)]) # x state space, for all dimensions, x_d have the same range,\n",
        "  # range is more accurate than np.arange\n",
        "  #self.x_space = np.repeat(np.expand_dims(space, axis = 0) ,self.dim , axis = 0) # x state space\n",
        "  \n",
        "  self.a_space = np.array([i*self.h for i in range(-2*self.NUM*self.L_LIM, 2*self.NUM*self.L_LIM)])\n",
        "  \n",
        "  self.del_ind_space = np.array([-1,1]) #space of delta (1-step) index: -1 means left, 1 means right move\n",
        "\n",
        "  #q-table and state value initialization\n",
        "  print(self.x_space)\n",
        "  self.s_val = np.zeros(self.x_space.size*np.ones(self.dim, np.int))\n",
        "  self.q_table = np.zeros(np.append(self.x_space.size*np.ones(self.dim, np.int), self.a_space.size*np.ones(self.dim, np.int)))\n",
        "  \n",
        "  print('>>>>> q_table size is %i' %(self.q_table.size))\n",
        "\n",
        "  #s_val and q-table terminal setup\n",
        "  for i in range(self.s_val.size):  # visit all x States\n",
        "    k = self.dim - 1\n",
        "    x_d = []          \n",
        "    s_index = []\n",
        "    Limit = 0\n",
        "    while k >= 0:\n",
        "      x_d.append(self.x_space[(i//(self.x_space.size**k))%self.x_space.size])\n",
        "      s_index.append((i//(self.x_space.size**k))%self.x_space.size)\n",
        "      Limit += self.x_space[(i//(self.x_space.size**k))%self.x_space.size]**2\n",
        "      k -= 1\n",
        "    if self.L_LIM - np.sqrt(self.dim*self.h**self.dim) <= Limit <= self.L_LIM + np.sqrt(self.dim*self.h**self.dim): # the ter\n",
        "      self.s_val[tuple(s_index)] = self.term_cost(x_d)\n",
        "      print(x_d)\n",
        "      for j in range(self.a_space.size**self.dim):\n",
        "        m = self.dim - 1\n",
        "        a_index = []\n",
        "        while m >= 0:\n",
        "          a_index.append((i//(self.a_space.size**m))%self.a_space.size)\n",
        "          m -= 1\n",
        "        self.q_table[tuple(s_index + a_index)] = self.term_cost(x_d)\n",
        "  \n",
        "  \n",
        "pde.mdp_space_config = mdp_space_config"
      ],
      "execution_count": 0,
      "outputs": []
    },
    {
      "cell_type": "code",
      "metadata": {
        "id": "QIl6C9yFVLO_",
        "colab_type": "code",
        "colab": {}
      },
      "source": [
        "#transition probability\n",
        "#output is probability (np array) on del_ind_space \n",
        "#central fdm\n",
        "\n",
        "def mdp_trans_prob_central(self,x,a,sigma):\n",
        "  tp = []\n",
        "  b_ = self.drift(x,a)\n",
        "  \n",
        "  c1 = self.lambda_ + sum(sigma.diagonal())/(self.h**2)\n",
        "  Lambda = 1 + self.lambda_*sum(sigma.diagonal())/(self.h**2)\n",
        "  \n",
        "  tp.append(Lambda*((b_*self.h + sigma.diagonal())/(2*c1*self.h**2)))\n",
        "  tp.append(Lambda*((-1*b_*self.h + sigma.diagonal())/(2*c1*self.h**2)))\n",
        "  #tp.append(sigma/(8*c1*self.h**2))\n",
        "  \n",
        "  #correction on prob\n",
        "#  if tp[1]<0:\n",
        "#    tp = tp - tp[1]\n",
        "#    tp = tp/tp.sum()\n",
        "#    print('>>>>corrected probability due to negativity')\n",
        "\n",
        "  return tp  \n",
        "\n",
        "pde.mdp_trans_prob_central = mdp_trans_prob_central"
      ],
      "execution_count": 0,
      "outputs": []
    },
    {
      "cell_type": "code",
      "metadata": {
        "id": "PR6Hagr1q7Im",
        "colab_type": "code",
        "colab": {}
      },
      "source": [
        "def Dif_array(self,s_index):        #calculate s_val(x+e_i*h) and s_val(x-e_i*h)\n",
        "  res_plus = np.zeros(self.dim)\n",
        "  res_mins = np.zeros(self.dim)\n",
        "  for i in range(self.dim):\n",
        "    temp_plus = s_index\n",
        "    temp_mins = s_index\n",
        "    temp_plus[i] = s_index[i] + 1\n",
        "    temp_mins[i] = s_index[i] - 1\n",
        "    res_plus[i] = self.s_val[tuple(temp_plus)]\n",
        "    res_mins[i] = self.s_val[tuple(temp_mins)]\n",
        "  \n",
        "  return res_plus,res_mins\n",
        "\n",
        "pde.Dif_array = Dif_array"
      ],
      "execution_count": 0,
      "outputs": []
    },
    {
      "cell_type": "code",
      "metadata": {
        "id": "JwkFShOotdfC",
        "colab_type": "code",
        "colab": {}
      },
      "source": [
        "def Dif_martix(self,s_index):        #calculate s_val(x+e_i*h-e_j*h), s_val(x-e_j*h+e_i*h), s_val(x+e_j*h+e_i*h), s_val(x-e_j*h-e_i*h)\n",
        "  res_plus_plus = np.zeros((self.dim,self.dim))\n",
        "  res_mins_mins = np.zeros((self.dim,self.dim))\n",
        "  res_plus_mins = np.zeros((self.dim,self.dim))\n",
        "  res_mins_plus = np.zeros((self.dim,self.dim))\n",
        "  for i in range(self.dim):\n",
        "    for j in range(self.dim):\n",
        "      if i != j:\n",
        "        temp_plus_plus = s_index\n",
        "        temp_mins_mins = s_index\n",
        "        temp_plus_mins = s_index\n",
        "        temp_mins_plus = s_index\n",
        "        \n",
        "        temp_plus_plus[i] = s_index[i] + 1\n",
        "        temp_plus_plus[j] = s_index[j] + 1\n",
        "        \n",
        "        temp_mins_mins[i] = s_index[i] - 1\n",
        "        temp_mins_mins[j] = s_index[j] - 1\n",
        "        \n",
        "        temp_plus_mins[i] = s_index[i] + 1\n",
        "        temp_plus_mins[j] = s_index[j] - 1\n",
        "        \n",
        "        temp_mins_plus[i] = s_index[i] - 1\n",
        "        temp_mins_plus[j] = s_index[j] + 1\n",
        "\n",
        "        res_plus_plus[i][j] = self.s_val[tuple(temp_plus_plus)]\n",
        "        res_mins_mins[i][j] = self.s_val[tuple(temp_mins_mins)]\n",
        "        res_plus_mins[i][j] = self.s_val[tuple(temp_plus_mins)]\n",
        "        res_mins_plus[i][j] = self.s_val[tuple(temp_mins_plus)]\n",
        "  res = res_plus_plus + res_mins_mins - res_plus_mins - res_mins_plus\n",
        "  \n",
        "  return res\n",
        "\n",
        "pde.Dif_martix = Dif_martix"
      ],
      "execution_count": 0,
      "outputs": []
    },
    {
      "cell_type": "code",
      "metadata": {
        "id": "7ksl6Piqaye1",
        "colab_type": "code",
        "colab": {}
      },
      "source": [
        "def value_iter(self, \n",
        "               TOL= 0.0001, #tolerance for iteration\n",
        "               MAX_ITER= 2000 #maximum iteration\n",
        "              ):\n",
        " \n",
        "  err_ = 1. #error init\n",
        "  \n",
        "  n_iter = 0 #iteration counter\n",
        "\n",
        "  while err_>TOL and n_iter < MAX_ITER:\n",
        "    pre_s_val = self.s_val.copy()\n",
        "\n",
        "    for i in range(self.s_val.size):  # visit all x States\n",
        "      k = self.dim - 1\n",
        "      x_d = []          \n",
        "      s_index = []\n",
        "      Limit = 0\n",
        "      while k >= 0:\n",
        "        x_d.append(self.x_space[(i//(self.x_space.size**k))%self.x_space.size])\n",
        "        s_index.append((i//(self.x_space.size**k))%self.x_space.size)\n",
        "        Limit += self.x_space[(i//(self.x_space.size**k))%self.x_space.size]**2\n",
        "        k -= 1\n",
        "      if Limit < self.L_LIM:\n",
        "        for j in range(self.a_space.size**self.dim):\n",
        "          m = self.dim - 1\n",
        "          a_index = []\n",
        "          a_list = []\n",
        "          while m >= 0:\n",
        "            a_index.append((i//(self.a_space.size**m))%self.a_space.size)\n",
        "            a_list.append(self.a_space[(i//(self.a_space.size**m))%self.a_space.size])\n",
        "            m -= 1\n",
        "          a_ = np.array(a_list)\n",
        "          tp_ = self.mdp_trans_prob_central(x_d, a_, self.sigma)\n",
        "          \n",
        "          c1 = self.lambda_ + sum(self.sigma.diagonal())/(self.h**2)\n",
        "          res_plus,res_mins = self.Dif_array(s_index)\n",
        "          res = self.Dif_martix(s_index)\n",
        "          \n",
        "          Pd = np.sum(np.multiply(res,self.sigma))\n",
        "          run_cost_ = (self.run_cost(x_d,a_) + Pd/(8*self.h**2))/c1\n",
        "          Lambda = 1 + self.lambda_*sum(self.sigma.diagonal())/(self.h**2)\n",
        "\n",
        "          self.q_table[tuple(s_index+a_index)] = (run_cost_ + np.sum(np.multiply(tp_[0],res_plus)) + np.sum(np.multiply(tp_[1],res_mins)))/Lambda\n",
        "\n",
        "        self.s_val[tuple(s_index)] = np.min(self.q_table[tuple(s_index)]) #sync q_table with s_val\n",
        "    err_ = np.max(np.abs(pre_s_val - self.s_val))\n",
        "\n",
        "    n_iter += 1\n",
        "    if np.mod(n_iter,10) == 0:\n",
        "      print('iterated ' + str(n_iter)+';')\n",
        "      \n",
        "  return [err_, n_iter]\n",
        "      \n",
        "pde.value_iter = value_iter      "
      ],
      "execution_count": 0,
      "outputs": []
    },
    {
      "cell_type": "code",
      "metadata": {
        "id": "skhpxtmBZc4x",
        "colab_type": "code",
        "outputId": "0e321580-16a8-4bb3-f83e-1a29344e1177",
        "colab": {
          "base_uri": "https://localhost:8080/",
          "height": 1000
        }
      },
      "source": [
        "pde1 = pde()\n",
        "pde1.mdp_space_config(dim=2,NUM=10) #if NUM is chosen to be 20 or bigger number, the result is bad\n",
        "err, n_iter = pde1.value_iter(TOL = 0.001, MAX_ITER = 1000)"
      ],
      "execution_count": 16,
      "outputs": [
        {
          "output_type": "stream",
          "text": [
            "[-1.  -0.9 -0.8 -0.7 -0.6 -0.5 -0.4 -0.3 -0.2 -0.1  0.   0.1  0.2  0.3\n",
            "  0.4  0.5  0.6  0.7  0.8  0.9]\n",
            ">>>>> q_table size is 640000\n",
            "[-1.0, -0.30000000000000004]\n",
            "[-1.0, -0.2]\n",
            "[-1.0, -0.1]\n",
            "[-1.0, 0.0]\n",
            "[-1.0, 0.1]\n",
            "[-1.0, 0.2]\n",
            "[-1.0, 0.30000000000000004]\n",
            "[-0.9, -0.5]\n",
            "[-0.9, -0.4]\n",
            "[-0.9, -0.30000000000000004]\n",
            "[-0.9, 0.30000000000000004]\n",
            "[-0.9, 0.4]\n",
            "[-0.9, 0.5]\n",
            "[-0.8, -0.7000000000000001]\n",
            "[-0.8, -0.6000000000000001]\n",
            "[-0.8, -0.5]\n",
            "[-0.8, 0.5]\n",
            "[-0.8, 0.6000000000000001]\n",
            "[-0.8, 0.7000000000000001]\n",
            "[-0.7000000000000001, -0.8]\n",
            "[-0.7000000000000001, -0.7000000000000001]\n",
            "[-0.7000000000000001, 0.7000000000000001]\n",
            "[-0.7000000000000001, 0.8]\n",
            "[-0.6000000000000001, -0.8]\n",
            "[-0.6000000000000001, 0.8]\n",
            "[-0.5, -0.9]\n",
            "[-0.5, -0.8]\n",
            "[-0.5, 0.8]\n",
            "[-0.5, 0.9]\n",
            "[-0.4, -0.9]\n",
            "[-0.4, 0.9]\n",
            "[-0.30000000000000004, -1.0]\n",
            "[-0.30000000000000004, -0.9]\n",
            "[-0.30000000000000004, 0.9]\n",
            "[-0.2, -1.0]\n",
            "[-0.1, -1.0]\n",
            "[0.0, -1.0]\n",
            "[0.1, -1.0]\n",
            "[0.2, -1.0]\n",
            "[0.30000000000000004, -1.0]\n",
            "[0.30000000000000004, -0.9]\n",
            "[0.30000000000000004, 0.9]\n",
            "[0.4, -0.9]\n",
            "[0.4, 0.9]\n",
            "[0.5, -0.9]\n",
            "[0.5, -0.8]\n",
            "[0.5, 0.8]\n",
            "[0.5, 0.9]\n",
            "[0.6000000000000001, -0.8]\n",
            "[0.6000000000000001, 0.8]\n",
            "[0.7000000000000001, -0.8]\n",
            "[0.7000000000000001, -0.7000000000000001]\n",
            "[0.7000000000000001, 0.7000000000000001]\n",
            "[0.7000000000000001, 0.8]\n",
            "[0.8, -0.7000000000000001]\n",
            "[0.8, -0.6000000000000001]\n",
            "[0.8, -0.5]\n",
            "[0.8, 0.5]\n",
            "[0.8, 0.6000000000000001]\n",
            "[0.8, 0.7000000000000001]\n",
            "[0.9, -0.5]\n",
            "[0.9, -0.4]\n",
            "[0.9, -0.30000000000000004]\n",
            "[0.9, 0.30000000000000004]\n",
            "[0.9, 0.4]\n",
            "[0.9, 0.5]\n"
          ],
          "name": "stdout"
        },
        {
          "output_type": "error",
          "ename": "KeyboardInterrupt",
          "evalue": "ignored",
          "traceback": [
            "\u001b[0;31m---------------------------------------------------------------------------\u001b[0m",
            "\u001b[0;31mKeyboardInterrupt\u001b[0m                         Traceback (most recent call last)",
            "\u001b[0;32m<ipython-input-16-3c5ceb36edbd>\u001b[0m in \u001b[0;36m<module>\u001b[0;34m()\u001b[0m\n\u001b[1;32m      1\u001b[0m \u001b[0mpde1\u001b[0m \u001b[0;34m=\u001b[0m \u001b[0mpde\u001b[0m\u001b[0;34m(\u001b[0m\u001b[0;34m)\u001b[0m\u001b[0;34m\u001b[0m\u001b[0;34m\u001b[0m\u001b[0m\n\u001b[1;32m      2\u001b[0m \u001b[0mpde1\u001b[0m\u001b[0;34m.\u001b[0m\u001b[0mmdp_space_config\u001b[0m\u001b[0;34m(\u001b[0m\u001b[0mdim\u001b[0m\u001b[0;34m=\u001b[0m\u001b[0;36m2\u001b[0m\u001b[0;34m,\u001b[0m\u001b[0mNUM\u001b[0m\u001b[0;34m=\u001b[0m\u001b[0;36m10\u001b[0m\u001b[0;34m)\u001b[0m \u001b[0;31m#if NUM is chosen to be 20 or bigger number, the result is bad\u001b[0m\u001b[0;34m\u001b[0m\u001b[0;34m\u001b[0m\u001b[0m\n\u001b[0;32m----> 3\u001b[0;31m \u001b[0merr\u001b[0m\u001b[0;34m,\u001b[0m \u001b[0mn_iter\u001b[0m \u001b[0;34m=\u001b[0m \u001b[0mpde1\u001b[0m\u001b[0;34m.\u001b[0m\u001b[0mvalue_iter\u001b[0m\u001b[0;34m(\u001b[0m\u001b[0mTOL\u001b[0m \u001b[0;34m=\u001b[0m \u001b[0;36m0.001\u001b[0m\u001b[0;34m,\u001b[0m \u001b[0mMAX_ITER\u001b[0m \u001b[0;34m=\u001b[0m \u001b[0;36m1000\u001b[0m\u001b[0;34m)\u001b[0m\u001b[0;34m\u001b[0m\u001b[0;34m\u001b[0m\u001b[0m\n\u001b[0m",
            "\u001b[0;32m<ipython-input-15-7f1b339ed136>\u001b[0m in \u001b[0;36mvalue_iter\u001b[0;34m(self, TOL, MAX_ITER)\u001b[0m\n\u001b[1;32m     37\u001b[0m           \u001b[0mres\u001b[0m \u001b[0;34m=\u001b[0m \u001b[0mself\u001b[0m\u001b[0;34m.\u001b[0m\u001b[0mDif_martix\u001b[0m\u001b[0;34m(\u001b[0m\u001b[0ms_index\u001b[0m\u001b[0;34m)\u001b[0m\u001b[0;34m\u001b[0m\u001b[0;34m\u001b[0m\u001b[0m\n\u001b[1;32m     38\u001b[0m \u001b[0;34m\u001b[0m\u001b[0m\n\u001b[0;32m---> 39\u001b[0;31m           \u001b[0mPd\u001b[0m \u001b[0;34m=\u001b[0m \u001b[0mnp\u001b[0m\u001b[0;34m.\u001b[0m\u001b[0msum\u001b[0m\u001b[0;34m(\u001b[0m\u001b[0mnp\u001b[0m\u001b[0;34m.\u001b[0m\u001b[0mmultiply\u001b[0m\u001b[0;34m(\u001b[0m\u001b[0mres\u001b[0m\u001b[0;34m,\u001b[0m\u001b[0mself\u001b[0m\u001b[0;34m.\u001b[0m\u001b[0msigma\u001b[0m\u001b[0;34m)\u001b[0m\u001b[0;34m)\u001b[0m\u001b[0;34m\u001b[0m\u001b[0;34m\u001b[0m\u001b[0m\n\u001b[0m\u001b[1;32m     40\u001b[0m           \u001b[0mrun_cost_\u001b[0m \u001b[0;34m=\u001b[0m \u001b[0;34m(\u001b[0m\u001b[0mself\u001b[0m\u001b[0;34m.\u001b[0m\u001b[0mrun_cost\u001b[0m\u001b[0;34m(\u001b[0m\u001b[0mx_d\u001b[0m\u001b[0;34m,\u001b[0m\u001b[0ma_\u001b[0m\u001b[0;34m)\u001b[0m \u001b[0;34m+\u001b[0m \u001b[0mPd\u001b[0m\u001b[0;34m/\u001b[0m\u001b[0;34m(\u001b[0m\u001b[0;36m8\u001b[0m\u001b[0;34m*\u001b[0m\u001b[0mself\u001b[0m\u001b[0;34m.\u001b[0m\u001b[0mh\u001b[0m\u001b[0;34m**\u001b[0m\u001b[0;36m2\u001b[0m\u001b[0;34m)\u001b[0m\u001b[0;34m)\u001b[0m\u001b[0;34m/\u001b[0m\u001b[0mc1\u001b[0m\u001b[0;34m\u001b[0m\u001b[0;34m\u001b[0m\u001b[0m\n\u001b[1;32m     41\u001b[0m           \u001b[0mLambda\u001b[0m \u001b[0;34m=\u001b[0m \u001b[0;36m1\u001b[0m \u001b[0;34m+\u001b[0m \u001b[0mself\u001b[0m\u001b[0;34m.\u001b[0m\u001b[0mlambda_\u001b[0m\u001b[0;34m*\u001b[0m\u001b[0msum\u001b[0m\u001b[0;34m(\u001b[0m\u001b[0mself\u001b[0m\u001b[0;34m.\u001b[0m\u001b[0msigma\u001b[0m\u001b[0;34m.\u001b[0m\u001b[0mdiagonal\u001b[0m\u001b[0;34m(\u001b[0m\u001b[0;34m)\u001b[0m\u001b[0;34m)\u001b[0m\u001b[0;34m/\u001b[0m\u001b[0;34m(\u001b[0m\u001b[0mself\u001b[0m\u001b[0;34m.\u001b[0m\u001b[0mh\u001b[0m\u001b[0;34m**\u001b[0m\u001b[0;36m2\u001b[0m\u001b[0;34m)\u001b[0m\u001b[0;34m\u001b[0m\u001b[0;34m\u001b[0m\u001b[0m\n",
            "\u001b[0;32m/usr/local/lib/python3.6/dist-packages/numpy/core/fromnumeric.py\u001b[0m in \u001b[0;36msum\u001b[0;34m(a, axis, dtype, out, keepdims, initial)\u001b[0m\n\u001b[1;32m   2074\u001b[0m \u001b[0;34m\u001b[0m\u001b[0m\n\u001b[1;32m   2075\u001b[0m     return _wrapreduction(a, np.add, 'sum', axis, dtype, out, keepdims=keepdims,\n\u001b[0;32m-> 2076\u001b[0;31m                           initial=initial)\n\u001b[0m\u001b[1;32m   2077\u001b[0m \u001b[0;34m\u001b[0m\u001b[0m\n\u001b[1;32m   2078\u001b[0m \u001b[0;34m\u001b[0m\u001b[0m\n",
            "\u001b[0;32m/usr/local/lib/python3.6/dist-packages/numpy/core/fromnumeric.py\u001b[0m in \u001b[0;36m_wrapreduction\u001b[0;34m(obj, ufunc, method, axis, dtype, out, **kwargs)\u001b[0m\n\u001b[1;32m     67\u001b[0m \u001b[0;34m\u001b[0m\u001b[0m\n\u001b[1;32m     68\u001b[0m \u001b[0;34m\u001b[0m\u001b[0m\n\u001b[0;32m---> 69\u001b[0;31m \u001b[0;32mdef\u001b[0m \u001b[0m_wrapreduction\u001b[0m\u001b[0;34m(\u001b[0m\u001b[0mobj\u001b[0m\u001b[0;34m,\u001b[0m \u001b[0mufunc\u001b[0m\u001b[0;34m,\u001b[0m \u001b[0mmethod\u001b[0m\u001b[0;34m,\u001b[0m \u001b[0maxis\u001b[0m\u001b[0;34m,\u001b[0m \u001b[0mdtype\u001b[0m\u001b[0;34m,\u001b[0m \u001b[0mout\u001b[0m\u001b[0;34m,\u001b[0m \u001b[0;34m**\u001b[0m\u001b[0mkwargs\u001b[0m\u001b[0;34m)\u001b[0m\u001b[0;34m:\u001b[0m\u001b[0;34m\u001b[0m\u001b[0;34m\u001b[0m\u001b[0m\n\u001b[0m\u001b[1;32m     70\u001b[0m     passkwargs = {k: v for k, v in kwargs.items()\n\u001b[1;32m     71\u001b[0m                   if v is not np._NoValue}\n",
            "\u001b[0;31mKeyboardInterrupt\u001b[0m: "
          ]
        }
      ]
    },
    {
      "cell_type": "code",
      "metadata": {
        "id": "_r37m_JFmlwk",
        "colab_type": "code",
        "colab": {}
      },
      "source": [
        "end_time = time.time()\n",
        "print('elapsed time is %f seconds' %(end_time - start_time))"
      ],
      "execution_count": 0,
      "outputs": []
    },
    {
      "cell_type": "code",
      "metadata": {
        "id": "G5x_YELvmrId",
        "colab_type": "code",
        "colab": {}
      },
      "source": [
        "figure = plt.figure()\n",
        "axes = Axes3D(figure)\n",
        "X1 = pde1.x_space\n",
        "X2 = pde1.x_space\n",
        "X1, X2 = np.meshgrid(X1, X2)\n",
        "Z = -(X1)**2 - (X2)**2\n",
        "axes.plot_surface(X1, X2, Z,cmap='rainbow')"
      ],
      "execution_count": 0,
      "outputs": []
    }
  ]
}