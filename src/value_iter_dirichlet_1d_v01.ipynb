{
  "nbformat": 4,
  "nbformat_minor": 0,
  "metadata": {
    "colab": {
      "name": "value_iter_dirichlet_1d_v01.ipynb",
      "version": "0.3.2",
      "provenance": [],
      "collapsed_sections": [],
      "include_colab_link": true
    },
    "kernelspec": {
      "name": "python3",
      "display_name": "Python 3"
    }
  },
  "cells": [
    {
      "cell_type": "markdown",
      "metadata": {
        "id": "view-in-github",
        "colab_type": "text"
      },
      "source": [
        "<a href=\"https://colab.research.google.com/github/wqiu96/summer_project/blob/master/src/value_iter_dirichlet_1d_v01.ipynb\" target=\"_parent\"><img src=\"https://colab.research.google.com/assets/colab-badge.svg\" alt=\"Open In Colab\"/></a>"
      ]
    },
    {
      "cell_type": "code",
      "metadata": {
        "id": "WrJvkAbpNyR3",
        "colab_type": "code",
        "colab": {}
      },
      "source": [
        "import numpy as np\n",
        "import time\n",
        "start_time = time.time()\n",
        "\n",
        "from tqdm import tqdm\n",
        "import matplotlib.pyplot as plt"
      ],
      "execution_count": 0,
      "outputs": []
    },
    {
      "cell_type": "code",
      "metadata": {
        "id": "5NY9nF0IFj3c",
        "colab_type": "code",
        "colab": {
          "base_uri": "https://localhost:8080/",
          "height": 33
        },
        "outputId": "bad31375-5802-4a66-98c6-abd5ea9c99cd"
      },
      "source": [
        "a=[0,0]\n",
        "A= np.array([[1,2],[3,4]])\n",
        "A[tuple(a)]"
      ],
      "execution_count": 44,
      "outputs": [
        {
          "output_type": "execute_result",
          "data": {
            "text/plain": [
              "1"
            ]
          },
          "metadata": {
            "tags": []
          },
          "execution_count": 44
        }
      ]
    },
    {
      "cell_type": "markdown",
      "metadata": {
        "id": "xNFJIMnEa39w",
        "colab_type": "text"
      },
      "source": [
        "__Goal__\n",
        "\n",
        "Implement value iteration on 1d HJB with Dirichlet data and verify with the explicit solution on Whittle’s “Flypaper”\n",
        "\n",
        "__Ref__\n",
        "\n",
        "- [1] Chap V.7 of [Roger and Williams 2000] \n",
        "\n",
        "- [2] P97, Example 4 of [Kushner and Dupuis 2001]\n",
        "\n",
        "- [previous version](https://github.com/songqsh/foo1/blob/master/src/value_iter_dirichlet_1d.ipynb)\n"
      ]
    },
    {
      "cell_type": "markdown",
      "metadata": {
        "id": "pqDOVcH776J5",
        "colab_type": "text"
      },
      "source": [
        "__Problem setup__\n",
        "\n",
        "We want to solve HJB\n",
        "$$\\inf_a \\{b(x,a) v'(x) + \\frac 1 2 \\sigma^2 v''(x) - \\lambda v(x) + \\ell(x,a)\\} = 0, \\quad \\hbox{ on } O = (l, u)$$\n",
        "with Dirichlet data\n",
        "$$v(x) = g(x), \\quad x= l, u.$$\n",
        "\n",
        "It's equivalent to the following stochastic control formulation in a broad sense. Given a controlled diffusion\n",
        "$$d X_t = b(X_t, a_t) dt + \\sigma dW_t$$\n",
        "we seek for the value function\n",
        "$$v(x) = \\inf_{a(\\cdot)} \\mathbb E^x \\Big[\\int_0^\\tau e^{-\\lambda s} \\ell(X_s, a_s) ds + e^{-\\lambda \\tau} g(X_\\tau) \\Big],$$\n",
        "where $\\tau$ is\n",
        "$$\\tau = \\inf\\{t>0: X_t \\notin O\\}.$$\n"
      ]
    },
    {
      "cell_type": "markdown",
      "metadata": {
        "id": "uVhPAihx-88o",
        "colab_type": "text"
      },
      "source": [
        "__MDP discretization__\n",
        "\n",
        "One can use central finite difference scheme with parameter $h$ to obtain the following MDP. \n",
        "\n",
        "- Let $X^h$ be a controlled Markov chain on its state space \n",
        "$$\\mathbb  R^h = \\{h i: i\\in \\mathbb Z\\}.$$\n",
        "\n",
        "- transition probability is, with sufficiently small $h>0$, \n",
        "$$p^h(x+h|x, a) = \\frac{b(x,a) + \\sigma^2}{2\\sigma^2}$$\n",
        "and\n",
        "$$p^h(x+h|x, a) = \\frac{-b(x,a) + \\sigma^2}{2\\sigma^2}.$$\n",
        "\n",
        "- terminal time is\n",
        "$$\\tau^h = \\inf\\{t>0: X^h \\notin O \\}.$$\n",
        "\n",
        "- value function is\n",
        "$$v^h(x) = \\inf_{a^h} \\mathbb E^x \\Big[ \n",
        "\\sum_{t=0}^{\\tau^h-1} \\Lambda^{-t} \\ell^h(X^h_t, a^h_t) + \n",
        "\\Lambda^{-\\tau^h} g(X_{\\tau^h})\n",
        "\\Big],$$\n",
        "where\n",
        "$$\n",
        "\\Lambda = 1 + \\lambda \\frac{h^2}{\\sigma^2}.\n",
        "$$"
      ]
    },
    {
      "cell_type": "markdown",
      "metadata": {
        "id": "2upaYLRHDJUU",
        "colab_type": "text"
      },
      "source": [
        "__Rk__\n",
        "\n",
        "There is essential difference of above MDP approximation using central FDM from the one\n",
        "using upward FDM provided by P97 of [2]."
      ]
    },
    {
      "cell_type": "markdown",
      "metadata": {
        "id": "x_SpZFKwf3lO",
        "colab_type": "text"
      },
      "source": [
        "__benchmark__\n",
        "\n",
        "\n",
        "We will recall a simple stochastic control problem, so called \n",
        "Whittle's ``flypaper'' given in [1]. This is a homogenous \n",
        "stochastic exit problem, which can be explicitly solved out.\n",
        "\n",
        "\n",
        "Let parameters be given by\n",
        "\n",
        "- $O = (0, z)$\n",
        "\n",
        "- $\\sigma = 1$\n",
        "\n",
        "- $b(x,a) = a$\n",
        "\n",
        "- $\\lambda = 0$\n",
        "\n",
        "- $\\ell(x,a) = \\frac 1 2 (a^2+1)$\n",
        "\n",
        "- $g(x) = - \\ln (c_1 e^x + c_2 e^{-x}).$\n",
        "\n",
        "The value function is \n",
        "$$v(x) = g(x)$$\n",
        "and the optimal policy is\n",
        "$$a^*(x) = - g'(x).$$"
      ]
    },
    {
      "cell_type": "markdown",
      "metadata": {
        "id": "L3cMt40aE69T",
        "colab_type": "text"
      },
      "source": [
        "__Ex__ In the above Whittle's \"flypaper\", answer the following questions:\n",
        "\n",
        "- show that $v$ is concave.\n",
        "- show that the optimal policy $|a^*(x)|\\le 1$.\n",
        "- solve for the exact solution for terminal cost given by\n",
        "$$g(x) = x^2.$$"
      ]
    },
    {
      "cell_type": "code",
      "metadata": {
        "id": "PjDWKL6fvFNz",
        "colab_type": "code",
        "colab": {}
      },
      "source": [
        "#PDE to be solved\n",
        "class pde:\n",
        "  def __init__(self):\n",
        "    #pde config\n",
        "    self.name = 'HJB nd'\n",
        "    self.dim = 2\n",
        "    self.LIM = 1 #limit for state\n",
        "\n",
        "\n",
        "    self.lambda_ = 0. #discount rate\n",
        "    self.sigma = np.array([1., 0.0], #diffusion coefficient matrix\n",
        "                          [0.0, 1.]) \n",
        "    self.drift = lambda x,a: a  #drift coefficient function\n",
        "\n",
        "    self.run_cost = lambda x, a: (a**2+1)/2.\n",
        "\n",
        "    C1 = 1; C2 = 1\n",
        "    self.term_cost = lambda x: - np.log(C1*np.exp(x) + C2*np.exp(-x))\n",
        "    \n",
        "    #pde exact solution if available\n",
        "    self.exact_sol = self.term_cost\n",
        "\n",
        "    "
      ],
      "execution_count": 0,
      "outputs": []
    },
    {
      "cell_type": "code",
      "metadata": {
        "id": "h1biA8Y8R2Oc",
        "colab_type": "code",
        "colab": {}
      },
      "source": [
        "def mdp_space_config(self, \n",
        "                     dim = 2,\n",
        "                     NUM = 5 #num of meshes in one unit state space\n",
        "                    ):\n",
        "  self.NUM = NUM\n",
        "  \n",
        "  self.dim = dim\n",
        "  \n",
        "  self.h = 1./self.NUM #mesh size in state space\n",
        "  \n",
        "  self.L_LIM = 1\n",
        "  \n",
        "  self.x_space = np.arange(-self.L_LIM, self.L_LIM, self.h)  # x state space, for all dimensions, x_d have the same range\n",
        "  #self.x_space = np.repeat(np.expand_dims(space, axis = 0) ,self.dim , axis = 0) # x state space\n",
        "\n",
        "  self.a_space = np.arange(2*self.L_LIM, -2*self.L_LIM + self.h, self.h) #action space\n",
        "\n",
        "  self.del_ind_space = np.array([-1,1]) #space of delta (1-step) index: -1 means left, 1 means right move\n",
        "\n",
        "\n",
        "  #q-table and state value initialization\n",
        "\n",
        "  self.s_val = np.zeros(space.size*np.ones(self.dim, np.int))\n",
        "  self.q_table = np.zeros(np.append(space.size*np.ones(self.dim, np.int) ,a_space.size))\n",
        "  \n",
        "  print('>>>>> q_table size is %i' %(self.q_table.size))\n",
        "\n",
        "  #s_val and q-table terminal setup\n",
        "  for(int i=0;i<x*y*z*h;i++)\n",
        "    {\n",
        "                printf(\"%d \",a[i/(y*z*h)][(i/(z*h))%(y)][i/h%z][i%h]);\n",
        "    }\n",
        "  for i in range(self.s_val.size):  # visit all x States\n",
        "    k = self.dim - 1\n",
        "    x_d = []          \n",
        "    s_index = []\n",
        "    Limit = 0\n",
        "    while k >= 0:\n",
        "      x_d.append(self.x_space[(i/(self.x_space.size**k))%self.x_space.size])\n",
        "      s_index.append((i/(self.x_space.size**k))%self.x_space.size)\n",
        "      Limit += self.x_space[(i/(self.x_space.size**k))%self.x_space.size]**2\n",
        "      k -= 1\n",
        "      if Limit <= self.L_LIM:\n",
        "        self.s_val[tuple(s_index)] = self.term_cost(x_d)\n",
        "        for k in range(self.a_space.size):\n",
        "          self.q_table[tuple(s_index.append(k))] = self.term_cost(x_d)\n",
        "  \n",
        "  \n",
        "pde.mdp_space_config = mdp_space_config"
      ],
      "execution_count": 0,
      "outputs": []
    },
    {
      "cell_type": "code",
      "metadata": {
        "id": "QIl6C9yFVLO_",
        "colab_type": "code",
        "colab": {}
      },
      "source": [
        "#transition probability\n",
        "#output is probability (np array) on del_ind_space \n",
        "#central fdm\n",
        "\n",
        "def mdp_trans_prob_central(self,x_1,x_2,a,sigma):\n",
        "  tp = []\n",
        "  b_ = self.drift(x,a)\n",
        "  \n",
        "  c1 = self.lambda_ + sum(sigma.diagnoal())/(self.h**2)\n",
        "  Lambda = 1 + self.lambda_*sum(sigma.diagonal())/(self.h**2)\n",
        "  \n",
        "  tp.append(Lambda*((b_*self.h + sigma.diagonal())/(2*c1*self.h**2)))\n",
        "  tp.append(Lambda*((-b_*self.h + sigma.diagonal())/(2*c1*self.h**2)))\n",
        "  #tp.append(sigma/(8*c1*self.h**2))\n",
        "  \n",
        "  #correction on prob\n",
        "#  if tp[1]<0:\n",
        "#    tp = tp - tp[1]\n",
        "#    tp = tp/tp.sum()\n",
        "#    print('>>>>corrected probability due to negativity')\n",
        "\n",
        "  return tp  \n",
        "\n",
        "pde.mdp_trans_prob_central = mdp_trans_prob_central"
      ],
      "execution_count": 0,
      "outputs": []
    },
    {
      "cell_type": "code",
      "metadata": {
        "id": "7ksl6Piqaye1",
        "colab_type": "code",
        "colab": {}
      },
      "source": [
        "def value_iter(self, \n",
        "               TOL= 0.0001, #tolerance for iteration\n",
        "               MAX_ITER= 2000 #maximum iteration\n",
        "              ):\n",
        " \n",
        "  err_ = 1. #error init\n",
        "  \n",
        "  n_iter = 0 #iteration counter\n",
        "\n",
        "  while err_>TOL and n_iter < MAX_ITER:\n",
        "    pre_s_val = self.s_val.copy()\n",
        "\n",
        "    for i in range(1, self.x_1_space - 1):\n",
        "      for j in range(1, self.x_2_space - 1):\n",
        "        if x_1_space[i]**2 + x_2_space[j]**2 <= 1:\n",
        "          \n",
        "      for k in range(self.a_space.size):\n",
        "        x_ = self.s_space[i]\n",
        "        a_ = self.a_space[k]\n",
        "        tp_ = self.mdp_trans_prob_central(x_, a_)\n",
        "        \n",
        "        run_cost_ = self.run_cost(x_,a_)*self.h**2/self.sigma**2\n",
        "        Lambda_ = 1 + self.lambda_* self.h**2/ self.sigma**2\n",
        "\n",
        "        self.q_table[i,k] = (run_cost_ + \n",
        "                             tp_[0]*self.s_val[i-1] + tp_[1]*self.s_val[i+1])/Lambda_\n",
        "\n",
        "      self.s_val[i] = np.min(self.q_table[i]) #sync q_table with s_val\n",
        "    err_ = np.max(np.abs(pre_s_val - self.s_val))\n",
        "\n",
        "    n_iter += 1\n",
        "    if np.mod(n_iter,10) == 0:\n",
        "      print('iterated ' + str(n_iter)+';')\n",
        "      \n",
        "  return [err_, n_iter]\n",
        "      \n",
        "pde.value_iter = value_iter      "
      ],
      "execution_count": 0,
      "outputs": []
    },
    {
      "cell_type": "markdown",
      "metadata": {
        "id": "5rn12SWBlW8r",
        "colab_type": "text"
      },
      "source": [
        "__Implementation__\n",
        "\n",
        "One can change mesh numbers (NUM), iteration tolerance (TOL), and maximum iteration number (MAX_ITER) according to your needs."
      ]
    },
    {
      "cell_type": "markdown",
      "metadata": {
        "id": "HIJxLWEi8Hb2",
        "colab_type": "text"
      },
      "source": [
        "# Ther larger NUM needs the smaller TOL"
      ]
    },
    {
      "cell_type": "code",
      "metadata": {
        "id": "RKyeoluzY8Lu",
        "colab_type": "code",
        "outputId": "ff0d0b18-a1c1-492e-e705-e8e9fc0d2c6a",
        "colab": {
          "base_uri": "https://localhost:8080/",
          "height": 1000
        }
      },
      "source": [
        "pde1 = pde()\n",
        "pde1.mdp_space_config(NUM=60) #if NUM is chosen to be 20 or bigger number, the result is bad\n",
        "err, n_iter = pde1.value_iter(TOL = 0.00001, MAX_ITER = 3000)"
      ],
      "execution_count": 0,
      "outputs": [
        {
          "output_type": "stream",
          "text": [
            ">>>>> q_table size is 7381\n",
            "iterated 10;\n",
            "iterated 20;\n",
            "iterated 30;\n",
            "iterated 40;\n",
            "iterated 50;\n",
            "iterated 60;\n",
            "iterated 70;\n",
            "iterated 80;\n",
            "iterated 90;\n",
            "iterated 100;\n",
            "iterated 110;\n",
            "iterated 120;\n",
            "iterated 130;\n",
            "iterated 140;\n",
            "iterated 150;\n",
            "iterated 160;\n",
            "iterated 170;\n",
            "iterated 180;\n",
            "iterated 190;\n",
            "iterated 200;\n",
            "iterated 210;\n",
            "iterated 220;\n",
            "iterated 230;\n",
            "iterated 240;\n",
            "iterated 250;\n",
            "iterated 260;\n",
            "iterated 270;\n",
            "iterated 280;\n",
            "iterated 290;\n",
            "iterated 300;\n",
            "iterated 310;\n",
            "iterated 320;\n",
            "iterated 330;\n",
            "iterated 340;\n",
            "iterated 350;\n",
            "iterated 360;\n",
            "iterated 370;\n",
            "iterated 380;\n",
            "iterated 390;\n",
            "iterated 400;\n",
            "iterated 410;\n",
            "iterated 420;\n",
            "iterated 430;\n",
            "iterated 440;\n",
            "iterated 450;\n",
            "iterated 460;\n",
            "iterated 470;\n",
            "iterated 480;\n",
            "iterated 490;\n",
            "iterated 500;\n",
            "iterated 510;\n",
            "iterated 520;\n",
            "iterated 530;\n",
            "iterated 540;\n",
            "iterated 550;\n",
            "iterated 560;\n",
            "iterated 570;\n",
            "iterated 580;\n",
            "iterated 590;\n",
            "iterated 600;\n",
            "iterated 610;\n",
            "iterated 620;\n",
            "iterated 630;\n",
            "iterated 640;\n",
            "iterated 650;\n",
            "iterated 660;\n",
            "iterated 670;\n",
            "iterated 680;\n",
            "iterated 690;\n",
            "iterated 700;\n",
            "iterated 710;\n",
            "iterated 720;\n",
            "iterated 730;\n",
            "iterated 740;\n",
            "iterated 750;\n",
            "iterated 760;\n",
            "iterated 770;\n",
            "iterated 780;\n",
            "iterated 790;\n",
            "iterated 800;\n",
            "iterated 810;\n",
            "iterated 820;\n",
            "iterated 830;\n",
            "iterated 840;\n",
            "iterated 850;\n",
            "iterated 860;\n",
            "iterated 870;\n",
            "iterated 880;\n",
            "iterated 890;\n",
            "iterated 900;\n",
            "iterated 910;\n",
            "iterated 920;\n",
            "iterated 930;\n",
            "iterated 940;\n",
            "iterated 950;\n",
            "iterated 960;\n",
            "iterated 970;\n",
            "iterated 980;\n",
            "iterated 990;\n",
            "iterated 1000;\n",
            "iterated 1010;\n",
            "iterated 1020;\n",
            "iterated 1030;\n",
            "iterated 1040;\n",
            "iterated 1050;\n",
            "iterated 1060;\n",
            "iterated 1070;\n",
            "iterated 1080;\n",
            "iterated 1090;\n",
            "iterated 1100;\n",
            "iterated 1110;\n",
            "iterated 1120;\n",
            "iterated 1130;\n",
            "iterated 1140;\n",
            "iterated 1150;\n",
            "iterated 1160;\n",
            "iterated 1170;\n",
            "iterated 1180;\n",
            "iterated 1190;\n",
            "iterated 1200;\n",
            "iterated 1210;\n",
            "iterated 1220;\n",
            "iterated 1230;\n",
            "iterated 1240;\n",
            "iterated 1250;\n",
            "iterated 1260;\n",
            "iterated 1270;\n",
            "iterated 1280;\n",
            "iterated 1290;\n",
            "iterated 1300;\n",
            "iterated 1310;\n",
            "iterated 1320;\n",
            "iterated 1330;\n",
            "iterated 1340;\n",
            "iterated 1350;\n",
            "iterated 1360;\n",
            "iterated 1370;\n",
            "iterated 1380;\n",
            "iterated 1390;\n",
            "iterated 1400;\n",
            "iterated 1410;\n",
            "iterated 1420;\n",
            "iterated 1430;\n",
            "iterated 1440;\n",
            "iterated 1450;\n",
            "iterated 1460;\n",
            "iterated 1470;\n",
            "iterated 1480;\n",
            "iterated 1490;\n",
            "iterated 1500;\n",
            "iterated 1510;\n",
            "iterated 1520;\n",
            "iterated 1530;\n",
            "iterated 1540;\n",
            "iterated 1550;\n",
            "iterated 1560;\n",
            "iterated 1570;\n",
            "iterated 1580;\n",
            "iterated 1590;\n",
            "iterated 1600;\n",
            "iterated 1610;\n",
            "iterated 1620;\n",
            "iterated 1630;\n",
            "iterated 1640;\n",
            "iterated 1650;\n",
            "iterated 1660;\n",
            "iterated 1670;\n",
            "iterated 1680;\n",
            "iterated 1690;\n",
            "iterated 1700;\n",
            "iterated 1710;\n",
            "iterated 1720;\n",
            "iterated 1730;\n",
            "iterated 1740;\n",
            "iterated 1750;\n",
            "iterated 1760;\n",
            "iterated 1770;\n",
            "iterated 1780;\n",
            "iterated 1790;\n",
            "iterated 1800;\n",
            "iterated 1810;\n",
            "iterated 1820;\n",
            "iterated 1830;\n",
            "iterated 1840;\n"
          ],
          "name": "stdout"
        }
      ]
    },
    {
      "cell_type": "code",
      "metadata": {
        "id": "uoSTvMv3-Bl9",
        "colab_type": "code",
        "outputId": "7ca86c75-d5ef-455e-8e1b-176c1b0e34a5",
        "colab": {
          "base_uri": "https://localhost:8080/",
          "height": 33
        }
      },
      "source": [
        "\n",
        "end_time = time.time()\n",
        "print('elapsed time is %f seconds' %(end_time - start_time))"
      ],
      "execution_count": 0,
      "outputs": [
        {
          "output_type": "stream",
          "text": [
            "elapsed time is 75.751363 seconds\n"
          ],
          "name": "stdout"
        }
      ]
    },
    {
      "cell_type": "code",
      "metadata": {
        "id": "xiyvqE3d_JPk",
        "colab_type": "code",
        "outputId": "245c80d0-2ad8-4372-cccd-f9970eecf24b",
        "colab": {
          "base_uri": "https://localhost:8080/",
          "height": 319
        }
      },
      "source": [
        "plt.plot(pde1.s_space, pde1.s_val, label = 'computed')\n",
        "\n",
        "exact_val = pde1.exact_sol(pde1.s_space)\n",
        "plt.plot(pde1.s_space, exact_val, label = 'exact')\n",
        "plt.legend()\n",
        "\n",
        "print('>>>iteration error is ' + str(err))\n",
        "print('>>>iter number is ' + str(n_iter))\n",
        "print('>>>max norm of error is ' + str(np.max(np.abs(pde1.s_val-exact_val))))\n"
      ],
      "execution_count": 0,
      "outputs": [
        {
          "output_type": "stream",
          "text": [
            ">>>iteration error is 9.979652634051206e-06\n",
            ">>>iter number is 1841\n",
            ">>>max norm of error is 0.0033007005900965725\n"
          ],
          "name": "stdout"
        },
        {
          "output_type": "display_data",
          "data": {
            "image/png": "[encoded data removed]",
            "text/plain": [
              "<Figure size 432x288 with 1 Axes>"
            ]
          },
          "metadata": {
            "tags": []
          }
        }
      ]
    },
    {
      "cell_type": "code",
      "metadata": {
        "id": "h4sQ33Igk9NT",
        "colab_type": "code",
        "outputId": "89f3588c-58f7-4540-fc8b-cba72413b60e",
        "colab": {
          "base_uri": "https://localhost:8080/",
          "height": 1000
        }
      },
      "source": [
        "pde1 = pde()\n",
        "pde1.mdp_space_config(NUM=40) #if NUM is chosen to be 20 or bigger number, the result is bad\n",
        "err, n_iter = pde1.value_iter(TOL = 0.0001, MAX_ITER = 3000)"
      ],
      "execution_count": 0,
      "outputs": [
        {
          "output_type": "stream",
          "text": [
            ">>>>> q_table size is 3321\n",
            "iterated 10;\n",
            "iterated 20;\n",
            "iterated 30;\n",
            "iterated 40;\n",
            "iterated 50;\n",
            "iterated 60;\n",
            "iterated 70;\n",
            "iterated 80;\n",
            "iterated 90;\n",
            "iterated 100;\n",
            "iterated 110;\n",
            "iterated 120;\n",
            "iterated 130;\n",
            "iterated 140;\n",
            "iterated 150;\n",
            "iterated 160;\n",
            "iterated 170;\n",
            "iterated 180;\n",
            "iterated 190;\n",
            "iterated 200;\n",
            "iterated 210;\n",
            "iterated 220;\n",
            "iterated 230;\n",
            "iterated 240;\n",
            "iterated 250;\n",
            "iterated 260;\n",
            "iterated 270;\n",
            "iterated 280;\n",
            "iterated 290;\n",
            "iterated 300;\n",
            "iterated 310;\n",
            "iterated 320;\n",
            "iterated 330;\n",
            "iterated 340;\n",
            "iterated 350;\n",
            "iterated 360;\n",
            "iterated 370;\n",
            "iterated 380;\n",
            "iterated 390;\n",
            "iterated 400;\n",
            "iterated 410;\n",
            "iterated 420;\n",
            "iterated 430;\n",
            "iterated 440;\n",
            "iterated 450;\n",
            "iterated 460;\n",
            "iterated 470;\n",
            "iterated 480;\n",
            "iterated 490;\n",
            "iterated 500;\n",
            "iterated 510;\n",
            "iterated 520;\n",
            "iterated 530;\n",
            "iterated 540;\n",
            "iterated 550;\n",
            "iterated 560;\n",
            "iterated 570;\n",
            "iterated 580;\n",
            "iterated 590;\n",
            "iterated 600;\n"
          ],
          "name": "stdout"
        }
      ]
    },
    {
      "cell_type": "code",
      "metadata": {
        "id": "WaB441oq7Yef",
        "colab_type": "code",
        "outputId": "e82b8b27-37cf-458e-aeef-0845af5d1245",
        "colab": {
          "base_uri": "https://localhost:8080/",
          "height": 319
        }
      },
      "source": [
        "plt.plot(pde1.s_space, pde1.s_val, label = 'computed')\n",
        "\n",
        "exact_val = pde1.exact_sol(pde1.s_space)\n",
        "plt.plot(pde1.s_space, exact_val, label = 'exact')\n",
        "plt.legend()\n",
        "\n",
        "print('>>>iteration error is ' + str(err))\n",
        "print('>>>iter number is ' + str(n_iter))\n",
        "print('>>>max norm of error is ' + str(np.max(np.abs(pde1.s_val-exact_val))))"
      ],
      "execution_count": 0,
      "outputs": [
        {
          "output_type": "stream",
          "text": [
            ">>>iteration error is 9.936393208798133e-05\n",
            ">>>iter number is 603\n",
            ">>>max norm of error is 0.014473709869712303\n"
          ],
          "name": "stdout"
        },
        {
          "output_type": "display_data",
          "data": {
            "image/png": "[encoded data removed]",
            "text/plain": [
              "<Figure size 432x288 with 1 Axes>"
            ]
          },
          "metadata": {
            "tags": []
          }
        }
      ]
    },
    {
      "cell_type": "code",
      "metadata": {
        "id": "w711BVnt7fUJ",
        "colab_type": "code",
        "outputId": "962cac4e-337b-478a-bfc2-6a75480d6ed0",
        "colab": {
          "base_uri": "https://localhost:8080/",
          "height": 702
        }
      },
      "source": [
        "pde1 = pde()\n",
        "pde1.mdp_space_config(NUM=30) #if NUM is chosen to be 20 or bigger number, the result is bad\n",
        "err, n_iter = pde1.value_iter(TOL = 0.0001, MAX_ITER = 3000)"
      ],
      "execution_count": 0,
      "outputs": [
        {
          "output_type": "stream",
          "text": [
            ">>>>> q_table size is 1952\n",
            "iterated 10;\n",
            "iterated 20;\n",
            "iterated 30;\n",
            "iterated 40;\n",
            "iterated 50;\n",
            "iterated 60;\n",
            "iterated 70;\n",
            "iterated 80;\n",
            "iterated 90;\n",
            "iterated 100;\n",
            "iterated 110;\n",
            "iterated 120;\n",
            "iterated 130;\n",
            "iterated 140;\n",
            "iterated 150;\n",
            "iterated 160;\n",
            "iterated 170;\n",
            "iterated 180;\n",
            "iterated 190;\n",
            "iterated 200;\n",
            "iterated 210;\n",
            "iterated 220;\n",
            "iterated 230;\n",
            "iterated 240;\n",
            "iterated 250;\n",
            "iterated 260;\n",
            "iterated 270;\n",
            "iterated 280;\n",
            "iterated 290;\n",
            "iterated 300;\n",
            "iterated 310;\n",
            "iterated 320;\n",
            "iterated 330;\n",
            "iterated 340;\n",
            "iterated 350;\n",
            "iterated 360;\n",
            "iterated 370;\n",
            "iterated 380;\n",
            "iterated 390;\n",
            "iterated 400;\n"
          ],
          "name": "stdout"
        }
      ]
    },
    {
      "cell_type": "code",
      "metadata": {
        "id": "hQGSJwVk7kxA",
        "colab_type": "code",
        "outputId": "96640a95-45e2-4ecc-f21b-8466547f5d92",
        "colab": {
          "base_uri": "https://localhost:8080/",
          "height": 319
        }
      },
      "source": [
        "plt.plot(pde1.s_space, pde1.s_val, label = 'computed')\n",
        "\n",
        "exact_val = pde1.exact_sol(pde1.s_space)\n",
        "plt.plot(pde1.s_space, exact_val, label = 'exact')\n",
        "plt.legend()\n",
        "\n",
        "print('>>>iteration error is ' + str(err))\n",
        "print('>>>iter number is ' + str(n_iter))\n",
        "print('>>>max norm of error is ' + str(np.max(np.abs(pde1.s_val-exact_val))))"
      ],
      "execution_count": 0,
      "outputs": [
        {
          "output_type": "stream",
          "text": [
            ">>>iteration error is 9.892090254515207e-05\n",
            ">>>iter number is 407\n",
            ">>>max norm of error is 0.008620113333681512\n"
          ],
          "name": "stdout"
        },
        {
          "output_type": "display_data",
          "data": {
            "image/png": "[encoded data removed]",
            "text/plain": [
              "<Figure size 432x288 with 1 Axes>"
            ]
          },
          "metadata": {
            "tags": []
          }
        }
      ]
    }
  ]
}